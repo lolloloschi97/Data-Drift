{
 "cells": [
  {
   "cell_type": "code",
   "execution_count": null,
   "outputs": [],
   "source": [
    "import matplotlib.pyplot as plt\n",
    "import numpy as np\n",
    "import pandas as pd\n",
    "import matplotlib.pyplot as plt\n",
    "from model_train import *\n",
    "from torch.optim import SGD,Adam\n",
    "from torch.optim import lr_scheduler\n",
    "from sklearn.preprocessing import OneHotEncoder\n",
    "from sklearn.model_selection import train_test_split\n",
    "from tensorflow import keras"
   ],
   "metadata": {
    "collapsed": false,
    "pycharm": {
     "name": "#%%\n"
    }
   }
  },
  {
   "cell_type": "code",
   "execution_count": 3,
   "outputs": [],
   "source": [
    "def build_model():\n",
    "    model = keras.Sequential()\n",
    "    model.add(keras.layers.Dense(1024, kernel_regularizer = 'l2', activation = 'relu', input_shape=(1*18,)))\n",
    "    model.add(keras.layers.Dense(512, activation='relu'))\n",
    "    model.add(keras.layers.Dense(256, activation='relu'))\n",
    "    model.add(keras.layers.Dense(128, activation='relu'))\n",
    "    model.add(keras.layers.Dense(64, activation='relu'))\n",
    "    model.add(keras.layers.Dense(1))\n",
    "\n",
    "    model.compile(optimizer='adam',\n",
    "                  loss='msle',\n",
    "                  metrics=['mae', 'msle'])\n",
    "    return model"
   ],
   "metadata": {
    "collapsed": false,
    "pycharm": {
     "name": "#%%\n"
    }
   }
  },
  {
   "cell_type": "code",
   "execution_count": 4,
   "outputs": [
    {
     "ename": "FileNotFoundError",
     "evalue": "[Errno 2] No such file or directory: 'C:\\\\Users\\\\39320\\\\Progetti\\\\bike\\\\dataset\\\\mae_drop.feather'",
     "output_type": "error",
     "traceback": [
      "\u001B[1;31m---------------------------------------------------------------------------\u001B[0m",
      "\u001B[1;31mFileNotFoundError\u001B[0m                         Traceback (most recent call last)",
      "Input \u001B[1;32mIn [4]\u001B[0m, in \u001B[0;36m<cell line: 1>\u001B[1;34m()\u001B[0m\n\u001B[1;32m----> 1\u001B[0m df \u001B[38;5;241m=\u001B[39m \u001B[43mpd\u001B[49m\u001B[38;5;241;43m.\u001B[39;49m\u001B[43mread_feather\u001B[49m\u001B[43m(\u001B[49m\u001B[43mos\u001B[49m\u001B[38;5;241;43m.\u001B[39;49m\u001B[43mpath\u001B[49m\u001B[38;5;241;43m.\u001B[39;49m\u001B[43mjoin\u001B[49m\u001B[43m(\u001B[49m\u001B[43mDATA_DIR\u001B[49m\u001B[43m,\u001B[49m\u001B[38;5;124;43m'\u001B[39;49m\u001B[38;5;124;43mmae_drop.feather\u001B[39;49m\u001B[38;5;124;43m'\u001B[39;49m\u001B[43m)\u001B[49m\u001B[43m)\u001B[49m\n",
      "File \u001B[1;32mc:\\users\\39320\\netlov\\lib\\site-packages\\pandas\\io\\feather_format.py:126\u001B[0m, in \u001B[0;36mread_feather\u001B[1;34m(path, columns, use_threads, storage_options)\u001B[0m\n\u001B[0;32m    123\u001B[0m import_optional_dependency(\u001B[38;5;124m\"\u001B[39m\u001B[38;5;124mpyarrow\u001B[39m\u001B[38;5;124m\"\u001B[39m)\n\u001B[0;32m    124\u001B[0m \u001B[38;5;28;01mfrom\u001B[39;00m \u001B[38;5;21;01mpyarrow\u001B[39;00m \u001B[38;5;28;01mimport\u001B[39;00m feather\n\u001B[1;32m--> 126\u001B[0m \u001B[38;5;28;01mwith\u001B[39;00m \u001B[43mget_handle\u001B[49m\u001B[43m(\u001B[49m\n\u001B[0;32m    127\u001B[0m \u001B[43m    \u001B[49m\u001B[43mpath\u001B[49m\u001B[43m,\u001B[49m\u001B[43m \u001B[49m\u001B[38;5;124;43m\"\u001B[39;49m\u001B[38;5;124;43mrb\u001B[39;49m\u001B[38;5;124;43m\"\u001B[39;49m\u001B[43m,\u001B[49m\u001B[43m \u001B[49m\u001B[43mstorage_options\u001B[49m\u001B[38;5;241;43m=\u001B[39;49m\u001B[43mstorage_options\u001B[49m\u001B[43m,\u001B[49m\u001B[43m \u001B[49m\u001B[43mis_text\u001B[49m\u001B[38;5;241;43m=\u001B[39;49m\u001B[38;5;28;43;01mFalse\u001B[39;49;00m\n\u001B[0;32m    128\u001B[0m \u001B[43m\u001B[49m\u001B[43m)\u001B[49m \u001B[38;5;28;01mas\u001B[39;00m handles:\n\u001B[0;32m    130\u001B[0m     \u001B[38;5;28;01mreturn\u001B[39;00m feather\u001B[38;5;241m.\u001B[39mread_feather(\n\u001B[0;32m    131\u001B[0m         handles\u001B[38;5;241m.\u001B[39mhandle, columns\u001B[38;5;241m=\u001B[39mcolumns, use_threads\u001B[38;5;241m=\u001B[39m\u001B[38;5;28mbool\u001B[39m(use_threads)\n\u001B[0;32m    132\u001B[0m     )\n",
      "File \u001B[1;32mc:\\users\\39320\\netlov\\lib\\site-packages\\pandas\\io\\common.py:710\u001B[0m, in \u001B[0;36mget_handle\u001B[1;34m(path_or_buf, mode, encoding, compression, memory_map, is_text, errors, storage_options)\u001B[0m\n\u001B[0;32m    701\u001B[0m         handle \u001B[38;5;241m=\u001B[39m \u001B[38;5;28mopen\u001B[39m(\n\u001B[0;32m    702\u001B[0m             handle,\n\u001B[0;32m    703\u001B[0m             ioargs\u001B[38;5;241m.\u001B[39mmode,\n\u001B[1;32m   (...)\u001B[0m\n\u001B[0;32m    706\u001B[0m             newline\u001B[38;5;241m=\u001B[39m\u001B[38;5;124m\"\u001B[39m\u001B[38;5;124m\"\u001B[39m,\n\u001B[0;32m    707\u001B[0m         )\n\u001B[0;32m    708\u001B[0m     \u001B[38;5;28;01melse\u001B[39;00m:\n\u001B[0;32m    709\u001B[0m         \u001B[38;5;66;03m# Binary mode\u001B[39;00m\n\u001B[1;32m--> 710\u001B[0m         handle \u001B[38;5;241m=\u001B[39m \u001B[38;5;28;43mopen\u001B[39;49m\u001B[43m(\u001B[49m\u001B[43mhandle\u001B[49m\u001B[43m,\u001B[49m\u001B[43m \u001B[49m\u001B[43mioargs\u001B[49m\u001B[38;5;241;43m.\u001B[39;49m\u001B[43mmode\u001B[49m\u001B[43m)\u001B[49m\n\u001B[0;32m    711\u001B[0m     handles\u001B[38;5;241m.\u001B[39mappend(handle)\n\u001B[0;32m    713\u001B[0m \u001B[38;5;66;03m# Convert BytesIO or file objects passed with an encoding\u001B[39;00m\n",
      "\u001B[1;31mFileNotFoundError\u001B[0m: [Errno 2] No such file or directory: 'C:\\\\Users\\\\39320\\\\Progetti\\\\bike\\\\dataset\\\\mae_drop.feather'"
     ]
    }
   ],
   "source": [
    "df = pd.read_feather(os.path.join(DATA_DIR,'mae_drop.feather'))\n"
   ],
   "metadata": {
    "collapsed": false,
    "pycharm": {
     "name": "#%%\n"
    }
   }
  },
  {
   "cell_type": "code",
   "execution_count": 48,
   "outputs": [],
   "source": [
    "encoder = OneHotEncoder(handle_unknown='ignore',sparse=False)\n",
    "temp = pd.DataFrame(encoder.fit_transform(df['step'].values.reshape(-1,1)), columns = ['step'+str(el) for el in range(1,15)])\n",
    "df_encoded = df.drop('step', axis = 1).merge(temp, left_index = True, right_index=True)"
   ],
   "metadata": {
    "collapsed": false,
    "pycharm": {
     "name": "#%%\n"
    }
   }
  },
  {
   "cell_type": "code",
   "execution_count": 73,
   "outputs": [
    {
     "name": "stderr",
     "output_type": "stream",
     "text": [
      "C:\\Users\\39320\\AppData\\Local\\Temp\\ipykernel_17496\\1082319244.py:1: FutureWarning: Dropping of nuisance columns in DataFrame reductions (with 'numeric_only=None') is deprecated; in a future version this will raise TypeError.  Select only valid columns before calling the reduction.\n",
      "  mean = df_encoded.mean(axis = 0)[['mae','dropout']].values # [mae_mean, dropout_mean]\n",
      "C:\\Users\\39320\\AppData\\Local\\Temp\\ipykernel_17496\\1082319244.py:2: FutureWarning: Dropping of nuisance columns in DataFrame reductions (with 'numeric_only=None') is deprecated; in a future version this will raise TypeError.  Select only valid columns before calling the reduction.\n",
      "  var = df_encoded.var(axis = 0)[['mae','dropout']].values # [mae_var, dropout_var]\n"
     ]
    }
   ],
   "source": [
    "mean = df_encoded.mean(axis = 0)[['mae','dropout']].values # [mae_mean, dropout_mean]\n",
    "var = df_encoded.var(axis = 0)[['mae','dropout']].values # [mae_var, dropout_var]\n",
    "df_encoded['mae'] = (df_encoded['mae'] - mean[0])/var[0]\n",
    "df_encoded['dropout'] = (df_encoded['dropout'] - mean[1])/var[1]"
   ],
   "metadata": {
    "collapsed": false,
    "pycharm": {
     "name": "#%%\n"
    }
   }
  },
  {
   "cell_type": "code",
   "execution_count": 68,
   "outputs": [],
   "source": [
    "train,test = train_test_split(df_encoded,test_size = 0.3, random_state = 1)\n",
    "train_dataset = MaeDataset(train)\n",
    "test_dataset = MaeDataset(test)\n",
    "\n",
    "train_loader=DataLoader(train_dataset,batch_size = 32,shuffle=False)\n",
    "test_loader=DataLoader(test_dataset,batch_size = 32,shuffle=False)"
   ],
   "metadata": {
    "collapsed": false,
    "pycharm": {
     "name": "#%%\n"
    }
   }
  },
  {
   "cell_type": "code",
   "execution_count": 69,
   "outputs": [],
   "source": [
    "# model's parameters\n",
    "lr = 0.05\n",
    "num_epochs = 30\n",
    "log_interval = 100\n",
    "\n",
    "# model\n",
    "model = MLP(15,200,15)\n",
    "\n",
    "# Optimization\n",
    "optimizer = Adam(model.parameters(), lr = lr, weight_decay = 0.0001)\n",
    "# Learning Rate schedule\n",
    "scheduler = lr_scheduler.StepLR(optimizer, step_size = 10, gamma=0.5)"
   ],
   "metadata": {
    "collapsed": false,
    "pycharm": {
     "name": "#%%\n"
    }
   }
  },
  {
   "cell_type": "code",
   "execution_count": 58,
   "outputs": [
    {
     "data": {
      "text/plain": "           dropout  step1  step2  step3  step4  step5  step6  step7  step8  \\\n4704  2.398107e+01    0.0    0.0    0.0    0.0    0.0    0.0    0.0    0.0   \n5570  8.890094e+01    0.0    0.0    0.0    0.0    0.0    0.0    0.0    0.0   \n250   3.158635e+02    1.0    0.0    0.0    0.0    0.0    0.0    0.0    0.0   \n1727  3.923048e+02    0.0    0.0    0.0    0.0    1.0    0.0    0.0    0.0   \n2610  9.352842e+02    0.0    0.0    0.0    0.0    0.0    0.0    1.0    0.0   \n...            ...    ...    ...    ...    ...    ...    ...    ...    ...   \n2139  2.621893e+02    0.0    0.0    0.0    0.0    0.0    1.0    0.0    0.0   \n5061  2.403092e+06    0.0    0.0    0.0    0.0    0.0    0.0    0.0    0.0   \n1542  2.445182e+01    0.0    0.0    0.0    1.0    0.0    0.0    0.0    0.0   \n2991  2.446136e+02    0.0    0.0    0.0    0.0    0.0    0.0    0.0    1.0   \n1433  7.957508e+00    0.0    0.0    0.0    1.0    0.0    0.0    0.0    0.0   \n\n      step9  step10  step11  step12  step13  step14  \n4704    0.0     0.0     0.0     1.0     0.0     0.0  \n5570    0.0     0.0     0.0     0.0     0.0     1.0  \n250     0.0     0.0     0.0     0.0     0.0     0.0  \n1727    0.0     0.0     0.0     0.0     0.0     0.0  \n2610    0.0     0.0     0.0     0.0     0.0     0.0  \n...     ...     ...     ...     ...     ...     ...  \n2139    0.0     0.0     0.0     0.0     0.0     0.0  \n5061    0.0     0.0     0.0     0.0     1.0     0.0  \n1542    0.0     0.0     0.0     0.0     0.0     0.0  \n2991    0.0     0.0     0.0     0.0     0.0     0.0  \n1433    0.0     0.0     0.0     0.0     0.0     0.0  \n\n[1680 rows x 15 columns]",
      "text/html": "<div>\n<style scoped>\n    .dataframe tbody tr th:only-of-type {\n        vertical-align: middle;\n    }\n\n    .dataframe tbody tr th {\n        vertical-align: top;\n    }\n\n    .dataframe thead th {\n        text-align: right;\n    }\n</style>\n<table border=\"1\" class=\"dataframe\">\n  <thead>\n    <tr style=\"text-align: right;\">\n      <th></th>\n      <th>dropout</th>\n      <th>step1</th>\n      <th>step2</th>\n      <th>step3</th>\n      <th>step4</th>\n      <th>step5</th>\n      <th>step6</th>\n      <th>step7</th>\n      <th>step8</th>\n      <th>step9</th>\n      <th>step10</th>\n      <th>step11</th>\n      <th>step12</th>\n      <th>step13</th>\n      <th>step14</th>\n    </tr>\n  </thead>\n  <tbody>\n    <tr>\n      <th>4704</th>\n      <td>2.398107e+01</td>\n      <td>0.0</td>\n      <td>0.0</td>\n      <td>0.0</td>\n      <td>0.0</td>\n      <td>0.0</td>\n      <td>0.0</td>\n      <td>0.0</td>\n      <td>0.0</td>\n      <td>0.0</td>\n      <td>0.0</td>\n      <td>0.0</td>\n      <td>1.0</td>\n      <td>0.0</td>\n      <td>0.0</td>\n    </tr>\n    <tr>\n      <th>5570</th>\n      <td>8.890094e+01</td>\n      <td>0.0</td>\n      <td>0.0</td>\n      <td>0.0</td>\n      <td>0.0</td>\n      <td>0.0</td>\n      <td>0.0</td>\n      <td>0.0</td>\n      <td>0.0</td>\n      <td>0.0</td>\n      <td>0.0</td>\n      <td>0.0</td>\n      <td>0.0</td>\n      <td>0.0</td>\n      <td>1.0</td>\n    </tr>\n    <tr>\n      <th>250</th>\n      <td>3.158635e+02</td>\n      <td>1.0</td>\n      <td>0.0</td>\n      <td>0.0</td>\n      <td>0.0</td>\n      <td>0.0</td>\n      <td>0.0</td>\n      <td>0.0</td>\n      <td>0.0</td>\n      <td>0.0</td>\n      <td>0.0</td>\n      <td>0.0</td>\n      <td>0.0</td>\n      <td>0.0</td>\n      <td>0.0</td>\n    </tr>\n    <tr>\n      <th>1727</th>\n      <td>3.923048e+02</td>\n      <td>0.0</td>\n      <td>0.0</td>\n      <td>0.0</td>\n      <td>0.0</td>\n      <td>1.0</td>\n      <td>0.0</td>\n      <td>0.0</td>\n      <td>0.0</td>\n      <td>0.0</td>\n      <td>0.0</td>\n      <td>0.0</td>\n      <td>0.0</td>\n      <td>0.0</td>\n      <td>0.0</td>\n    </tr>\n    <tr>\n      <th>2610</th>\n      <td>9.352842e+02</td>\n      <td>0.0</td>\n      <td>0.0</td>\n      <td>0.0</td>\n      <td>0.0</td>\n      <td>0.0</td>\n      <td>0.0</td>\n      <td>1.0</td>\n      <td>0.0</td>\n      <td>0.0</td>\n      <td>0.0</td>\n      <td>0.0</td>\n      <td>0.0</td>\n      <td>0.0</td>\n      <td>0.0</td>\n    </tr>\n    <tr>\n      <th>...</th>\n      <td>...</td>\n      <td>...</td>\n      <td>...</td>\n      <td>...</td>\n      <td>...</td>\n      <td>...</td>\n      <td>...</td>\n      <td>...</td>\n      <td>...</td>\n      <td>...</td>\n      <td>...</td>\n      <td>...</td>\n      <td>...</td>\n      <td>...</td>\n      <td>...</td>\n    </tr>\n    <tr>\n      <th>2139</th>\n      <td>2.621893e+02</td>\n      <td>0.0</td>\n      <td>0.0</td>\n      <td>0.0</td>\n      <td>0.0</td>\n      <td>0.0</td>\n      <td>1.0</td>\n      <td>0.0</td>\n      <td>0.0</td>\n      <td>0.0</td>\n      <td>0.0</td>\n      <td>0.0</td>\n      <td>0.0</td>\n      <td>0.0</td>\n      <td>0.0</td>\n    </tr>\n    <tr>\n      <th>5061</th>\n      <td>2.403092e+06</td>\n      <td>0.0</td>\n      <td>0.0</td>\n      <td>0.0</td>\n      <td>0.0</td>\n      <td>0.0</td>\n      <td>0.0</td>\n      <td>0.0</td>\n      <td>0.0</td>\n      <td>0.0</td>\n      <td>0.0</td>\n      <td>0.0</td>\n      <td>0.0</td>\n      <td>1.0</td>\n      <td>0.0</td>\n    </tr>\n    <tr>\n      <th>1542</th>\n      <td>2.445182e+01</td>\n      <td>0.0</td>\n      <td>0.0</td>\n      <td>0.0</td>\n      <td>1.0</td>\n      <td>0.0</td>\n      <td>0.0</td>\n      <td>0.0</td>\n      <td>0.0</td>\n      <td>0.0</td>\n      <td>0.0</td>\n      <td>0.0</td>\n      <td>0.0</td>\n      <td>0.0</td>\n      <td>0.0</td>\n    </tr>\n    <tr>\n      <th>2991</th>\n      <td>2.446136e+02</td>\n      <td>0.0</td>\n      <td>0.0</td>\n      <td>0.0</td>\n      <td>0.0</td>\n      <td>0.0</td>\n      <td>0.0</td>\n      <td>0.0</td>\n      <td>1.0</td>\n      <td>0.0</td>\n      <td>0.0</td>\n      <td>0.0</td>\n      <td>0.0</td>\n      <td>0.0</td>\n      <td>0.0</td>\n    </tr>\n    <tr>\n      <th>1433</th>\n      <td>7.957508e+00</td>\n      <td>0.0</td>\n      <td>0.0</td>\n      <td>0.0</td>\n      <td>1.0</td>\n      <td>0.0</td>\n      <td>0.0</td>\n      <td>0.0</td>\n      <td>0.0</td>\n      <td>0.0</td>\n      <td>0.0</td>\n      <td>0.0</td>\n      <td>0.0</td>\n      <td>0.0</td>\n      <td>0.0</td>\n    </tr>\n  </tbody>\n</table>\n<p>1680 rows × 15 columns</p>\n</div>"
     },
     "execution_count": 58,
     "metadata": {},
     "output_type": "execute_result"
    }
   ],
   "source": [
    "test.iloc[:,2:]"
   ],
   "metadata": {
    "collapsed": false,
    "pycharm": {
     "name": "#%%\n"
    }
   }
  },
  {
   "cell_type": "code",
   "execution_count": 74,
   "outputs": [
    {
     "name": "stderr",
     "output_type": "stream",
     "text": [
      "c:\\users\\39320\\netlov\\lib\\site-packages\\torch\\nn\\modules\\loss.py:528: UserWarning: Using a target size (torch.Size([32])) that is different to the input size (torch.Size([32, 1])). This will likely lead to incorrect results due to broadcasting. Please ensure they have the same size.\n",
      "  return F.mse_loss(input, target, reduction=self.reduction)\n",
      "c:\\users\\39320\\netlov\\lib\\site-packages\\torch\\nn\\modules\\loss.py:528: UserWarning: Using a target size (torch.Size([16])) that is different to the input size (torch.Size([16, 1])). This will likely lead to incorrect results due to broadcasting. Please ensure they have the same size.\n",
      "  return F.mse_loss(input, target, reduction=self.reduction)\n"
     ]
    },
    {
     "name": "stdout",
     "output_type": "stream",
     "text": [
      "Epoch: 1  Lr: 0.00625000  Loss: Train = [0.0004] - Val = [0.0000]  MAE: Train = [0.02] - Val = [0.02]  Time one epoch (s): 6.6684 \n",
      "Epoch: 2  Lr: 0.00625000  Loss: Train = [0.0004] - Val = [0.0000]  MAE: Train = [0.02] - Val = [0.02]  Time one epoch (s): 6.2050 \n",
      "Epoch: 3  Lr: 0.00625000  Loss: Train = [0.0004] - Val = [0.0000]  MAE: Train = [0.02] - Val = [0.02]  Time one epoch (s): 6.2339 \n",
      "Epoch: 4  Lr: 0.00625000  Loss: Train = [0.0004] - Val = [0.0000]  MAE: Train = [0.02] - Val = [0.02]  Time one epoch (s): 6.4431 \n",
      "Epoch: 5  Lr: 0.00625000  Loss: Train = [0.0004] - Val = [0.0000]  MAE: Train = [0.02] - Val = [0.02]  Time one epoch (s): 6.6145 \n",
      "Epoch: 6  Lr: 0.00625000  Loss: Train = [0.0004] - Val = [0.0000]  MAE: Train = [0.02] - Val = [0.02]  Time one epoch (s): 7.0864 \n",
      "Epoch: 7  Lr: 0.00625000  Loss: Train = [0.0004] - Val = [0.0000]  MAE: Train = [0.02] - Val = [0.02]  Time one epoch (s): 6.7274 \n",
      "Epoch: 8  Lr: 0.00625000  Loss: Train = [0.0004] - Val = [0.0000]  MAE: Train = [0.02] - Val = [0.02]  Time one epoch (s): 8.2266 \n",
      "Epoch: 9  Lr: 0.00625000  Loss: Train = [0.0004] - Val = [0.0000]  MAE: Train = [0.02] - Val = [0.02]  Time one epoch (s): 7.6057 \n",
      "Epoch: 10  Lr: 0.00625000  Loss: Train = [0.0004] - Val = [0.0000]  MAE: Train = [0.02] - Val = [0.02]  Time one epoch (s): 7.9095 \n",
      "Epoch: 11  Lr: 0.00312500  Loss: Train = [0.0004] - Val = [0.0000]  MAE: Train = [0.02] - Val = [0.02]  Time one epoch (s): 6.6404 \n",
      "Epoch: 12  Lr: 0.00312500  Loss: Train = [0.0004] - Val = [0.0000]  MAE: Train = [0.02] - Val = [0.02]  Time one epoch (s): 9.6882 \n",
      "Epoch: 13  Lr: 0.00312500  Loss: Train = [0.0004] - Val = [0.0000]  MAE: Train = [0.02] - Val = [0.02]  Time one epoch (s): 8.7414 \n",
      "Epoch: 14  Lr: 0.00312500  Loss: Train = [0.0004] - Val = [0.0000]  MAE: Train = [0.02] - Val = [0.02]  Time one epoch (s): 9.8340 \n",
      "Epoch: 15  Lr: 0.00312500  Loss: Train = [0.0004] - Val = [0.0000]  MAE: Train = [0.02] - Val = [0.02]  Time one epoch (s): 6.6177 \n",
      "Epoch: 16  Lr: 0.00312500  Loss: Train = [0.0004] - Val = [0.0000]  MAE: Train = [0.02] - Val = [0.02]  Time one epoch (s): 6.6863 \n",
      "Epoch: 17  Lr: 0.00312500  Loss: Train = [0.0004] - Val = [0.0000]  MAE: Train = [0.02] - Val = [0.02]  Time one epoch (s): 6.2982 \n",
      "Epoch: 18  Lr: 0.00312500  Loss: Train = [0.0004] - Val = [0.0000]  MAE: Train = [0.02] - Val = [0.02]  Time one epoch (s): 6.2688 \n",
      "Epoch: 19  Lr: 0.00312500  Loss: Train = [0.0004] - Val = [0.0000]  MAE: Train = [0.02] - Val = [0.02]  Time one epoch (s): 6.6533 \n",
      "Epoch: 20  Lr: 0.00312500  Loss: Train = [0.0004] - Val = [0.0000]  MAE: Train = [0.02] - Val = [0.02]  Time one epoch (s): 6.2371 \n",
      "Epoch: 21  Lr: 0.00156250  Loss: Train = [0.0004] - Val = [0.0000]  MAE: Train = [0.02] - Val = [0.02]  Time one epoch (s): 7.6516 \n",
      "Epoch: 22  Lr: 0.00156250  Loss: Train = [0.0004] - Val = [0.0000]  MAE: Train = [0.02] - Val = [0.02]  Time one epoch (s): 6.4365 \n",
      "Epoch: 23  Lr: 0.00156250  Loss: Train = [0.0004] - Val = [0.0000]  MAE: Train = [0.02] - Val = [0.02]  Time one epoch (s): 6.4049 \n",
      "Epoch: 24  Lr: 0.00156250  Loss: Train = [0.0004] - Val = [0.0000]  MAE: Train = [0.02] - Val = [0.02]  Time one epoch (s): 6.5870 \n",
      "Epoch: 25  Lr: 0.00156250  Loss: Train = [0.0004] - Val = [0.0000]  MAE: Train = [0.02] - Val = [0.02]  Time one epoch (s): 6.4036 \n",
      "Epoch: 26  Lr: 0.00156250  Loss: Train = [0.0004] - Val = [0.0000]  MAE: Train = [0.02] - Val = [0.02]  Time one epoch (s): 6.3792 \n",
      "Epoch: 27  Lr: 0.00156250  Loss: Train = [0.0004] - Val = [0.0000]  MAE: Train = [0.02] - Val = [0.02]  Time one epoch (s): 6.2644 \n",
      "Epoch: 28  Lr: 0.00156250  Loss: Train = [0.0004] - Val = [0.0000]  MAE: Train = [0.02] - Val = [0.02]  Time one epoch (s): 6.3517 \n",
      "Epoch: 29  Lr: 0.00156250  Loss: Train = [0.0004] - Val = [0.0000]  MAE: Train = [0.02] - Val = [0.02]  Time one epoch (s): 6.2580 \n",
      "Epoch: 30  Lr: 0.00156250  Loss: Train = [0.0004] - Val = [0.0000]  MAE: Train = [0.02] - Val = [0.02]  Time one epoch (s): 6.2236 \n",
      "Time for 30 epochs (s): 208.353\n"
     ]
    }
   ],
   "source": [
    "statistics = training_loop(num_epochs, optimizer, scheduler,\n",
    "                           log_interval, model, train_loader,\n",
    "                           test_loader)"
   ],
   "metadata": {
    "collapsed": false,
    "pycharm": {
     "name": "#%%\n"
    }
   }
  },
  {
   "cell_type": "code",
   "execution_count": 75,
   "outputs": [
    {
     "name": "stdout",
     "output_type": "stream",
     "text": [
      "Best val loss:  0.00043 epoch: 21.\n",
      " \n",
      "Best mae: 0.02104 epoch: 27\n"
     ]
    }
   ],
   "source": [
    "best_epoch_loss = np.argmin(statistics['loss_values_val']) + 1\n",
    "best_loss= statistics['loss_values_val'][best_epoch_loss - 1]\n",
    "\n",
    "best_epoch_mae = np.argmin(statistics['val_mae_values']) + 1\n",
    "best_mae= statistics['val_mae_values'][best_epoch_loss - 1]\n",
    "\n",
    "print(f'Best val loss: {best_loss: .5f} epoch: {best_epoch_loss}.\\n \\n'\n",
    "      f'Best mae: {best_mae:.5f} epoch: {best_epoch_mae}')"
   ],
   "metadata": {
    "collapsed": false,
    "pycharm": {
     "name": "#%%\n"
    }
   }
  },
  {
   "cell_type": "code",
   "execution_count": 76,
   "outputs": [
    {
     "name": "stderr",
     "output_type": "stream",
     "text": [
      "C:\\Users\\39320\\AppData\\Local\\Temp\\ipykernel_17496\\3850566496.py:8: UserWarning: To copy construct from a tensor, it is recommended to use sourceTensor.clone().detach() or sourceTensor.clone().detach().requires_grad_(True), rather than torch.tensor(sourceTensor).\n",
      "  y = torch.tensor(x,dtype=torch.float32)\n"
     ]
    },
    {
     "data": {
      "text/plain": "<Figure size 1080x360 with 1 Axes>",
      "image/png": "[encoded data removed]"
     },
     "metadata": {
      "needs_background": "light"
     },
     "output_type": "display_data"
    }
   ],
   "source": [
    "with torch.no_grad():\n",
    "    prediction = []\n",
    "    for el in range(len(test)):\n",
    "        x = test.iloc[el,2:]\n",
    "        y = test.iloc[el,1]\n",
    "\n",
    "        x = torch.tensor(x,dtype=torch.float32)\n",
    "        y = torch.tensor(x,dtype=torch.float32)\n",
    "\n",
    "        prediction.append(model(x).detach().numpy())\n",
    "\n",
    "res = pd.DataFrame([np.array(prediction).reshape(-1),test['mae'].values]).T\n",
    "res.rename(columns = {0:'pred',1:'real'}, inplace = True)\n",
    "res = res.apply(lambda x: x * var[0] + mean[0])\n",
    "\n",
    "plt.figure(figsize=(15,5))\n",
    "plt.scatter(list(res.index), res['real'], label = 'real')\n",
    "plt.scatter(list(res.index), res['pred'], label = 'pred')\n",
    "plt.legend()\n",
    "plt.show()"
   ],
   "metadata": {
    "collapsed": false,
    "pycharm": {
     "name": "#%%\n"
    }
   }
  },
  {
   "cell_type": "code",
   "execution_count": 77,
   "outputs": [
    {
     "data": {
      "text/plain": "              pred          real\n0     9.142441e-11 -2.043755e-09\n1     9.142441e-11 -2.046568e-09\n2     9.142441e-11 -2.015268e-09\n3     9.142441e-11 -1.697801e-09\n4     9.142441e-11 -2.026086e-09\n...            ...           ...\n1675  9.142441e-11 -1.959700e-09\n1676  9.142441e-11 -1.977075e-10\n1677  9.142441e-11 -2.048829e-09\n1678  9.142441e-11 -2.051797e-09\n1679  9.142441e-11 -2.051598e-09\n\n[1680 rows x 2 columns]",
      "text/html": "<div>\n<style scoped>\n    .dataframe tbody tr th:only-of-type {\n        vertical-align: middle;\n    }\n\n    .dataframe tbody tr th {\n        vertical-align: top;\n    }\n\n    .dataframe thead th {\n        text-align: right;\n    }\n</style>\n<table border=\"1\" class=\"dataframe\">\n  <thead>\n    <tr style=\"text-align: right;\">\n      <th></th>\n      <th>pred</th>\n      <th>real</th>\n    </tr>\n  </thead>\n  <tbody>\n    <tr>\n      <th>0</th>\n      <td>9.142441e-11</td>\n      <td>-2.043755e-09</td>\n    </tr>\n    <tr>\n      <th>1</th>\n      <td>9.142441e-11</td>\n      <td>-2.046568e-09</td>\n    </tr>\n    <tr>\n      <th>2</th>\n      <td>9.142441e-11</td>\n      <td>-2.015268e-09</td>\n    </tr>\n    <tr>\n      <th>3</th>\n      <td>9.142441e-11</td>\n      <td>-1.697801e-09</td>\n    </tr>\n    <tr>\n      <th>4</th>\n      <td>9.142441e-11</td>\n      <td>-2.026086e-09</td>\n    </tr>\n    <tr>\n      <th>...</th>\n      <td>...</td>\n      <td>...</td>\n    </tr>\n    <tr>\n      <th>1675</th>\n      <td>9.142441e-11</td>\n      <td>-1.959700e-09</td>\n    </tr>\n    <tr>\n      <th>1676</th>\n      <td>9.142441e-11</td>\n      <td>-1.977075e-10</td>\n    </tr>\n    <tr>\n      <th>1677</th>\n      <td>9.142441e-11</td>\n      <td>-2.048829e-09</td>\n    </tr>\n    <tr>\n      <th>1678</th>\n      <td>9.142441e-11</td>\n      <td>-2.051797e-09</td>\n    </tr>\n    <tr>\n      <th>1679</th>\n      <td>9.142441e-11</td>\n      <td>-2.051598e-09</td>\n    </tr>\n  </tbody>\n</table>\n<p>1680 rows × 2 columns</p>\n</div>"
     },
     "execution_count": 77,
     "metadata": {},
     "output_type": "execute_result"
    }
   ],
   "source": [
    "res"
   ],
   "metadata": {
    "collapsed": false,
    "pycharm": {
     "name": "#%%\n"
    }
   }
  }
 ],
 "metadata": {
  "kernelspec": {
   "display_name": "Python 3",
   "language": "python",
   "name": "python3"
  },
  "language_info": {
   "codemirror_mode": {
    "name": "ipython",
    "version": 2
   },
   "file_extension": ".py",
   "mimetype": "text/x-python",
   "name": "python",
   "nbconvert_exporter": "python",
   "pygments_lexer": "ipython2",
   "version": "2.7.6"
  }
 },
 "nbformat": 4,
 "nbformat_minor": 0
}