{
 "cells": [
  {
   "cell_type": "code",
   "execution_count": 84,
   "metadata": {
    "collapsed": true
   },
   "outputs": [],
   "source": [
    "import sys\n",
    "import psi\n",
    "import numpy as np\n",
    "import pandas as pd\n",
    "import torch\n",
    "import scipy\n",
    "from sklearn.metrics.cluster import contingency_matrix\n",
    "import json\n",
    "import optuna\n",
    "import seaborn as sns\n",
    "import matplotlib.pyplot as plt\n",
    "from statsmodels.stats.multitest import multipletests\n",
    "from save_metric import *\n",
    "from functools import partial\n",
    "from model_train import compute_prediction\n",
    "from VAE import *\n",
    "from torch.optim import Adam, lr_scheduler, RMSprop\n",
    "from tqdm import tqdm\n",
    "from sklearn.decomposition import PCA\n",
    "from sklearn.preprocessing import MinMaxScaler, StandardScaler\n",
    "from sklearn.model_selection import train_test_split\n",
    "from sklearn.metrics import classification_report"
   ]
  },
  {
   "cell_type": "code",
   "execution_count": 2,
   "outputs": [],
   "source": [
    "def get_error_term(v1, v2, _rmse=True):\n",
    "    if _rmse:\n",
    "        return np.sqrt(np.mean((v1 - v2) ** 2, axis=1))\n",
    "    #return MAE\n",
    "    return np.mean(abs(v1 - v2), axis=1)\n",
    "\n",
    "def build_model(params,in_features):\n",
    "\n",
    "    hidden_dim = params['hidden_dim']\n",
    "    hidden_channel = params['hidden_channels']\n",
    "    latent_dim = params['latent_dim']\n",
    "\n",
    "    enc = Vae_Encoder(in_features,hidden_dim,latent_dim,hidden_channel)\n",
    "    dec = Vae_Decoder(in_features,hidden_dim,latent_dim,hidden_channel)\n",
    "    model = Vae(enc,dec)\n",
    "\n",
    "    return model\n",
    "\n",
    "def train_and_evaluate(params,model,dataset_train,dataset_val, num_epoch, batch_size):\n",
    "\n",
    "    # Dataloader\n",
    "    train_dataloader = DataLoader(dataset_train,batch_size)\n",
    "    val_dataloader = DataLoader(dataset_val,batch_size)\n",
    "\n",
    "    # Betascheduler\n",
    "    betascheduler_start = params['betascheduler_start']\n",
    "    betascheduler_stop = params['betascheduler_stop']\n",
    "    betascheduler_ratio = params['betascheduler_ratio']\n",
    "    betascheduler_train = Betascheduler(num_epoch,len(train_dataloader), start = betascheduler_start , stop = betascheduler_stop, ratio = betascheduler_ratio )\n",
    "    betascheduler_val = Betascheduler(num_epoch,len(val_dataloader), start = betascheduler_start , stop = betascheduler_stop , ratio = betascheduler_ratio)\n",
    "\n",
    "    # Optimizer, loss, Lr scheduler\n",
    "    optimizer = getattr(torch.optim, params['optimizer'])(model.parameters(), lr= params['learning_rate'])\n",
    "    criterion = getattr(torch.nn, params['criterion'])(reduction = params['reduction'])\n",
    "\n",
    "    scheduler = lr_scheduler.StepLR(optimizer, step_size = num_epoch, gamma = 1 )\n",
    "\n",
    "\n",
    "\n",
    "    # Training\n",
    "    statistics = vae_training_loop(num_epoch, optimizer, scheduler,\n",
    "                                   model,\n",
    "                                   train_dataloader, val_dataloader, betascheduler_train, betascheduler_val,\n",
    "                                   strategy1 = params['strategy'], patience = 50, criterion = criterion)\n",
    "\n",
    "    mae_loss = statistics['loss_mae_val'][num_epoch -1]\n",
    "\n",
    "    return mae_loss.detach().numpy().reshape(-1,1)\n",
    "\n",
    "def objective(trial,dataset_train,dataset_val, in_features, num_epoch = 20, batch_size = 128):\n",
    "\n",
    "    params = {\n",
    "              'learning_rate': trial.suggest_loguniform('learning_rate', 1e-5, 1e-3),\n",
    "               'criterion': trial.suggest_categorical(\"criterion\", ['MSELoss','BCELoss']),\n",
    "               'reduction': trial.suggest_categorical(\"reduction\", ['sum','mean']),\n",
    "               'optimizer': trial.suggest_categorical(\"optimizer\", [\"Adam\", \"RMSprop\"]),\n",
    "               'strategy': trial.suggest_categorical(\"strategy\", [True,False]),\n",
    "               'hidden_dim': trial.suggest_int(\"hidden_dim\",50, 80),\n",
    "               'hidden_channels': trial.suggest_int(\"hidden_channels\", 1,4),\n",
    "               'latent_dim': trial.suggest_int(\"latent_dim\",20, 50),\n",
    "               'betascheduler_start': trial.suggest_float(\"betascheduler_start\",0.05,0.2),\n",
    "               'betascheduler_stop': trial.suggest_float(\"betascheduler_stop\",0.15,0.4),\n",
    "               'betascheduler_ratio': trial.suggest_float(\"betascheduler_ratio\",0.5,1.0)}\n",
    "\n",
    "    model = build_model(params, in_features)\n",
    "    mean_mae = train_and_evaluate(params, model, dataset_train,dataset_val,batch_size = batch_size, num_epoch = num_epoch)\n",
    "\n",
    "    return mean_mae\n",
    "\n",
    "\n"
   ],
   "metadata": {
    "collapsed": false,
    "pycharm": {
     "name": "#%%\n"
    }
   }
  },
  {
   "cell_type": "markdown",
   "source": [
    "import dataset"
   ],
   "metadata": {
    "collapsed": false
   }
  },
  {
   "cell_type": "code",
   "execution_count": 3,
   "outputs": [],
   "source": [
    "urls = [\n",
    "        \"http://kdd.ics.uci.edu/databases/kddcup99/kddcup.data_10_percent.gz\",\n",
    "        \"http://kdd.ics.uci.edu/databases/kddcup99/kddcup.names\"\n",
    "        ]"
   ],
   "metadata": {
    "collapsed": false,
    "pycharm": {
     "name": "#%%\n"
    }
   }
  },
  {
   "cell_type": "code",
   "execution_count": 4,
   "outputs": [],
   "source": [
    "# this pre-processing code of the KDD dataset is adapter from https://github.com/lironber/GOAD/blob/master/data_loader.py\n",
    "\n",
    "df_colnames = pd.read_csv(urls[1], skiprows=1, sep=':', names=['f_names', 'f_types']) # dataset contenente nome e type delle features (X)\n",
    "df_colnames.loc[df_colnames.shape[0]] = ['status', ' symbolic.'] # aggiungo a manazza la colonna y\n",
    "\n",
    "df = pd.read_csv(urls[0], header=None, names=df_colnames['f_names'].values) # dataset, + nomi colonne\n",
    "df_symbolic = df_colnames[df_colnames['f_types'].str.contains('symbolic.')] # estraggo i nomi delle colonne categoriche\n",
    "df_continuous = df_colnames[df_colnames['f_types'].str.contains('continuous.')] # estraggo i nomi delle colonne continue\n",
    "samples = pd.get_dummies(df.iloc[:, :-1], columns=df_symbolic['f_names'][:-1]) # dummizzo le colonne categoriche\n",
    "\n",
    "labels = np.where(df['status'] == 'normal.', 1, 0) # estraggo le labels (1 normale - 0 anomalia)"
   ],
   "metadata": {
    "collapsed": false,
    "pycharm": {
     "name": "#%%\n"
    }
   }
  },
  {
   "cell_type": "code",
   "execution_count": 6,
   "outputs": [
    {
     "data": {
      "text/plain": "(494021, 121)"
     },
     "execution_count": 6,
     "metadata": {},
     "output_type": "execute_result"
    }
   ],
   "source": [
    "samples.shape"
   ],
   "metadata": {
    "collapsed": false,
    "pycharm": {
     "name": "#%%\n"
    }
   }
  },
  {
   "cell_type": "markdown",
   "source": [
    "Preprocessing"
   ],
   "metadata": {
    "collapsed": false
   }
  },
  {
   "cell_type": "code",
   "execution_count": 12,
   "outputs": [],
   "source": [
    "scaler = MinMaxScaler()\n",
    "df_scaled = scaler.fit_transform(samples)"
   ],
   "metadata": {
    "collapsed": false,
    "pycharm": {
     "name": "#%%\n"
    }
   }
  },
  {
   "cell_type": "code",
   "execution_count": 13,
   "outputs": [
    {
     "data": {
      "text/plain": "Index(['duration', 'src_bytes', 'dst_bytes', 'wrong_fragment', 'urgent', 'hot',\n       'num_failed_logins', 'num_compromised', 'root_shell', 'su_attempted',\n       ...\n       'flag_S3', 'flag_SF', 'flag_SH', 'land_0', 'land_1', 'logged_in_0',\n       'logged_in_1', 'is_host_login_0', 'is_guest_login_0',\n       'is_guest_login_1'],\n      dtype='object', length=121)"
     },
     "execution_count": 13,
     "metadata": {},
     "output_type": "execute_result"
    }
   ],
   "source": [
    "samples.columns"
   ],
   "metadata": {
    "collapsed": false,
    "pycharm": {
     "name": "#%%\n"
    }
   }
  },
  {
   "cell_type": "code",
   "execution_count": 14,
   "outputs": [],
   "source": [
    "# X\n",
    "norm_samples = df_scaled[labels == 1]  # normal data\n",
    "attack_samples = df_scaled[labels == 0]  # attack data\n",
    "\n",
    "# y\n",
    "norm_labels = labels[labels == 1]\n",
    "attack_labels = labels[labels == 0]"
   ],
   "metadata": {
    "collapsed": false,
    "pycharm": {
     "name": "#%%\n"
    }
   }
  },
  {
   "cell_type": "code",
   "execution_count": 15,
   "outputs": [],
   "source": [
    "# generate train set\n",
    "# training set will consist of the normal ds\n",
    "len_norm = len(norm_samples) # 0.8 train\n",
    "len_norm_train = int(0.8 * len_norm)\n",
    "train = norm_samples[:len_norm_train]\n",
    "\n",
    "X_train, X_val = train_test_split(train,train_size = 0.7, random_state= 1)\n",
    "\n",
    "# generate test set consist of 50% attack and 50% normal\n",
    "\n",
    "X_test_norm = norm_samples[len_norm_train:]\n",
    "len_attack_test = len(X_test_norm) # we will use the same number\n",
    "X_test_attack = attack_samples[:len_attack_test]\n",
    "\n",
    "X_test = np.concatenate([X_test_norm, X_test_attack])\n",
    "y_test = np.ones(len(X_test))\n",
    "y_test[:len(X_test_norm)] = 0"
   ],
   "metadata": {
    "collapsed": false,
    "pycharm": {
     "name": "#%%\n"
    }
   }
  },
  {
   "cell_type": "code",
   "execution_count": 18,
   "outputs": [
    {
     "data": {
      "text/plain": "(38912, 121)"
     },
     "execution_count": 18,
     "metadata": {},
     "output_type": "execute_result"
    }
   ],
   "source": [
    "X_test.shape"
   ],
   "metadata": {
    "collapsed": false,
    "pycharm": {
     "name": "#%%\n"
    }
   }
  },
  {
   "cell_type": "markdown",
   "source": [
    "VAE"
   ],
   "metadata": {
    "collapsed": false
   }
  },
  {
   "cell_type": "code",
   "execution_count": 23,
   "outputs": [],
   "source": [
    "batch_size = 128\n",
    "\n",
    "train_dataset = VaeDataset(X_train)\n",
    "val_dataset = VaeDataset(X_val)\n",
    "test_dataset = VaeDataset(X_test)\n",
    "\n",
    "train_dataloader = DataLoader(train_dataset, batch_size)\n",
    "val_dataloader = DataLoader(val_dataset, batch_size)\n",
    "test_dataloader = DataLoader(test_dataset, batch_size)"
   ],
   "metadata": {
    "collapsed": false,
    "pycharm": {
     "name": "#%%\n"
    }
   }
  },
  {
   "cell_type": "code",
   "execution_count": 10,
   "outputs": [
    {
     "name": "stderr",
     "output_type": "stream",
     "text": [
      "\u001B[32m[I 2022-09-05 10:02:39,037]\u001B[0m A new study created in memory with name: no-name-9bd48ed6-28eb-4038-bd6d-a013f2a79b4d\u001B[0m\n",
      "\n",
      "KeyboardInterrupt\n",
      "\n"
     ]
    }
   ],
   "source": [
    "study = optuna.create_study(direction=\"minimize\", sampler=optuna.samplers.TPESampler())\n",
    "obj = partial(objective, dataset_train = train_dataset, dataset_val = val_dataset,in_features = 121, batch_size = batch_size, num_epoch = 10 )\n",
    "study.optimize(obj, n_trials=30)\n",
    "best_trial = study.best_trial"
   ],
   "metadata": {
    "collapsed": false,
    "pycharm": {
     "name": "#%%\n"
    }
   }
  },
  {
   "cell_type": "code",
   "execution_count": 16,
   "outputs": [
    {
     "ename": "NameError",
     "evalue": "name 'best_trial' is not defined",
     "output_type": "error",
     "traceback": [
      "\u001B[1;31m---------------------------------------------------------------------------\u001B[0m",
      "\u001B[1;31mNameError\u001B[0m                                 Traceback (most recent call last)",
      "Input \u001B[1;32mIn [16]\u001B[0m, in \u001B[0;36m<cell line: 1>\u001B[1;34m()\u001B[0m\n\u001B[1;32m----> 1\u001B[0m best_params \u001B[38;5;241m=\u001B[39m \u001B[43mbest_trial\u001B[49m\u001B[38;5;241m.\u001B[39mparams\n\u001B[0;32m      2\u001B[0m \u001B[38;5;28;01mfor\u001B[39;00m key, value \u001B[38;5;129;01min\u001B[39;00m best_trial\u001B[38;5;241m.\u001B[39mparams\u001B[38;5;241m.\u001B[39mitems():\n\u001B[0;32m      3\u001B[0m     \u001B[38;5;28mprint\u001B[39m(\u001B[38;5;124m\"\u001B[39m\u001B[38;5;132;01m{}\u001B[39;00m\u001B[38;5;124m: \u001B[39m\u001B[38;5;132;01m{}\u001B[39;00m\u001B[38;5;124m\"\u001B[39m\u001B[38;5;241m.\u001B[39mformat(key, value))\n",
      "\u001B[1;31mNameError\u001B[0m: name 'best_trial' is not defined"
     ]
    }
   ],
   "source": [
    "best_params = best_trial.params\n",
    "for key, value in best_trial.params.items():\n",
    "    print(\"{}: {}\".format(key, value))"
   ],
   "metadata": {
    "collapsed": false,
    "pycharm": {
     "name": "#%%\n"
    }
   }
  },
  {
   "cell_type": "code",
   "execution_count": 21,
   "outputs": [],
   "source": [
    "best_params = { \"learning_rate\": 0.000999463972609405,\n",
    "                \"criterion\": \"BCELoss\",\n",
    "                \"reduction\": \"sum\",\n",
    "                \"optimizer\": \"Adam\",\n",
    "                \"strategy\": True,\n",
    "                \"hidden_dim\": 50,\n",
    "                \"hidden_channels\": 1,\n",
    "                \"latent_dim\": 26,\n",
    "                \"betascheduler_start\": 0.16068076270721993,\n",
    "                \"betascheduler_stop\": 0.15266010487162998,\n",
    "                \"betascheduler_ratio\": 0.5180868656015378\n",
    "                }"
   ],
   "metadata": {
    "collapsed": false,
    "pycharm": {
     "name": "#%%\n"
    }
   }
  },
  {
   "cell_type": "code",
   "execution_count": 24,
   "outputs": [],
   "source": [
    "# model's parameters\n",
    "vae_lr = best_params['learning_rate'] #0.0002\n",
    "vae_num_epochs = 250\n",
    "strategy1 = best_params['strategy']\n",
    "start = best_params['betascheduler_start']\n",
    "stop = best_params['betascheduler_stop']\n",
    "ratio = best_params['betascheduler_ratio']\n",
    "\n",
    "# model initialization\n",
    "\n",
    "betascheduler_train = Betascheduler(vae_num_epochs,len(train_dataloader)+1, start = start, stop = stop, ratio = ratio )\n",
    "betascheduler_val = Betascheduler(vae_num_epochs,len(val_dataloader)+1, start = start, stop = stop, ratio = ratio)\n",
    "\n",
    "# Optimization\n",
    "criterion = getattr(torch.nn, best_params['criterion'])(reduction = best_params['reduction'])\n",
    "\n",
    "# model initialization\n",
    "vae = build_model(best_params,121)\n",
    "vae_optimizer = getattr(torch.optim, best_params['optimizer'])(vae.parameters(), lr = vae_lr)\n",
    "\n",
    "# Learning Rate schedule\n",
    "vae_scheduler = lr_scheduler.StepLR(vae_optimizer, step_size = vae_num_epochs, gamma = 1 )"
   ],
   "metadata": {
    "collapsed": false,
    "pycharm": {
     "name": "#%%\n"
    }
   }
  },
  {
   "cell_type": "code",
   "execution_count": 28,
   "outputs": [
    {
     "data": {
      "text/plain": "<Figure size 576x216 with 1 Axes>",
      "image/png": "[encoded data removed]"
     },
     "metadata": {
      "needs_background": "light"
     },
     "output_type": "display_data"
    }
   ],
   "source": [
    "betascheduler_val.summary()\n",
    "\n",
    "fig = plt.figure(figsize = (8,3))\n",
    "plt.plot(np.arange(betascheduler_train.n_iter), betascheduler_train.schedule[:-1])\n",
    "plt.title('Beta scheduling')\n",
    "plt.xlabel('iterations')\n",
    "plt.ylabel('Beta')\n",
    "plt.show()\n",
    "fig.savefig(os.path.join(ROOT,'model_KDDCUP99','VAE','betascheduler_anomaly.png'))"
   ],
   "metadata": {
    "collapsed": false,
    "pycharm": {
     "name": "#%%\n"
    }
   }
  },
  {
   "cell_type": "code",
   "execution_count": 57,
   "outputs": [],
   "source": [
    "hidden_dim = best_params['hidden_dim']\n",
    "hidden_channel = best_params['hidden_channels']\n",
    "latent_dim = best_params['latent_dim']\n",
    "\n",
    "enc = Vae_Encoder(121,hidden_dim,latent_dim,hidden_channel)\n",
    "dec = Vae_Decoder(121,hidden_dim,latent_dim,hidden_channel)\n"
   ],
   "metadata": {
    "collapsed": false,
    "pycharm": {
     "name": "#%%\n"
    }
   }
  },
  {
   "cell_type": "code",
   "execution_count": 62,
   "outputs": [
    {
     "data": {
      "text/plain": "1"
     },
     "execution_count": 62,
     "metadata": {},
     "output_type": "execute_result"
    }
   ],
   "source": [
    "hidden_channel"
   ],
   "metadata": {
    "collapsed": false,
    "pycharm": {
     "name": "#%%\n"
    }
   }
  },
  {
   "cell_type": "code",
   "execution_count": 68,
   "outputs": [
    {
     "name": "stdout",
     "output_type": "stream",
     "text": [
      "----------------------------------------------------------------\n",
      "        Layer (type)               Output Shape         Param #\n",
      "================================================================\n",
      "       Vae_Decoder-1                  [-1, 121]               0\n"
     ]
    },
    {
     "ename": "AttributeError",
     "evalue": "'int' object has no attribute 'numpy'",
     "output_type": "error",
     "traceback": [
      "\u001B[1;31m---------------------------------------------------------------------------\u001B[0m",
      "\u001B[1;31mAttributeError\u001B[0m                            Traceback (most recent call last)",
      "Input \u001B[1;32mIn [68]\u001B[0m, in \u001B[0;36m<cell line: 3>\u001B[1;34m()\u001B[0m\n\u001B[0;32m      1\u001B[0m \u001B[38;5;28;01mfrom\u001B[39;00m \u001B[38;5;21;01mtorchsummary\u001B[39;00m \u001B[38;5;28;01mimport\u001B[39;00m summary\n\u001B[1;32m----> 3\u001B[0m \u001B[43msummary\u001B[49m\u001B[43m(\u001B[49m\u001B[43mvae\u001B[49m\u001B[43m,\u001B[49m\u001B[43m(\u001B[49m\u001B[38;5;241;43m121\u001B[39;49m\u001B[43m,\u001B[49m\u001B[43m)\u001B[49m\u001B[43m,\u001B[49m\u001B[43m)\u001B[49m\n",
      "File \u001B[1;32mc:\\users\\39320\\netlov\\lib\\site-packages\\torchsummary\\torchsummary.py:102\u001B[0m, in \u001B[0;36msummary\u001B[1;34m(model, input_size, batch_size, device)\u001B[0m\n\u001B[0;32m    100\u001B[0m total_input_size \u001B[38;5;241m=\u001B[39m \u001B[38;5;28mabs\u001B[39m(np\u001B[38;5;241m.\u001B[39mprod(input_size) \u001B[38;5;241m*\u001B[39m batch_size \u001B[38;5;241m*\u001B[39m \u001B[38;5;241m4.\u001B[39m \u001B[38;5;241m/\u001B[39m (\u001B[38;5;241m1024\u001B[39m \u001B[38;5;241m*\u001B[39m\u001B[38;5;241m*\u001B[39m \u001B[38;5;241m2.\u001B[39m))\n\u001B[0;32m    101\u001B[0m total_output_size \u001B[38;5;241m=\u001B[39m \u001B[38;5;28mabs\u001B[39m(\u001B[38;5;241m2.\u001B[39m \u001B[38;5;241m*\u001B[39m total_output \u001B[38;5;241m*\u001B[39m \u001B[38;5;241m4.\u001B[39m \u001B[38;5;241m/\u001B[39m (\u001B[38;5;241m1024\u001B[39m \u001B[38;5;241m*\u001B[39m\u001B[38;5;241m*\u001B[39m \u001B[38;5;241m2.\u001B[39m))  \u001B[38;5;66;03m# x2 for gradients\u001B[39;00m\n\u001B[1;32m--> 102\u001B[0m total_params_size \u001B[38;5;241m=\u001B[39m \u001B[38;5;28mabs\u001B[39m(\u001B[43mtotal_params\u001B[49m\u001B[38;5;241;43m.\u001B[39;49m\u001B[43mnumpy\u001B[49m() \u001B[38;5;241m*\u001B[39m \u001B[38;5;241m4.\u001B[39m \u001B[38;5;241m/\u001B[39m (\u001B[38;5;241m1024\u001B[39m \u001B[38;5;241m*\u001B[39m\u001B[38;5;241m*\u001B[39m \u001B[38;5;241m2.\u001B[39m))\n\u001B[0;32m    103\u001B[0m total_size \u001B[38;5;241m=\u001B[39m total_params_size \u001B[38;5;241m+\u001B[39m total_output_size \u001B[38;5;241m+\u001B[39m total_input_size\n\u001B[0;32m    105\u001B[0m \u001B[38;5;28mprint\u001B[39m(\u001B[38;5;124m\"\u001B[39m\u001B[38;5;124m================================================================\u001B[39m\u001B[38;5;124m\"\u001B[39m)\n",
      "\u001B[1;31mAttributeError\u001B[0m: 'int' object has no attribute 'numpy'"
     ]
    }
   ],
   "source": [
    "from torchsummary import summary\n",
    "\n",
    "summary(vae,(121,),)"
   ],
   "metadata": {
    "collapsed": false,
    "pycharm": {
     "name": "#%%\n"
    }
   }
  },
  {
   "cell_type": "code",
   "execution_count": 14,
   "outputs": [],
   "source": [
    "# load mode tpl\n",
    "LOAD_MODEL = True\n",
    "\n",
    "if LOAD_MODEL:\n",
    "    checkpoint = torch.load(os.path.join(ROOT,'model_KDDCUP99','VAE','vae_model.pt'))\n",
    "    vae.load_state_dict(checkpoint['model_state_dict'])\n",
    "    vae_optimizer.load_state_dict(checkpoint['optimizer_state_dict'])\n",
    "    vae_scheduler.load_state_dict(checkpoint['scheduler_state_dict'])\n",
    "    vae_epoch = checkpoint['epoch']\n",
    "    vae_loss = checkpoint['loss']"
   ],
   "metadata": {
    "collapsed": false,
    "pycharm": {
     "name": "#%%\n"
    }
   }
  },
  {
   "cell_type": "code",
   "execution_count": 39,
   "outputs": [
    {
     "name": "stdout",
     "output_type": "stream",
     "text": [
      "Epoch: 1  Lr: 0.00099946  Loss: Train = [1388.9893] - Val = [649.3065]  KLD: Train = [571.3902] - Val = [370.1901]  REC: Train = [1536.5276] - Val = [699.6117]  Time one epoch (s): 6.2450 \n",
      "Epoch: 2  Lr: 0.00099946  Loss: Train = [498.6226] - Val = [419.5410]  KLD: Train = [457.2508] - Val = [480.3228]  REC: Train = [506.0764] - Val = [408.5903]  Time one epoch (s): 2.9466 \n",
      "Epoch: 3  Lr: 0.00099946  Loss: Train = [401.6739] - Val = [364.3573]  KLD: Train = [513.1655] - Val = [515.3574]  REC: Train = [381.5871] - Val = [337.1525]  Time one epoch (s): 3.0180 \n",
      "Epoch: 4  Lr: 0.00099946  Loss: Train = [360.6755] - Val = [327.6883]  KLD: Train = [529.0588] - Val = [526.4820]  REC: Train = [330.3389] - Val = [291.8729]  Time one epoch (s): 2.8983 \n",
      "Epoch: 5  Lr: 0.00099946  Loss: Train = [332.0276] - Val = [304.9869]  KLD: Train = [512.9479] - Val = [511.6653]  REC: Train = [299.4322] - Val = [267.7509]  Time one epoch (s): 2.8534 \n",
      "Epoch: 6  Lr: 0.00099946  Loss: Train = [311.4769] - Val = [289.2113]  KLD: Train = [500.4622] - Val = [510.0953]  REC: Train = [277.4286] - Val = [249.4160]  Time one epoch (s): 2.9145 \n",
      "Epoch: 7  Lr: 0.00099946  Loss: Train = [294.1535] - Val = [270.8805]  KLD: Train = [487.8266] - Val = [481.6316]  REC: Train = [259.2605] - Val = [232.9107]  Time one epoch (s): 3.9219 \n",
      "Epoch: 8  Lr: 0.00099946  Loss: Train = [282.1897] - Val = [259.0171]  KLD: Train = [481.0633] - Val = [473.1395]  REC: Train = [246.3599] - Val = [220.4400]  Time one epoch (s): 3.4849 \n",
      "Epoch: 9  Lr: 0.00099946  Loss: Train = [274.1328] - Val = [250.6156]  KLD: Train = [482.1975] - Val = [471.0154]  REC: Train = [236.6470] - Val = [210.9075]  Time one epoch (s): 5.7140 \n",
      "Epoch: 10  Lr: 0.00099946  Loss: Train = [268.3754] - Val = [246.3311]  KLD: Train = [482.4829] - Val = [466.7423]  REC: Train = [229.8009] - Val = [206.6210]  Time one epoch (s): 4.0990 \n",
      "Epoch: 11  Lr: 0.00099946  Loss: Train = [263.9724] - Val = [246.7296]  KLD: Train = [484.2639] - Val = [509.1320]  REC: Train = [224.2838] - Val = [199.4541]  Time one epoch (s): 3.5333 \n",
      "Epoch: 12  Lr: 0.00099946  Loss: Train = [259.8512] - Val = [237.9747]  KLD: Train = [484.6361] - Val = [466.5102]  REC: Train = [219.3531] - Val = [196.8009]  Time one epoch (s): 2.8002 \n",
      "Epoch: 13  Lr: 0.00099946  Loss: Train = [256.5392] - Val = [234.5046]  KLD: Train = [483.3050] - Val = [463.5614]  REC: Train = [215.6841] - Val = [193.2369]  Time one epoch (s): 2.8224 \n",
      "Epoch: 14  Lr: 0.00099946  Loss: Train = [253.7145] - Val = [234.4661]  KLD: Train = [483.4203] - Val = [476.0168]  REC: Train = [212.3298] - Val = [190.9474]  Time one epoch (s): 2.9497 \n",
      "Epoch: 15  Lr: 0.00099946  Loss: Train = [251.3968] - Val = [237.2476]  KLD: Train = [478.9830] - Val = [510.8729]  REC: Train = [210.3940] - Val = [187.9502]  Time one epoch (s): 2.9073 \n",
      "Epoch: 16  Lr: 0.00099946  Loss: Train = [249.2513] - Val = [229.7160]  KLD: Train = [480.5438] - Val = [471.9729]  REC: Train = [207.5807] - Val = [186.0700]  Time one epoch (s): 3.3172 \n",
      "Epoch: 17  Lr: 0.00099946  Loss: Train = [247.2141] - Val = [232.5439]  KLD: Train = [475.7315] - Val = [497.6120]  REC: Train = [206.0435] - Val = [184.7882]  Time one epoch (s): 2.9214 \n",
      "Epoch: 18  Lr: 0.00099946  Loss: Train = [246.3042] - Val = [228.7780]  KLD: Train = [476.8126] - Val = [473.9438]  REC: Train = [204.7749] - Val = [184.6080]  Time one epoch (s): 2.9630 \n",
      "Epoch: 19  Lr: 0.00099946  Loss: Train = [244.9793] - Val = [230.7913]  KLD: Train = [475.7636] - Val = [497.7261]  REC: Train = [203.4003] - Val = [182.6993]  Time one epoch (s): 3.3368 \n",
      "Epoch: 20  Lr: 0.00099946  Loss: Train = [244.1193] - Val = [228.0288]  KLD: Train = [477.7149] - Val = [480.6887]  REC: Train = [202.0338] - Val = [182.5086]  Time one epoch (s): 4.6536 \n",
      "Epoch: 21  Lr: 0.00099946  Loss: Train = [243.3744] - Val = [227.3854]  KLD: Train = [476.9305] - Val = [482.6356]  REC: Train = [201.2960] - Val = [181.3985]  Time one epoch (s): 3.0388 \n",
      "Epoch: 22  Lr: 0.00099946  Loss: Train = [242.2975] - Val = [223.7253]  KLD: Train = [474.5300] - Val = [467.4748]  REC: Train = [200.4576] - Val = [179.8105]  Time one epoch (s): 4.2224 \n",
      "Epoch: 23  Lr: 0.00099946  Loss: Train = [242.6407] - Val = [228.8823]  KLD: Train = [480.2956] - Val = [500.9200]  REC: Train = [199.8238] - Val = [179.8710]  Time one epoch (s): 4.2900 \n",
      "Epoch: 24  Lr: 0.00099946  Loss: Train = [241.5423] - Val = [224.0928]  KLD: Train = [476.5480] - Val = [466.1386]  REC: Train = [199.2027] - Val = [180.4849]  Time one epoch (s): 4.1463 \n",
      "Epoch: 25  Lr: 0.00099946  Loss: Train = [241.0870] - Val = [228.2297]  KLD: Train = [478.2393] - Val = [502.7516]  REC: Train = [198.3607] - Val = [178.7707]  Time one epoch (s): 3.7810 \n",
      "Epoch: 26  Lr: 0.00099946  Loss: Train = [240.3983] - Val = [223.5460]  KLD: Train = [476.9281] - Val = [470.1504]  REC: Train = [197.7842] - Val = [179.1167]  Time one epoch (s): 3.6686 \n",
      "Epoch: 27  Lr: 0.00099946  Loss: Train = [240.1670] - Val = [224.9381]  KLD: Train = [474.8750] - Val = [480.4299]  REC: Train = [197.8811] - Val = [178.9076]  Time one epoch (s): 3.0855 \n",
      "Epoch: 28  Lr: 0.00099946  Loss: Train = [239.7696] - Val = [220.7155]  KLD: Train = [477.7042] - Val = [458.1372]  REC: Train = [196.9024] - Val = [177.9407]  Time one epoch (s): 3.8706 \n",
      "Epoch: 29  Lr: 0.00099946  Loss: Train = [239.4350] - Val = [226.2356]  KLD: Train = [475.5672] - Val = [495.6154]  REC: Train = [196.8925] - Val = [177.7031]  Time one epoch (s): 2.9667 \n",
      "Epoch: 30  Lr: 0.00099946  Loss: Train = [238.6525] - Val = [222.9681]  KLD: Train = [474.2300] - Val = [478.2473]  REC: Train = [196.2099] - Val = [176.9759]  Time one epoch (s): 3.2530 \n",
      "Epoch: 31  Lr: 0.00099946  Loss: Train = [238.5219] - Val = [222.1111]  KLD: Train = [473.1852] - Val = [471.1116]  REC: Train = [196.2440] - Val = [177.2502]  Time one epoch (s): 3.2786 \n",
      "Epoch: 32  Lr: 0.00099946  Loss: Train = [237.8749] - Val = [220.2297]  KLD: Train = [472.3600] - Val = [462.8879]  REC: Train = [195.6291] - Val = [176.5115]  Time one epoch (s): 3.0941 \n",
      "Epoch: 33  Lr: 0.00099946  Loss: Train = [237.9001] - Val = [222.0795]  KLD: Train = [474.7754] - Val = [469.7182]  REC: Train = [195.2237] - Val = [177.4639]  Time one epoch (s): 3.2101 \n",
      "Epoch: 34  Lr: 0.00099946  Loss: Train = [238.0424] - Val = [220.5048]  KLD: Train = [475.5576] - Val = [461.1709]  REC: Train = [195.2507] - Val = [177.1454]  Time one epoch (s): 3.4939 \n",
      "Epoch: 35  Lr: 0.00099946  Loss: Train = [237.4441] - Val = [221.0663]  KLD: Train = [475.3490] - Val = [467.9238]  REC: Train = [194.5823] - Val = [176.5914]  Time one epoch (s): 3.7368 \n",
      "Epoch: 36  Lr: 0.00099946  Loss: Train = [237.7803] - Val = [225.5554]  KLD: Train = [475.4524] - Val = [492.6341]  REC: Train = [194.9604] - Val = [177.4374]  Time one epoch (s): 3.2653 \n",
      "Epoch: 37  Lr: 0.00099946  Loss: Train = [236.8703] - Val = [219.0788]  KLD: Train = [473.7673] - Val = [455.1576]  REC: Train = [194.1900] - Val = [176.5459]  Time one epoch (s): 3.7199 \n",
      "Epoch: 38  Lr: 0.00099946  Loss: Train = [236.2371] - Val = [219.5372]  KLD: Train = [471.1408] - Val = [465.6804]  REC: Train = [193.9159] - Val = [175.1911]  Time one epoch (s): 3.2552 \n",
      "Epoch: 39  Lr: 0.00099946  Loss: Train = [237.7779] - Val = [219.9011]  KLD: Train = [480.4129] - Val = [460.4523]  REC: Train = [194.0639] - Val = [176.5625]  Time one epoch (s): 3.7461 \n",
      "Epoch: 40  Lr: 0.00099946  Loss: Train = [236.4765] - Val = [218.5043]  KLD: Train = [473.7053] - Val = [456.6330]  REC: Train = [193.7365] - Val = [175.6021]  Time one epoch (s): 3.4427 \n",
      "Epoch: 41  Lr: 0.00099946  Loss: Train = [236.2055] - Val = [218.6030]  KLD: Train = [474.5772] - Val = [458.7800]  REC: Train = [193.2595] - Val = [175.3317]  Time one epoch (s): 3.6383 \n",
      "Epoch: 42  Lr: 0.00099946  Loss: Train = [235.9744] - Val = [218.7937]  KLD: Train = [472.3446] - Val = [465.3101]  REC: Train = [193.3890] - Val = [174.3803]  Time one epoch (s): 3.5709 \n",
      "Epoch: 43  Lr: 0.00099946  Loss: Train = [235.6645] - Val = [221.1455]  KLD: Train = [473.1470] - Val = [472.3095]  REC: Train = [192.8787] - Val = [175.8948]  Time one epoch (s): 3.8606 \n",
      "Epoch: 44  Lr: 0.00099946  Loss: Train = [236.2386] - Val = [221.4727]  KLD: Train = [476.8768] - Val = [479.5769]  REC: Train = [192.8843] - Val = [174.9717]  Time one epoch (s): 3.6129 \n",
      "Epoch: 45  Lr: 0.00099946  Loss: Train = [235.8336] - Val = [220.3475]  KLD: Train = [477.0756] - Val = [477.8385]  REC: Train = [192.3705] - Val = [173.9569]  Time one epoch (s): 3.5258 \n",
      "Epoch: 46  Lr: 0.00099946  Loss: Train = [235.9074] - Val = [220.7068]  KLD: Train = [474.3384] - Val = [475.7020]  REC: Train = [192.9507] - Val = [174.7659]  Time one epoch (s): 3.9311 \n",
      "Epoch: 47  Lr: 0.00099946  Loss: Train = [235.4914] - Val = [219.5685]  KLD: Train = [475.1346] - Val = [472.1416]  REC: Train = [192.3163] - Val = [174.0639]  Time one epoch (s): 3.2256 \n",
      "Epoch: 48  Lr: 0.00099946  Loss: Train = [235.0124] - Val = [217.2440]  KLD: Train = [471.9334] - Val = [455.4429]  REC: Train = [192.3278] - Val = [174.3292]  Time one epoch (s): 4.1977 \n",
      "Epoch: 49  Lr: 0.00099946  Loss: Train = [235.0815] - Val = [218.5823]  KLD: Train = [474.1922] - Val = [467.9014]  REC: Train = [192.0023] - Val = [173.6640]  Time one epoch (s): 8.0664 \n",
      "Epoch: 50  Lr: 0.00099946  Loss: Train = [234.5821] - Val = [224.6727]  KLD: Train = [471.6000] - Val = [504.8886]  REC: Train = [191.8800] - Val = [174.1879]  Time one epoch (s): 5.7046 \n",
      "Epoch: 51  Lr: 0.00099946  Loss: Train = [234.9114] - Val = [218.7191]  KLD: Train = [475.8837] - Val = [470.1480]  REC: Train = [191.4968] - Val = [173.4206]  Time one epoch (s): 4.1382 \n",
      "Epoch: 52  Lr: 0.00099946  Loss: Train = [234.3505] - Val = [220.0224]  KLD: Train = [471.9573] - Val = [476.2451]  REC: Train = [191.5423] - Val = [173.8603]  Time one epoch (s): 3.6995 \n",
      "Epoch: 53  Lr: 0.00099946  Loss: Train = [235.1439] - Val = [217.2381]  KLD: Train = [477.5376] - Val = [459.5531]  REC: Train = [191.4733] - Val = [173.5817]  Time one epoch (s): 4.0537 \n",
      "Epoch: 54  Lr: 0.00099946  Loss: Train = [234.7409] - Val = [216.2673]  KLD: Train = [474.6008] - Val = [453.7470]  REC: Train = [191.5268] - Val = [173.4820]  Time one epoch (s): 4.5909 \n",
      "Epoch: 55  Lr: 0.00099946  Loss: Train = [234.8653] - Val = [221.0296]  KLD: Train = [475.1203] - Val = [481.7060]  REC: Train = [191.5800] - Val = [174.0651]  Time one epoch (s): 3.6311 \n",
      "Epoch: 56  Lr: 0.00099946  Loss: Train = [233.9640] - Val = [216.5304]  KLD: Train = [473.3060] - Val = [455.9747]  REC: Train = [190.8432] - Val = [173.3912]  Time one epoch (s): 3.7086 \n",
      "Epoch: 57  Lr: 0.00099946  Loss: Train = [233.9776] - Val = [218.3059]  KLD: Train = [473.1221] - Val = [464.3673]  REC: Train = [190.8924] - Val = [173.9745]  Time one epoch (s): 4.2237 \n",
      "Epoch: 58  Lr: 0.00099946  Loss: Train = [234.3292] - Val = [218.4664]  KLD: Train = [476.5723] - Val = [472.2598]  REC: Train = [190.6857] - Val = [172.7420]  Time one epoch (s): 4.3552 \n",
      "Epoch: 59  Lr: 0.00099946  Loss: Train = [234.1602] - Val = [214.8079]  KLD: Train = [472.9612] - Val = [450.9803]  REC: Train = [191.1368] - Val = [172.2582]  Time one epoch (s): 3.4248 \n",
      "Epoch: 60  Lr: 0.00099946  Loss: Train = [233.6202] - Val = [216.3623]  KLD: Train = [474.4048] - Val = [457.6497]  REC: Train = [190.2395] - Val = [172.8910]  Time one epoch (s): 3.0229 \n",
      "Epoch: 61  Lr: 0.00099946  Loss: Train = [234.9481] - Val = [217.4253]  KLD: Train = [479.7662] - Val = [466.0299]  REC: Train = [190.8408] - Val = [172.6357]  Time one epoch (s): 3.0941 \n",
      "Epoch: 62  Lr: 0.00099946  Loss: Train = [233.0471] - Val = [218.1000]  KLD: Train = [468.4501] - Val = [464.1961]  REC: Train = [190.6360] - Val = [173.7623]  Time one epoch (s): 3.1582 \n",
      "Epoch: 63  Lr: 0.00099946  Loss: Train = [233.3686] - Val = [220.6806]  KLD: Train = [472.6187] - Val = [484.2644]  REC: Train = [190.2644] - Val = [173.1923]  Time one epoch (s): 3.0885 \n",
      "Epoch: 64  Lr: 0.00099946  Loss: Train = [234.0438] - Val = [220.8652]  KLD: Train = [473.8354] - Val = [483.1226]  REC: Train = [190.8420] - Val = [173.6159]  Time one epoch (s): 3.1473 \n",
      "Epoch: 65  Lr: 0.00099946  Loss: Train = [233.4251] - Val = [219.7551]  KLD: Train = [474.0826] - Val = [486.8504]  REC: Train = [190.0674] - Val = [171.6342]  Time one epoch (s): 3.0629 \n",
      "Epoch: 66  Lr: 0.00099946  Loss: Train = [234.0469] - Val = [215.6983]  KLD: Train = [477.0268] - Val = [458.1222]  REC: Train = [190.2706] - Val = [172.0223]  Time one epoch (s): 3.1619 \n",
      "Epoch: 67  Lr: 0.00099946  Loss: Train = [232.9716] - Val = [220.0639]  KLD: Train = [473.7271] - Val = [485.8709]  REC: Train = [189.5962] - Val = [172.1750]  Time one epoch (s): 3.1178 \n",
      "Epoch: 68  Lr: 0.00099946  Loss: Train = [234.5433] - Val = [222.4021]  KLD: Train = [478.2927] - Val = [496.3597]  REC: Train = [190.6285] - Val = [173.0448]  Time one epoch (s): 3.4982 \n",
      "Epoch: 69  Lr: 0.00099946  Loss: Train = [233.3136] - Val = [217.4028]  KLD: Train = [472.8363] - Val = [462.3531]  REC: Train = [190.1602] - Val = [173.2716]  Time one epoch (s): 3.6056 \n",
      "Epoch: 70  Lr: 0.00099946  Loss: Train = [233.1196] - Val = [216.2203]  KLD: Train = [473.5753] - Val = [460.1576]  REC: Train = [189.7982] - Val = [172.2716]  Time one epoch (s): 3.9165 \n",
      "Epoch: 71  Lr: 0.00099946  Loss: Train = [233.0959] - Val = [219.2087]  KLD: Train = [475.7105] - Val = [483.9838]  REC: Train = [189.3855] - Val = [171.5058]  Time one epoch (s): 3.2217 \n",
      "Epoch: 72  Lr: 0.00099946  Loss: Train = [233.1771] - Val = [215.2229]  KLD: Train = [474.6075] - Val = [457.5624]  REC: Train = [189.6801] - Val = [171.5621]  Time one epoch (s): 3.3139 \n",
      "Epoch: 73  Lr: 0.00099946  Loss: Train = [233.0510] - Val = [216.9038]  KLD: Train = [473.9525] - Val = [462.3711]  REC: Train = [189.6492] - Val = [172.6795]  Time one epoch (s): 3.1828 \n",
      "Epoch: 74  Lr: 0.00099946  Loss: Train = [232.9001] - Val = [217.8989]  KLD: Train = [473.5505] - Val = [472.3813]  REC: Train = [189.5435] - Val = [172.0503]  Time one epoch (s): 3.5800 \n",
      "Epoch: 75  Lr: 0.00099946  Loss: Train = [232.8453] - Val = [225.7274]  KLD: Train = [475.5397] - Val = [520.8434]  REC: Train = [189.1205] - Val = [172.5581]  Time one epoch (s): 6.5240 \n",
      "Epoch: 76  Lr: 0.00099946  Loss: Train = [232.8121] - Val = [218.6897]  KLD: Train = [474.3729] - Val = [474.2874]  REC: Train = [189.2915] - Val = [172.6403]  Time one epoch (s): 4.0082 \n",
      "Epoch: 77  Lr: 0.00099946  Loss: Train = [232.8046] - Val = [215.9773]  KLD: Train = [475.8104] - Val = [461.3950]  REC: Train = [189.0237] - Val = [171.7619]  Time one epoch (s): 7.7311 \n",
      "Epoch: 78  Lr: 0.00099946  Loss: Train = [232.3808] - Val = [219.2541]  KLD: Train = [470.4140] - Val = [479.4220]  REC: Train = [189.4958] - Val = [172.3812]  Time one epoch (s): 17.8381 \n",
      "Epoch: 79  Lr: 0.00099946  Loss: Train = [233.1003] - Val = [216.8574]  KLD: Train = [476.0207] - Val = [465.8935]  REC: Train = [189.3348] - Val = [171.9901]  Time one epoch (s): 9.7476 \n",
      "Epoch: 80  Lr: 0.00099946  Loss: Train = [232.8472] - Val = [219.1617]  KLD: Train = [474.4919] - Val = [481.2622]  REC: Train = [189.3116] - Val = [171.9406]  Time one epoch (s): 8.4634 \n",
      "Epoch: 81  Lr: 0.00099946  Loss: Train = [233.1753] - Val = [219.7173]  KLD: Train = [477.9346] - Val = [482.9660]  REC: Train = [189.0786] - Val = [172.2894]  Time one epoch (s): 8.1677 \n",
      "Epoch: 82  Lr: 0.00099946  Loss: Train = [232.1229] - Val = [217.6238]  KLD: Train = [471.8836] - Val = [473.7444]  REC: Train = [188.9267] - Val = [171.4801]  Time one epoch (s): 7.5587 \n",
      "Epoch: 83  Lr: 0.00099946  Loss: Train = [231.8411] - Val = [214.9748]  KLD: Train = [471.2755] - Val = [458.0779]  REC: Train = [188.7036] - Val = [171.1764]  Time one epoch (s): 9.0801 \n",
      "Epoch: 84  Lr: 0.00099946  Loss: Train = [232.8171] - Val = [217.3865]  KLD: Train = [478.5030] - Val = [470.8767]  REC: Train = [188.5534] - Val = [171.7167]  Time one epoch (s): 7.5861 \n",
      "Epoch: 85  Lr: 0.00099946  Loss: Train = [231.6554] - Val = [218.7668]  KLD: Train = [473.1886] - Val = [482.7509]  REC: Train = [188.1399] - Val = [171.2064]  Time one epoch (s): 8.2278 \n",
      "Epoch: 86  Lr: 0.00099946  Loss: Train = [232.3228] - Val = [217.9067]  KLD: Train = [474.5015] - Val = [471.0141]  REC: Train = [188.6909] - Val = [172.3059]  Time one epoch (s): 8.0039 \n",
      "Epoch: 87  Lr: 0.00099946  Loss: Train = [232.2689] - Val = [214.4819]  KLD: Train = [473.5687] - Val = [454.7783]  REC: Train = [188.7954] - Val = [171.1891]  Time one epoch (s): 6.9350 \n",
      "Epoch: 88  Lr: 0.00099946  Loss: Train = [232.3222] - Val = [216.8339]  KLD: Train = [474.1959] - Val = [468.8867]  REC: Train = [188.7453] - Val = [171.4230]  Time one epoch (s): 5.7689 \n",
      "Epoch: 89  Lr: 0.00099946  Loss: Train = [231.4261] - Val = [215.9891]  KLD: Train = [469.7755] - Val = [458.8727]  REC: Train = [188.4842] - Val = [172.2302]  Time one epoch (s): 5.5885 \n",
      "Epoch: 90  Lr: 0.00099946  Loss: Train = [231.0418] - Val = [219.4396]  KLD: Train = [466.1015] - Val = [473.9393]  REC: Train = [188.6925] - Val = [173.5879]  Time one epoch (s): 6.2601 \n",
      "Epoch: 91  Lr: 0.00099946  Loss: Train = [231.6110] - Val = [216.0942]  KLD: Train = [470.9203] - Val = [460.7430]  REC: Train = [188.4961] - Val = [172.0173]  Time one epoch (s): 5.1810 \n",
      "Epoch: 92  Lr: 0.00099946  Loss: Train = [231.9386] - Val = [220.0650]  KLD: Train = [472.8665] - Val = [489.6933]  REC: Train = [188.5321] - Val = [171.4877]  Time one epoch (s): 5.4204 \n",
      "Epoch: 93  Lr: 0.00099946  Loss: Train = [232.4492] - Val = [216.6979]  KLD: Train = [478.7259] - Val = [467.7218]  REC: Train = [188.0790] - Val = [171.4724]  Time one epoch (s): 5.6397 \n",
      "Epoch: 94  Lr: 0.00099946  Loss: Train = [231.7893] - Val = [217.1082]  KLD: Train = [473.7386] - Val = [475.4960]  REC: Train = [188.1987] - Val = [170.5561]  Time one epoch (s): 6.7275 \n",
      "Epoch: 95  Lr: 0.00099946  Loss: Train = [231.3615] - Val = [221.4912]  KLD: Train = [472.0171] - Val = [504.8805]  REC: Train = [188.0041] - Val = [170.4347]  Time one epoch (s): 5.9552 \n",
      "Epoch: 96  Lr: 0.00099946  Loss: Train = [232.0285] - Val = [215.2849]  KLD: Train = [473.9744] - Val = [465.3526]  REC: Train = [188.4385] - Val = [170.2317]  Time one epoch (s): 7.2558 \n",
      "Epoch: 97  Lr: 0.00099946  Loss: Train = [231.1957] - Val = [221.4182]  KLD: Train = [471.8521] - Val = [493.0328]  REC: Train = [187.8381] - Val = [172.4831]  Time one epoch (s): 7.0508 \n",
      "Epoch: 98  Lr: 0.00099946  Loss: Train = [231.7483] - Val = [214.8170]  KLD: Train = [474.9298] - Val = [458.2188]  REC: Train = [187.9357] - Val = [170.9648]  Time one epoch (s): 7.2430 \n",
      "Epoch: 99  Lr: 0.00099946  Loss: Train = [231.3358] - Val = [217.3868]  KLD: Train = [470.9385] - Val = [475.8966]  REC: Train = [188.1681] - Val = [170.8126]  Time one epoch (s): 7.0814 \n",
      "Epoch: 100  Lr: 0.00099946  Loss: Train = [231.8192] - Val = [221.9175]  KLD: Train = [473.0913] - Val = [495.6145]  REC: Train = [188.3507] - Val = [172.6072]  Time one epoch (s): 7.0070 \n",
      "Epoch: 101  Lr: 0.00099946  Loss: Train = [231.5295] - Val = [213.2403]  KLD: Train = [476.4431] - Val = [445.7005]  REC: Train = [187.4049] - Val = [171.3593]  Time one epoch (s): 7.1558 \n",
      "Epoch: 102  Lr: 0.00099946  Loss: Train = [231.2553] - Val = [215.5987]  KLD: Train = [473.7723] - Val = [465.2605]  REC: Train = [187.5625] - Val = [170.6186]  Time one epoch (s): 6.9650 \n",
      "Epoch: 103  Lr: 0.00099946  Loss: Train = [231.8284] - Val = [217.6618]  KLD: Train = [478.3135] - Val = [475.8726]  REC: Train = [187.4206] - Val = [171.1416]  Time one epoch (s): 6.9577 \n",
      "Epoch: 104  Lr: 0.00099946  Loss: Train = [231.5152] - Val = [222.3450]  KLD: Train = [475.0668] - Val = [505.7616]  REC: Train = [187.6360] - Val = [171.2835]  Time one epoch (s): 6.9062 \n",
      "Epoch: 105  Lr: 0.00099946  Loss: Train = [231.0933] - Val = [218.7075]  KLD: Train = [475.4377] - Val = [486.3849]  REC: Train = [187.0713] - Val = [170.4817]  Time one epoch (s): 7.2262 \n",
      "Epoch: 106  Lr: 0.00099946  Loss: Train = [231.2067] - Val = [216.6037]  KLD: Train = [472.5466] - Val = [470.6239]  REC: Train = [187.7260] - Val = [170.8384]  Time one epoch (s): 5.8932 \n",
      "Epoch: 107  Lr: 0.00099946  Loss: Train = [230.4155] - Val = [217.7354]  KLD: Train = [469.8291] - Val = [478.8862]  REC: Train = [187.2818] - Val = [170.6855]  Time one epoch (s): 3.7609 \n",
      "Epoch: 108  Lr: 0.00099946  Loss: Train = [231.2974] - Val = [214.6040]  KLD: Train = [472.0862] - Val = [459.3313]  REC: Train = [187.9159] - Val = [170.5129]  Time one epoch (s): 5.2990 \n",
      "Epoch: 109  Lr: 0.00099946  Loss: Train = [230.8165] - Val = [227.6817]  KLD: Train = [470.0196] - Val = [525.5003]  REC: Train = [187.7208] - Val = [174.0255]  Time one epoch (s): 4.6377 \n",
      "Epoch: 110  Lr: 0.00099946  Loss: Train = [231.6914] - Val = [217.3149]  KLD: Train = [477.9781] - Val = [471.8991]  REC: Train = [187.3194] - Val = [171.4479]  Time one epoch (s): 4.3032 \n",
      "Epoch: 111  Lr: 0.00099946  Loss: Train = [231.0655] - Val = [213.5583]  KLD: Train = [473.3039] - Val = [450.3716]  REC: Train = [187.4229] - Val = [170.8931]  Time one epoch (s): 5.1847 \n",
      "Epoch: 112  Lr: 0.00099946  Loss: Train = [232.0043] - Val = [219.0706]  KLD: Train = [479.5598] - Val = [491.1699]  REC: Train = [187.4038] - Val = [170.0481]  Time one epoch (s): 5.4145 \n",
      "Epoch: 113  Lr: 0.00099946  Loss: Train = [230.7493] - Val = [215.5413]  KLD: Train = [471.0098] - Val = [465.7981]  REC: Train = [187.4631] - Val = [170.4540]  Time one epoch (s): 4.1786 \n",
      "Epoch: 114  Lr: 0.00099946  Loss: Train = [231.8099] - Val = [216.8107]  KLD: Train = [478.7827] - Val = [470.4716]  REC: Train = [187.3143] - Val = [171.1102]  Time one epoch (s): 3.7372 \n",
      "Epoch: 115  Lr: 0.00099946  Loss: Train = [232.1387] - Val = [218.4900]  KLD: Train = [481.7111] - Val = [482.5396]  REC: Train = [187.1748] - Val = [170.9177]  Time one epoch (s): 3.8946 \n",
      "Epoch: 116  Lr: 0.00099946  Loss: Train = [230.9100] - Val = [216.5218]  KLD: Train = [473.5621] - Val = [470.3634]  REC: Train = [187.1928] - Val = [170.7887]  Time one epoch (s): 4.6163 \n",
      "Epoch: 117  Lr: 0.00099946  Loss: Train = [230.4653] - Val = [218.2619]  KLD: Train = [470.3297] - Val = [477.6733]  REC: Train = [187.2504] - Val = [171.5254]  Time one epoch (s): 4.4485 \n",
      "Epoch: 118  Lr: 0.00099946  Loss: Train = [230.3715] - Val = [216.7117]  KLD: Train = [471.3957] - Val = [477.6632]  REC: Train = [186.9477] - Val = [169.6976]  Time one epoch (s): 5.1603 \n",
      "Epoch: 119  Lr: 0.00099946  Loss: Train = [230.6760] - Val = [215.2171]  KLD: Train = [475.0064] - Val = [458.1316]  REC: Train = [186.6564] - Val = [171.4527]  Time one epoch (s): 5.1136 \n",
      "Epoch: 120  Lr: 0.00099946  Loss: Train = [230.5932] - Val = [220.3372]  KLD: Train = [472.7200] - Val = [490.0969]  REC: Train = [186.9706] - Val = [171.7362]  Time one epoch (s): 3.6367 \n",
      "Epoch: 121  Lr: 0.00099946  Loss: Train = [230.1823] - Val = [216.3228]  KLD: Train = [471.5402] - Val = [469.4662]  REC: Train = [186.6983] - Val = [170.7155]  Time one epoch (s): 4.8728 \n",
      "Epoch: 122  Lr: 0.00099946  Loss: Train = [231.2978] - Val = [216.9450]  KLD: Train = [477.4670] - Val = [472.3901]  REC: Train = [186.9471] - Val = [170.9231]  Time one epoch (s): 4.0640 \n",
      "Epoch: 123  Lr: 0.00099946  Loss: Train = [231.1079] - Val = [215.7094]  KLD: Train = [476.6480] - Val = [467.8840]  REC: Train = [186.8704] - Val = [170.2767]  Time one epoch (s): 4.3449 \n",
      "Epoch: 124  Lr: 0.00099946  Loss: Train = [230.5436] - Val = [218.0757]  KLD: Train = [473.9102] - Val = [483.8752]  REC: Train = [186.6978] - Val = [170.1882]  Time one epoch (s): 3.8139 \n",
      "Epoch: 125  Lr: 0.00099946  Loss: Train = [230.4241] - Val = [219.9143]  KLD: Train = [472.8439] - Val = [492.1526]  REC: Train = [186.7488] - Val = [170.8668]  Time one epoch (s): 4.0076 \n",
      "Epoch: 126  Lr: 0.00099946  Loss: Train = [230.2517] - Val = [217.9079]  KLD: Train = [470.5510] - Val = [480.3786]  REC: Train = [186.9584] - Val = [170.6201]  Time one epoch (s): 5.0758 \n",
      "Epoch: 127  Lr: 0.00099946  Loss: Train = [230.9773] - Val = [215.9457]  KLD: Train = [477.2250] - Val = [470.9245]  REC: Train = [186.6123] - Val = [170.0077]  Time one epoch (s): 5.0283 \n",
      "Epoch: 128  Lr: 0.00099946  Loss: Train = [229.9740] - Val = [215.5680]  KLD: Train = [470.2781] - Val = [465.7639]  REC: Train = [186.6799] - Val = [170.4917]  Time one epoch (s): 4.8654 \n",
      "Epoch: 129  Lr: 0.00099946  Loss: Train = [230.8823] - Val = [215.7117]  KLD: Train = [474.5207] - Val = [466.6476]  REC: Train = [186.9874] - Val = [170.5022]  Time one epoch (s): 5.8177 \n",
      "Epoch: 130  Lr: 0.00099946  Loss: Train = [230.3481] - Val = [213.7497]  KLD: Train = [472.5988] - Val = [451.3889]  REC: Train = [186.7033] - Val = [170.9357]  Time one epoch (s): 5.2188 \n",
      "Epoch: 131  Lr: 0.00099946  Loss: Train = [230.5869] - Val = [216.1056]  KLD: Train = [474.6419] - Val = [471.3419]  REC: Train = [186.6170] - Val = [170.1212]  Time one epoch (s): 4.3976 \n",
      "Epoch: 132  Lr: 0.00099946  Loss: Train = [229.8481] - Val = [217.2975]  KLD: Train = [469.8848] - Val = [477.0025]  REC: Train = [186.6021] - Val = [170.5080]  Time one epoch (s): 5.1873 \n",
      "Epoch: 133  Lr: 0.00099946  Loss: Train = [230.5230] - Val = [214.9518]  KLD: Train = [473.6042] - Val = [459.9059]  REC: Train = [186.7285] - Val = [170.8199]  Time one epoch (s): 4.1593 \n",
      "Epoch: 134  Lr: 0.00099946  Loss: Train = [230.6568] - Val = [215.8400]  KLD: Train = [474.9751] - Val = [466.7138]  REC: Train = [186.6395] - Val = [170.6416]  Time one epoch (s): 5.0413 \n",
      "Epoch: 135  Lr: 0.00099946  Loss: Train = [230.4264] - Val = [215.8876]  KLD: Train = [474.8858] - Val = [467.3403]  REC: Train = [186.3836] - Val = [170.5849]  Time one epoch (s): 4.2668 \n",
      "Epoch: 136  Lr: 0.00099946  Loss: Train = [230.4849] - Val = [218.9241]  KLD: Train = [474.6746] - Val = [490.2974]  REC: Train = [186.4907] - Val = [170.0324]  Time one epoch (s): 5.1909 \n",
      "Epoch: 137  Lr: 0.00099946  Loss: Train = [230.4530] - Val = [215.3701]  KLD: Train = [476.6163] - Val = [468.8481]  REC: Train = [186.1033] - Val = [169.7025]  Time one epoch (s): 4.0732 \n",
      "Epoch: 138  Lr: 0.00099946  Loss: Train = [230.1879] - Val = [218.6978]  KLD: Train = [472.3418] - Val = [485.9948]  REC: Train = [186.5605] - Val = [170.5405]  Time one epoch (s): 5.0606 \n",
      "Epoch: 139  Lr: 0.00099946  Loss: Train = [229.6809] - Val = [219.8000]  KLD: Train = [470.8955] - Val = [491.4955]  REC: Train = [186.2227] - Val = [170.8502]  Time one epoch (s): 4.1458 \n",
      "Epoch: 140  Lr: 0.00099946  Loss: Train = [229.8307] - Val = [220.5865]  KLD: Train = [472.4140] - Val = [490.9749]  REC: Train = [186.1260] - Val = [171.8722]  Time one epoch (s): 5.0504 \n",
      "Epoch: 141  Lr: 0.00099946  Loss: Train = [230.2821] - Val = [215.1553]  KLD: Train = [474.4079] - Val = [461.1366]  REC: Train = [186.2995] - Val = [170.8383]  Time one epoch (s): 4.3056 \n",
      "Epoch: 142  Lr: 0.00099946  Loss: Train = [229.3563] - Val = [214.5764]  KLD: Train = [468.7078] - Val = [463.7768]  REC: Train = [186.2337] - Val = [169.6795]  Time one epoch (s): 4.3443 \n",
      "Epoch: 143  Lr: 0.00099946  Loss: Train = [231.1550] - Val = [217.1634]  KLD: Train = [475.8616] - Val = [477.8048]  REC: Train = [187.0677] - Val = [170.2052]  Time one epoch (s): 4.2374 \n",
      "Epoch: 144  Lr: 0.00099946  Loss: Train = [229.8960] - Val = [213.6749]  KLD: Train = [472.9019] - Val = [457.2520]  REC: Train = [186.1150] - Val = [169.7911]  Time one epoch (s): 4.5226 \n",
      "Epoch: 145  Lr: 0.00099946  Loss: Train = [230.2804] - Val = [216.6525]  KLD: Train = [474.2018] - Val = [479.0635]  REC: Train = [186.3346] - Val = [169.3756]  Time one epoch (s): 4.9857 \n",
      "Epoch: 146  Lr: 0.00099946  Loss: Train = [230.2046] - Val = [218.1430]  KLD: Train = [474.0794] - Val = [482.1548]  REC: Train = [186.2672] - Val = [170.5776]  Time one epoch (s): 5.1735 \n",
      "Epoch: 147  Lr: 0.00099946  Loss: Train = [230.1379] - Val = [213.7768]  KLD: Train = [473.8547] - Val = [456.8871]  REC: Train = [186.2289] - Val = [169.9771]  Time one epoch (s): 3.9175 \n",
      "Epoch: 148  Lr: 0.00099946  Loss: Train = [230.6721] - Val = [215.9800]  KLD: Train = [477.4417] - Val = [467.1317]  REC: Train = [186.2131] - Val = [170.7316]  Time one epoch (s): 4.6459 \n",
      "Epoch: 149  Lr: 0.00099946  Loss: Train = [230.1537] - Val = [215.9123]  KLD: Train = [473.8823] - Val = [473.7004]  REC: Train = [186.2426] - Val = [169.4682]  Time one epoch (s): 4.2756 \n",
      "Epoch: 150  Lr: 0.00099946  Loss: Train = [230.2178] - Val = [216.8165]  KLD: Train = [473.5508] - Val = [477.5171]  REC: Train = [186.3780] - Val = [169.8476]  Time one epoch (s): 4.8127 \n",
      "Epoch: 151  Lr: 0.00099946  Loss: Train = [229.8988] - Val = [215.5034]  KLD: Train = [474.4839] - Val = [469.2530]  REC: Train = [185.8334] - Val = [169.7869]  Time one epoch (s): 4.8868 \n",
      "Epoch: 152  Lr: 0.00099946  Loss: Train = [230.7756] - Val = [216.3832]  KLD: Train = [477.3629] - Val = [475.2924]  REC: Train = [186.3494] - Val = [169.7371]  Time one epoch (s): 5.5131 \n",
      "Epoch: 153  Lr: 0.00099946  Loss: Train = [230.3691] - Val = [215.5362]  KLD: Train = [474.6793] - Val = [467.9698]  REC: Train = [186.3532] - Val = [170.0568]  Time one epoch (s): 4.3835 \n",
      "Epoch: 154  Lr: 0.00099946  Loss: Train = [230.0803] - Val = [214.6353]  KLD: Train = [474.4993] - Val = [465.1407]  REC: Train = [186.0448] - Val = [169.5033]  Time one epoch (s): 5.2038 \n",
      "Epoch: 155  Lr: 0.00099946  Loss: Train = [229.7028] - Val = [215.9022]  KLD: Train = [469.7503] - Val = [471.1031]  REC: Train = [186.4549] - Val = [169.9242]  Time one epoch (s): 4.2780 \n",
      "Epoch: 156  Lr: 0.00099946  Loss: Train = [229.3971] - Val = [217.6833]  KLD: Train = [470.2881] - Val = [479.2922]  REC: Train = [185.9972] - Val = [170.5508]  Time one epoch (s): 4.1533 \n",
      "Epoch: 157  Lr: 0.00099946  Loss: Train = [230.5974] - Val = [215.3048]  KLD: Train = [476.5132] - Val = [466.6053]  REC: Train = [186.2922] - Val = [170.0295]  Time one epoch (s): 5.0686 \n",
      "Epoch: 158  Lr: 0.00099946  Loss: Train = [229.6983] - Val = [216.0639]  KLD: Train = [473.7173] - Val = [475.5764]  REC: Train = [185.7349] - Val = [169.3091]  Time one epoch (s): 4.1684 \n",
      "Epoch: 159  Lr: 0.00099946  Loss: Train = [229.8813] - Val = [215.3923]  KLD: Train = [474.1731] - Val = [467.8480]  REC: Train = [185.8688] - Val = [169.9089]  Time one epoch (s): 5.0799 \n",
      "Epoch: 160  Lr: 0.00099946  Loss: Train = [230.0380] - Val = [216.0412]  KLD: Train = [475.7418] - Val = [474.2715]  REC: Train = [185.7710] - Val = [169.5174]  Time one epoch (s): 4.2481 \n",
      "Epoch: 161  Lr: 0.00099946  Loss: Train = [229.6441] - Val = [217.6557]  KLD: Train = [472.0645] - Val = [484.0826]  REC: Train = [185.9686] - Val = [169.6552]  Time one epoch (s): 5.3070 \n",
      "Epoch: 162  Lr: 0.00099946  Loss: Train = [230.0990] - Val = [215.8079]  KLD: Train = [474.8631] - Val = [469.4951]  REC: Train = [186.0014] - Val = [170.1026]  Time one epoch (s): 4.6032 \n",
      "Epoch: 163  Lr: 0.00099946  Loss: Train = [229.3305] - Val = [217.5788]  KLD: Train = [471.6937] - Val = [480.8524]  REC: Train = [185.6654] - Val = [170.1463]  Time one epoch (s): 4.6610 \n",
      "Epoch: 164  Lr: 0.00099946  Loss: Train = [229.5492] - Val = [216.2355]  KLD: Train = [474.3140] - Val = [476.9050]  REC: Train = [185.4514] - Val = [169.2723]  Time one epoch (s): 4.3703 \n",
      "Epoch: 165  Lr: 0.00099946  Loss: Train = [229.3889] - Val = [215.5883]  KLD: Train = [472.5736] - Val = [471.9906]  REC: Train = [185.5758] - Val = [169.3938]  Time one epoch (s): 4.8835 \n",
      "Epoch: 166  Lr: 0.00099946  Loss: Train = [230.0009] - Val = [214.5762]  KLD: Train = [474.3756] - Val = [461.2274]  REC: Train = [185.9734] - Val = [170.1385]  Time one epoch (s): 4.7040 \n",
      "Epoch: 167  Lr: 0.00099946  Loss: Train = [229.3654] - Val = [215.4739]  KLD: Train = [470.5204] - Val = [469.8798]  REC: Train = [185.9180] - Val = [169.6392]  Time one epoch (s): 4.2219 \n",
      "Epoch: 168  Lr: 0.00099946  Loss: Train = [230.2629] - Val = [216.9742]  KLD: Train = [477.4531] - Val = [481.0391]  REC: Train = [185.7281] - Val = [169.3993]  Time one epoch (s): 4.5935 \n",
      "Epoch: 169  Lr: 0.00099946  Loss: Train = [229.5891] - Val = [213.4595]  KLD: Train = [472.4269] - Val = [457.6531]  REC: Train = [185.8385] - Val = [169.4646]  Time one epoch (s): 4.6706 \n",
      "Epoch: 170  Lr: 0.00099946  Loss: Train = [229.3000] - Val = [214.3742]  KLD: Train = [472.5435] - Val = [456.7567]  REC: Train = [185.4763] - Val = [170.7056]  Time one epoch (s): 4.5363 \n",
      "Epoch: 171  Lr: 0.00099946  Loss: Train = [229.9117] - Val = [216.2111]  KLD: Train = [475.0309] - Val = [472.2774]  REC: Train = [185.7501] - Val = [170.0773]  Time one epoch (s): 4.8932 \n",
      "Epoch: 172  Lr: 0.00099946  Loss: Train = [229.6138] - Val = [216.3484]  KLD: Train = [473.9924] - Val = [479.1253]  REC: Train = [185.5856] - Val = [169.0054]  Time one epoch (s): 5.0112 \n",
      "Epoch: 173  Lr: 0.00099946  Loss: Train = [230.4546] - Val = [215.8639]  KLD: Train = [475.7636] - Val = [469.1910]  REC: Train = [186.2587] - Val = [170.2235]  Time one epoch (s): 4.6219 \n",
      "Epoch: 174  Lr: 0.00099946  Loss: Train = [229.3089] - Val = [214.4647]  KLD: Train = [471.8062] - Val = [465.6003]  REC: Train = [185.6197] - Val = [169.2191]  Time one epoch (s): 6.1752 \n",
      "Epoch: 175  Lr: 0.00099946  Loss: Train = [229.4209] - Val = [215.3622]  KLD: Train = [471.5194] - Val = [470.7938]  REC: Train = [185.8034] - Val = [169.3426]  Time one epoch (s): 4.3073 \n",
      "Epoch: 176  Lr: 0.00099946  Loss: Train = [230.0222] - Val = [212.8401]  KLD: Train = [475.7402] - Val = [451.6757]  REC: Train = [185.7527] - Val = [169.8105]  Time one epoch (s): 4.6420 \n",
      "Epoch: 177  Lr: 0.00099946  Loss: Train = [229.7919] - Val = [219.4123]  KLD: Train = [472.5698] - Val = [484.3128]  REC: Train = [186.0521] - Val = [171.6868]  Time one epoch (s): 4.5760 \n",
      "Epoch: 178  Lr: 0.00099946  Loss: Train = [229.0986] - Val = [215.4275]  KLD: Train = [470.9505] - Val = [471.0744]  REC: Train = [185.5256] - Val = [169.3691]  Time one epoch (s): 4.3968 \n",
      "Epoch: 179  Lr: 0.00099946  Loss: Train = [229.0847] - Val = [215.1717]  KLD: Train = [471.8008] - Val = [466.8962]  REC: Train = [185.3560] - Val = [169.8201]  Time one epoch (s): 5.0649 \n",
      "Epoch: 180  Lr: 0.00099946  Loss: Train = [229.8487] - Val = [214.6291]  KLD: Train = [476.8669] - Val = [468.6743]  REC: Train = [185.3449] - Val = [168.8593]  Time one epoch (s): 5.0902 \n",
      "Epoch: 181  Lr: 0.00099946  Loss: Train = [228.9970] - Val = [212.3288]  KLD: Train = [473.1608] - Val = [452.6925]  REC: Train = [185.0075] - Val = [169.0239]  Time one epoch (s): 4.2533 \n",
      "Epoch: 182  Lr: 0.00099946  Loss: Train = [229.9707] - Val = [216.0396]  KLD: Train = [475.1441] - Val = [473.4823]  REC: Train = [185.7993] - Val = [169.6577]  Time one epoch (s): 4.8753 \n",
      "Epoch: 183  Lr: 0.00099946  Loss: Train = [229.7411] - Val = [216.6456]  KLD: Train = [474.1699] - Val = [476.6801]  REC: Train = [185.7038] - Val = [169.7968]  Time one epoch (s): 4.1963 \n",
      "Epoch: 184  Lr: 0.00099946  Loss: Train = [229.4085] - Val = [215.8676]  KLD: Train = [473.6129] - Val = [472.2335]  REC: Train = [185.4117] - Val = [169.6798]  Time one epoch (s): 4.1955 \n",
      "Epoch: 185  Lr: 0.00099946  Loss: Train = [229.0301] - Val = [220.7958]  KLD: Train = [473.2394] - Val = [504.0761]  REC: Train = [185.0324] - Val = [169.7589]  Time one epoch (s): 4.9139 \n",
      "Epoch: 186  Lr: 0.00099946  Loss: Train = [229.4380] - Val = [213.7198]  KLD: Train = [475.0990] - Val = [459.2715]  REC: Train = [185.1788] - Val = [169.4802]  Time one epoch (s): 4.5398 \n",
      "Epoch: 187  Lr: 0.00099946  Loss: Train = [229.5174] - Val = [216.9194]  KLD: Train = [472.9855] - Val = [477.8329]  REC: Train = [185.6533] - Val = [169.9122]  Time one epoch (s): 4.0740 \n",
      "Epoch: 188  Lr: 0.00099946  Loss: Train = [229.3247] - Val = [218.1779]  KLD: Train = [474.2630] - Val = [484.0226]  REC: Train = [185.1956] - Val = [170.2823]  Time one epoch (s): 4.0907 \n",
      "Epoch: 189  Lr: 0.00099946  Loss: Train = [230.0719] - Val = [222.2074]  KLD: Train = [476.0247] - Val = [503.4051]  REC: Train = [185.7600] - Val = [171.5457]  Time one epoch (s): 4.1708 \n",
      "Epoch: 190  Lr: 0.00099946  Loss: Train = [229.8303] - Val = [216.1466]  KLD: Train = [476.9502] - Val = [473.2251]  REC: Train = [185.3082] - Val = [169.8303]  Time one epoch (s): 4.3207 \n",
      "Epoch: 191  Lr: 0.00099946  Loss: Train = [230.0963] - Val = [215.8422]  KLD: Train = [477.6106] - Val = [472.2550]  REC: Train = [185.5032] - Val = [169.6459]  Time one epoch (s): 4.6935 \n",
      "Epoch: 192  Lr: 0.00099946  Loss: Train = [229.6632] - Val = [214.8641]  KLD: Train = [476.5929] - Val = [468.6409]  REC: Train = [185.1753] - Val = [169.1427]  Time one epoch (s): 4.2109 \n",
      "Epoch: 193  Lr: 0.00099946  Loss: Train = [229.1440] - Val = [214.1925]  KLD: Train = [470.4758] - Val = [465.1955]  REC: Train = [185.6647] - Val = [168.9708]  Time one epoch (s): 4.2887 \n",
      "Epoch: 194  Lr: 0.00099946  Loss: Train = [229.3670] - Val = [213.4117]  KLD: Train = [471.6180] - Val = [455.9708]  REC: Train = [185.7222] - Val = [169.7112]  Time one epoch (s): 4.3248 \n",
      "Epoch: 195  Lr: 0.00099946  Loss: Train = [229.8190] - Val = [218.0190]  KLD: Train = [475.8267] - Val = [489.2228]  REC: Train = [185.4973] - Val = [169.1578]  Time one epoch (s): 4.5882 \n",
      "Epoch: 196  Lr: 0.00099946  Loss: Train = [229.1882] - Val = [216.3607]  KLD: Train = [474.6575] - Val = [473.3301]  REC: Train = [184.9635] - Val = [170.0641]  Time one epoch (s): 5.2337 \n",
      "Epoch: 197  Lr: 0.00099946  Loss: Train = [229.3545] - Val = [216.5321]  KLD: Train = [472.5978] - Val = [473.2843]  REC: Train = [185.5309] - Val = [170.2746]  Time one epoch (s): 8.6328 \n",
      "Epoch: 198  Lr: 0.00099946  Loss: Train = [229.2267] - Val = [216.7813]  KLD: Train = [472.1749] - Val = [479.2367]  REC: Train = [185.4562] - Val = [169.4962]  Time one epoch (s): 5.0876 \n",
      "Epoch: 199  Lr: 0.00099946  Loss: Train = [228.6758] - Val = [215.1533]  KLD: Train = [470.7347] - Val = [469.2737]  REC: Train = [185.0655] - Val = [169.3700]  Time one epoch (s): 4.2807 \n",
      "Epoch: 200  Lr: 0.00099946  Loss: Train = [229.5278] - Val = [217.6906]  KLD: Train = [474.4613] - Val = [486.8875]  REC: Train = [185.3997] - Val = [169.1910]  Time one epoch (s): 3.8880 \n",
      "Epoch: 201  Lr: 0.00099946  Loss: Train = [229.1600] - Val = [214.3251]  KLD: Train = [474.3669] - Val = [464.7272]  REC: Train = [184.9826] - Val = [169.2117]  Time one epoch (s): 3.7402 \n",
      "Epoch: 202  Lr: 0.00099946  Loss: Train = [229.4469] - Val = [216.1194]  KLD: Train = [474.1904] - Val = [471.4828]  REC: Train = [185.3530] - Val = [170.1121]  Time one epoch (s): 4.6005 \n",
      "Epoch: 203  Lr: 0.00099946  Loss: Train = [229.5036] - Val = [213.3259]  KLD: Train = [472.9558] - Val = [455.2900]  REC: Train = [185.6423] - Val = [169.7326]  Time one epoch (s): 5.3232 \n",
      "Epoch: 204  Lr: 0.00099946  Loss: Train = [228.8552] - Val = [215.3481]  KLD: Train = [470.1711] - Val = [473.4658]  REC: Train = [185.3788] - Val = [168.8446]  Time one epoch (s): 5.3227 \n",
      "Epoch: 205  Lr: 0.00099946  Loss: Train = [228.8338] - Val = [214.3734]  KLD: Train = [473.2717] - Val = [462.3957]  REC: Train = [184.7950] - Val = [169.6888]  Time one epoch (s): 6.6055 \n",
      "Epoch: 206  Lr: 0.00099946  Loss: Train = [229.1247] - Val = [215.4354]  KLD: Train = [474.3419] - Val = [468.1007]  REC: Train = [184.9454] - Val = [169.9143]  Time one epoch (s): 6.4553 \n",
      "Epoch: 207  Lr: 0.00099946  Loss: Train = [229.1377] - Val = [216.0470]  KLD: Train = [473.4749] - Val = [476.0368]  REC: Train = [185.1169] - Val = [169.2062]  Time one epoch (s): 4.4391 \n",
      "Epoch: 208  Lr: 0.00099946  Loss: Train = [228.8576] - Val = [215.0347]  KLD: Train = [471.3955] - Val = [467.6894]  REC: Train = [185.1611] - Val = [169.5154]  Time one epoch (s): 6.5357 \n",
      "Epoch: 209  Lr: 0.00099946  Loss: Train = [229.1052] - Val = [214.7085]  KLD: Train = [473.5189] - Val = [468.1558]  REC: Train = [185.0707] - Val = [169.0464]  Time one epoch (s): 4.0589 \n",
      "Epoch: 210  Lr: 0.00099946  Loss: Train = [229.0100] - Val = [214.9537]  KLD: Train = [472.7099] - Val = [467.1602]  REC: Train = [185.1041] - Val = [169.5152]  Time one epoch (s): 4.9753 \n",
      "Epoch: 211  Lr: 0.00099946  Loss: Train = [228.8881] - Val = [215.8573]  KLD: Train = [472.5829] - Val = [470.5816]  REC: Train = [184.9831] - Val = [169.9652]  Time one epoch (s): 6.5826 \n",
      "Epoch: 212  Lr: 0.00099946  Loss: Train = [228.8288] - Val = [219.8055]  KLD: Train = [471.9321] - Val = [497.6140]  REC: Train = [185.0303] - Val = [169.7545]  Time one epoch (s): 6.4673 \n",
      "Epoch: 213  Lr: 0.00099946  Loss: Train = [229.0826] - Val = [213.8574]  KLD: Train = [475.3564] - Val = [457.6641]  REC: Train = [184.7130] - Val = [169.9322]  Time one epoch (s): 6.4078 \n",
      "Epoch: 214  Lr: 0.00099946  Loss: Train = [229.4946] - Val = [213.8017]  KLD: Train = [472.9164] - Val = [460.8547]  REC: Train = [185.6388] - Val = [169.2916]  Time one epoch (s): 6.1592 \n",
      "Epoch: 215  Lr: 0.00099946  Loss: Train = [229.0370] - Val = [216.7678]  KLD: Train = [473.6828] - Val = [475.7639]  REC: Train = [184.9606] - Val = [170.1060]  Time one epoch (s): 6.5786 \n",
      "Epoch: 216  Lr: 0.00099946  Loss: Train = [228.9601] - Val = [213.8937]  KLD: Train = [473.3712] - Val = [462.8660]  REC: Train = [184.9260] - Val = [169.0378]  Time one epoch (s): 6.8089 \n",
      "Epoch: 217  Lr: 0.00099946  Loss: Train = [228.9224] - Val = [215.0366]  KLD: Train = [472.7393] - Val = [471.0104]  REC: Train = [184.9953] - Val = [168.9194]  Time one epoch (s): 15.3579 \n",
      "Epoch: 218  Lr: 0.00099946  Loss: Train = [228.6182] - Val = [215.2846]  KLD: Train = [474.1533] - Val = [473.8029]  REC: Train = [184.3816] - Val = [168.7090]  Time one epoch (s): 7.0292 \n",
      "Epoch: 219  Lr: 0.00099946  Loss: Train = [229.0630] - Val = [215.6042]  KLD: Train = [474.8641] - Val = [473.3736]  REC: Train = [184.7785] - Val = [169.1635]  Time one epoch (s): 5.6630 \n",
      "Epoch: 220  Lr: 0.00099946  Loss: Train = [229.6001] - Val = [217.0719]  KLD: Train = [476.6443] - Val = [475.0428]  REC: Train = [185.0916] - Val = [170.5948]  Time one epoch (s): 6.9017 \n",
      "Epoch: 221  Lr: 0.00099946  Loss: Train = [228.7738] - Val = [216.4822]  KLD: Train = [473.5561] - Val = [478.3654]  REC: Train = [184.6729] - Val = [169.3003]  Time one epoch (s): 5.1479 \n",
      "Epoch: 222  Lr: 0.00099946  Loss: Train = [228.6077] - Val = [216.9809]  KLD: Train = [471.4937] - Val = [483.6330]  REC: Train = [184.8484] - Val = [168.9398]  Time one epoch (s): 4.4088 \n",
      "Epoch: 223  Lr: 0.00099946  Loss: Train = [229.9828] - Val = [216.7315]  KLD: Train = [478.4772] - Val = [478.3444]  REC: Train = [185.2130] - Val = [169.5983]  Time one epoch (s): 4.7848 \n",
      "Epoch: 224  Lr: 0.00099946  Loss: Train = [228.8473] - Val = [218.0598]  KLD: Train = [474.8239] - Val = [492.1060]  REC: Train = [184.5312] - Val = [168.6865]  Time one epoch (s): 4.1786 \n",
      "Epoch: 225  Lr: 0.00099946  Loss: Train = [228.9165] - Val = [215.1043]  KLD: Train = [474.6350] - Val = [469.4734]  REC: Train = [184.6469] - Val = [169.2762]  Time one epoch (s): 5.0288 \n",
      "Epoch: 226  Lr: 0.00099946  Loss: Train = [228.7579] - Val = [217.4092]  KLD: Train = [472.5308] - Val = [483.4129]  REC: Train = [184.8388] - Val = [169.4849]  Time one epoch (s): 4.7172 \n",
      "Epoch: 227  Lr: 0.00099946  Loss: Train = [229.3883] - Val = [215.0668]  KLD: Train = [474.8171] - Val = [472.1748]  REC: Train = [185.1708] - Val = [168.7452]  Time one epoch (s): 4.3865 \n",
      "Epoch: 228  Lr: 0.00099946  Loss: Train = [228.4981] - Val = [214.1411]  KLD: Train = [472.0443] - Val = [463.0516]  REC: Train = [184.6199] - Val = [169.2964]  Time one epoch (s): 5.0734 \n",
      "Epoch: 229  Lr: 0.00099946  Loss: Train = [228.8234] - Val = [214.4090]  KLD: Train = [472.5260] - Val = [465.1814]  REC: Train = [184.9170] - Val = [169.2289]  Time one epoch (s): 6.4606 \n",
      "Epoch: 230  Lr: 0.00099946  Loss: Train = [229.1944] - Val = [214.4535]  KLD: Train = [473.1346] - Val = [464.3552]  REC: Train = [185.2452] - Val = [169.4302]  Time one epoch (s): 6.2162 \n",
      "Epoch: 231  Lr: 0.00099946  Loss: Train = [228.0006] - Val = [213.4842]  KLD: Train = [469.6352] - Val = [462.5917]  REC: Train = [184.4667] - Val = [168.6040]  Time one epoch (s): 6.3291 \n",
      "Epoch: 232  Lr: 0.00099946  Loss: Train = [229.2066] - Val = [213.3676]  KLD: Train = [475.8209] - Val = [458.3772]  REC: Train = [184.7756] - Val = [169.2257]  Time one epoch (s): 7.3911 \n",
      "Epoch: 233  Lr: 0.00099946  Loss: Train = [228.7800] - Val = [215.9423]  KLD: Train = [473.3453] - Val = [474.1801]  REC: Train = [184.7181] - Val = [169.4171]  Time one epoch (s): 5.2401 \n",
      "Epoch: 234  Lr: 0.00099946  Loss: Train = [228.5594] - Val = [216.9442]  KLD: Train = [473.9864] - Val = [481.5566]  REC: Train = [184.3423] - Val = [169.2706]  Time one epoch (s): 5.9500 \n",
      "Epoch: 235  Lr: 0.00099946  Loss: Train = [228.9022] - Val = [215.7851]  KLD: Train = [474.9663] - Val = [473.7119]  REC: Train = [184.5703] - Val = [169.3160]  Time one epoch (s): 4.7924 \n",
      "Epoch: 236  Lr: 0.00099946  Loss: Train = [228.5981] - Val = [214.5580]  KLD: Train = [470.8278] - Val = [466.9116]  REC: Train = [184.9570] - Val = [169.0930]  Time one epoch (s): 6.3830 \n",
      "Epoch: 237  Lr: 0.00099946  Loss: Train = [228.9247] - Val = [218.0234]  KLD: Train = [474.9249] - Val = [487.4138]  REC: Train = [184.6043] - Val = [169.4889]  Time one epoch (s): 5.2499 \n",
      "Epoch: 238  Lr: 0.00099946  Loss: Train = [229.3043] - Val = [216.0082]  KLD: Train = [475.8186] - Val = [473.1591]  REC: Train = [184.8913] - Val = [169.6789]  Time one epoch (s): 5.1066 \n",
      "Epoch: 239  Lr: 0.00099946  Loss: Train = [228.5468] - Val = [215.0412]  KLD: Train = [472.8945] - Val = [466.8169]  REC: Train = [184.5242] - Val = [169.6803]  Time one epoch (s): 4.3062 \n",
      "Epoch: 240  Lr: 0.00099946  Loss: Train = [228.3373] - Val = [214.3137]  KLD: Train = [473.1945] - Val = [464.9751]  REC: Train = [184.2228] - Val = [169.1535]  Time one epoch (s): 4.7908 \n",
      "Epoch: 241  Lr: 0.00099946  Loss: Train = [228.7928] - Val = [213.8071]  KLD: Train = [474.3410] - Val = [461.6832]  REC: Train = [184.5539] - Val = [169.1487]  Time one epoch (s): 4.3687 \n",
      "Epoch: 242  Lr: 0.00099946  Loss: Train = [228.7234] - Val = [212.9443]  KLD: Train = [472.9686] - Val = [458.6141]  REC: Train = [184.7192] - Val = [168.6835]  Time one epoch (s): 4.9619 \n",
      "Epoch: 243  Lr: 0.00099946  Loss: Train = [228.6741] - Val = [215.0094]  KLD: Train = [472.8125] - Val = [466.6744]  REC: Train = [184.6891] - Val = [169.6684]  Time one epoch (s): 9.2468 \n",
      "Epoch: 244  Lr: 0.00099946  Loss: Train = [228.5490] - Val = [214.8826]  KLD: Train = [471.8807] - Val = [466.3784]  REC: Train = [184.7094] - Val = [169.5721]  Time one epoch (s): 6.9675 \n",
      "Epoch: 245  Lr: 0.00099946  Loss: Train = [228.3582] - Val = [214.7877]  KLD: Train = [473.7376] - Val = [466.8106]  REC: Train = [184.1496] - Val = [169.3823]  Time one epoch (s): 5.3771 \n",
      "Epoch: 246  Lr: 0.00099946  Loss: Train = [228.8265] - Val = [213.8310]  KLD: Train = [474.0736] - Val = [464.2534]  REC: Train = [184.6418] - Val = [168.7140]  Time one epoch (s): 5.2743 \n",
      "Epoch: 247  Lr: 0.00099946  Loss: Train = [228.2698] - Val = [219.4859]  KLD: Train = [470.9423] - Val = [496.9086]  REC: Train = [184.5490] - Val = [169.5044]  Time one epoch (s): 4.1114 \n",
      "Epoch: 248  Lr: 0.00099946  Loss: Train = [229.8926] - Val = [215.7780]  KLD: Train = [481.7432] - Val = [473.6260]  REC: Train = [184.5183] - Val = [169.3231]  Time one epoch (s): 5.0592 \n",
      "Epoch: 249  Lr: 0.00099946  Loss: Train = [228.9431] - Val = [220.7757]  KLD: Train = [476.5744] - Val = [502.1351]  REC: Train = [184.3289] - Val = [170.0849]  Time one epoch (s): 4.0473 \n",
      "Epoch: 250  Lr: 0.00099946  Loss: Train = [229.7061] - Val = [214.0867]  KLD: Train = [481.4574] - Val = [462.1800]  REC: Train = [184.3496] - Val = [169.3892]  Time one epoch (s): 4.7874 \n",
      "Time for 250 epochs (s): 1226.709\n"
     ]
    }
   ],
   "source": [
    "vae_statistics = vae_training_loop(vae_num_epochs, vae_optimizer, vae_scheduler, vae, train_dataloader,\n",
    "                                    val_dataloader, betascheduler_train, betascheduler_val, strategy1 = best_params['strategy'], criterion = criterion )\n",
    "\n"
   ],
   "metadata": {
    "collapsed": false,
    "pycharm": {
     "name": "#%%\n"
    }
   }
  },
  {
   "cell_type": "code",
   "execution_count": 40,
   "outputs": [
    {
     "name": "stdout",
     "output_type": "stream",
     "text": [
      "Best val mae:  0.00182 epoch: 172\n"
     ]
    }
   ],
   "source": [
    "best_epoch_loss_vae = np.argmin(vae_statistics['loss_mae_val']) + 1\n",
    "best_loss_vae = vae_statistics['loss_mae_val'][best_epoch_loss_vae - 1]\n",
    "\n",
    "print(f'Best val mae: {best_loss_vae: .5f} epoch: {best_epoch_loss_vae}')"
   ],
   "metadata": {
    "collapsed": false,
    "pycharm": {
     "name": "#%%\n"
    }
   }
  },
  {
   "cell_type": "code",
   "execution_count": 68,
   "outputs": [],
   "source": [
    "# Save the model\n",
    "\n",
    "EPOCH = best_epoch_loss_vae\n",
    "CHECKPOINT_ROOT = os.path.join(ROOT,'model_KDDCUP99')\n",
    "LOSS = best_loss_vae\n",
    "\n",
    "if not os.path.exists(CHECKPOINT_ROOT):\n",
    "    os.makedirs(CHECKPOINT_ROOT)\n",
    "\n",
    "torch.save({\n",
    "            'epoch': EPOCH,\n",
    "            'model_state_dict':vae.state_dict(),\n",
    "            'optimizer_state_dict': vae_optimizer.state_dict(),\n",
    "            'scheduler_state_dict': vae_scheduler.state_dict(),\n",
    "            'loss': LOSS,\n",
    "            }, os.path.join(CHECKPOINT_ROOT,'VAE','vae_model.pt'))"
   ],
   "metadata": {
    "collapsed": false,
    "pycharm": {
     "name": "#%%\n"
    }
   }
  },
  {
   "cell_type": "code",
   "execution_count": 69,
   "outputs": [],
   "source": [
    "vae_statistics['loss_mae_val'] = list(np.array(vae_statistics['loss_mae_val']).reshape(-1))\n",
    "vae_statistics['loss_mae_train'] = list(np.array(vae_statistics['loss_mae_train']).reshape(-1))"
   ],
   "metadata": {
    "collapsed": false,
    "pycharm": {
     "name": "#%%\n"
    }
   }
  },
  {
   "cell_type": "code",
   "execution_count": 70,
   "outputs": [],
   "source": [
    "for k in vae_statistics.keys():\n",
    "    try:\n",
    "        vae_statistics[k] = [float(el) for el in vae_statistics[k]]\n",
    "    except:\n",
    "        pass"
   ],
   "metadata": {
    "collapsed": false,
    "pycharm": {
     "name": "#%%\n"
    }
   }
  },
  {
   "cell_type": "code",
   "execution_count": 71,
   "outputs": [],
   "source": [
    "with open(os.path.join(CHECKPOINT_ROOT,'VAE','model_stats.json'), 'w+') as f:\n",
    "    json.dump(vae_statistics, f)"
   ],
   "metadata": {
    "collapsed": false,
    "pycharm": {
     "name": "#%%\n"
    }
   }
  },
  {
   "cell_type": "code",
   "execution_count": 71,
   "outputs": [],
   "source": [
    "with open(os.path.join(ROOT,'model_KDDCUP99','VAE','best_param.json'), 'w+') as f:\n",
    "    json.dump(best_trial.params,f)"
   ],
   "metadata": {
    "collapsed": false,
    "pycharm": {
     "name": "#%%\n"
    }
   }
  },
  {
   "cell_type": "code",
   "execution_count": 73,
   "outputs": [
    {
     "data": {
      "text/plain": "<Figure size 720x288 with 1 Axes>",
      "image/png": "[encoded data removed]"
     },
     "metadata": {
      "needs_background": "light"
     },
     "output_type": "display_data"
    }
   ],
   "source": [
    "fig = plt.figure(figsize =(10,4))\n",
    "plt.title(f'Reconstruction Loss' )\n",
    "plt.plot(np.arange(vae_num_epochs),vae_statistics['loss_rec_train'], label = 'train')\n",
    "plt.plot(np.arange(vae_num_epochs), vae_statistics['loss_rec_val'] ,label = 'val')\n",
    "plt.xlabel('Epochs')\n",
    "plt.ylabel('Loss')\n",
    "plt.legend()\n",
    "plt.show()\n",
    "\n",
    "fig.savefig(os.path.join(CHECKPOINT_ROOT,'VAE','rec_loss.png'))\n"
   ],
   "metadata": {
    "collapsed": false,
    "pycharm": {
     "name": "#%%\n"
    }
   }
  },
  {
   "cell_type": "code",
   "execution_count": 74,
   "outputs": [
    {
     "data": {
      "text/plain": "<Figure size 720x288 with 1 Axes>",
      "image/png": "[encoded data removed]"
     },
     "metadata": {
      "needs_background": "light"
     },
     "output_type": "display_data"
    }
   ],
   "source": [
    "fig = plt.figure(figsize =(10,4))\n",
    "\n",
    "plt.title(f'KL Loss')\n",
    "plt.plot(np.arange(vae_num_epochs), np.array(vae_statistics['loss_kld_train']), label = 'train')\n",
    "plt.plot(np.arange(vae_num_epochs), np.array(vae_statistics['loss_kld_val']) ,label = 'val')\n",
    "plt.xlabel('Epochs')\n",
    "plt.ylabel('Loss')\n",
    "plt.legend()\n",
    "plt.show()\n",
    "\n",
    "fig.savefig(os.path.join(CHECKPOINT_ROOT,'VAE','kl_loss.png'))"
   ],
   "metadata": {
    "collapsed": false,
    "pycharm": {
     "name": "#%%\n"
    }
   }
  },
  {
   "cell_type": "code",
   "execution_count": 75,
   "outputs": [
    {
     "data": {
      "text/plain": "<Figure size 720x288 with 1 Axes>",
      "image/png": "[encoded data removed]"
     },
     "metadata": {
      "needs_background": "light"
     },
     "output_type": "display_data"
    }
   ],
   "source": [
    "fig = plt.figure(figsize =(10,4))\n",
    "\n",
    "plt.title(f'tot Loss')\n",
    "plt.plot(np.arange(vae_num_epochs),np.array(vae_statistics['loss_values_train']), label = 'train')\n",
    "plt.plot(np.arange(vae_num_epochs),np.array(vae_statistics['loss_values_val']) ,label = 'val')\n",
    "plt.xlabel('Epochs')\n",
    "plt.ylabel('Loss')\n",
    "plt.legend()\n",
    "plt.show()\n",
    "\n",
    "fig.savefig(os.path.join(CHECKPOINT_ROOT,'VAE','tot_loss.png'))"
   ],
   "metadata": {
    "collapsed": false,
    "pycharm": {
     "name": "#%%\n"
    }
   }
  },
  {
   "cell_type": "code",
   "execution_count": 76,
   "outputs": [
    {
     "data": {
      "text/plain": "<Figure size 720x288 with 1 Axes>",
      "image/png": "[encoded data removed]"
     },
     "metadata": {
      "needs_background": "light"
     },
     "output_type": "display_data"
    }
   ],
   "source": [
    "fig = plt.figure(figsize =(10,4))\n",
    "\n",
    "plt.title(f'mae values')\n",
    "\n",
    "plt.plot(np.arange(vae_num_epochs),np.array(vae_statistics['loss_mae_train']), label = 'train')\n",
    "plt.plot(np.arange(vae_num_epochs),np.array(vae_statistics['loss_mae_val']) ,label = 'val')\n",
    "plt.xlabel('Epochs')\n",
    "plt.ylabel('Loss')\n",
    "plt.legend()\n",
    "plt.show()\n",
    "\n",
    "fig.savefig(os.path.join(CHECKPOINT_ROOT,'VAE','mae_values.png'))"
   ],
   "metadata": {
    "collapsed": false,
    "pycharm": {
     "name": "#%%\n"
    }
   }
  },
  {
   "cell_type": "code",
   "execution_count": 41,
   "outputs": [],
   "source": [
    "train_res, train_res_enc = compute_prediction(vae,train_dataset, has_real = False)\n",
    "train_res = np.array([el.numpy() for el in train_res]).squeeze(1)"
   ],
   "metadata": {
    "collapsed": false,
    "pycharm": {
     "name": "#%%\n"
    }
   }
  },
  {
   "cell_type": "code",
   "execution_count": 42,
   "outputs": [
    {
     "name": "stdout",
     "output_type": "stream",
     "text": [
      "Avg error 0.0018768198031455195\n",
      "median error 0.0014050010336230036\n",
      "99Q: 0.00954480767497776\n",
      "setting threshold on 0.00954480767497776 \n"
     ]
    }
   ],
   "source": [
    "train_mae_vector = get_error_term(train_res, X_train, _rmse=False)\n",
    "print(\n",
    "    f'Avg error {np.mean(train_mae_vector)}\\nmedian error {np.median(train_mae_vector)}\\n99Q: {np.quantile(train_mae_vector, 0.99)}')\n",
    "print(f'setting threshold on {np.quantile(train_mae_vector, 0.99)} ')\n",
    "error_thresh = np.quantile(train_mae_vector, 0.99)\n",
    "train_anomalies = (train_mae_vector > error_thresh)"
   ],
   "metadata": {
    "collapsed": false,
    "pycharm": {
     "name": "#%%\n"
    }
   }
  },
  {
   "cell_type": "code",
   "execution_count": 44,
   "outputs": [
    {
     "data": {
      "text/plain": "0.011093502377179081"
     },
     "execution_count": 44,
     "metadata": {},
     "output_type": "execute_result"
    }
   ],
   "source": [
    "val_res, val_res_enc = compute_prediction(vae,val_dataset, has_real = False)\n",
    "val_res = np.array([el.numpy() for el  in val_res]).squeeze(1) # np.array([el.rsample().numpy() for el  in val_res]).squeeze(1)\n",
    "val_mae_vector = get_error_term(val_res, X_val, _rmse=False)\n",
    "val_anomalies = (val_mae_vector > error_thresh)\n",
    "\n",
    "np.count_nonzero(val_anomalies) / len(val_anomalies)"
   ],
   "metadata": {
    "collapsed": false,
    "pycharm": {
     "name": "#%%\n"
    }
   }
  },
  {
   "cell_type": "code",
   "execution_count": 80,
   "outputs": [],
   "source": [
    "val_encoded = np.array([d.loc.numpy() for d in val_res_enc]).squeeze(1)"
   ],
   "metadata": {
    "collapsed": false,
    "pycharm": {
     "name": "#%%\n"
    }
   }
  },
  {
   "cell_type": "code",
   "execution_count": 90,
   "outputs": [
    {
     "data": {
      "text/plain": "<Figure size 864x720 with 1 Axes>",
      "image/png": "[encoded data removed]"
     },
     "metadata": {
      "needs_background": "light"
     },
     "output_type": "display_data"
    }
   ],
   "source": [
    "pca = PCA(n_components=2)\n",
    "pca = pca.fit(val_encoded)\n",
    "X_transform = pca.transform(val_encoded)\n",
    "\n",
    "plt.figure(figsize=(12, 10))\n",
    "sns.scatterplot(x=X_transform[:, 0], y=X_transform[:, 1], s=20, hue=val_mae_vector)\n",
    "plt.grid()\n",
    "plt.show()"
   ],
   "metadata": {
    "collapsed": false,
    "pycharm": {
     "name": "#%%\n"
    }
   }
  },
  {
   "cell_type": "code",
   "execution_count": 18,
   "outputs": [],
   "source": [
    "val_res, val_res_enc = compute_prediction(vae,val_dataset, has_real = False)\n",
    "val_res = np.array([el.numpy() for el  in val_res]).squeeze(1) # np.array([el.rsample().numpy() for el  in val_res]).squeeze(1)\n",
    "test_res, test_res_enc = compute_prediction(vae,test_dataset, has_real = False)\n",
    "test_res = np.array([el.numpy() for el  in test_res]).squeeze(1) # np.array([el.rsample().numpy() for el  in val_res]).squeeze(1)"
   ],
   "metadata": {
    "collapsed": false,
    "pycharm": {
     "name": "#%%\n"
    }
   }
  },
  {
   "cell_type": "code",
   "execution_count": 96,
   "outputs": [
    {
     "data": {
      "text/plain": "0.4640984786184211"
     },
     "execution_count": 96,
     "metadata": {},
     "output_type": "execute_result"
    }
   ],
   "source": [
    "test_res, test_res_enc = compute_prediction(vae,test_dataset, has_real = False)\n",
    "test_res = np.array([el.numpy() for el  in test_res]).squeeze(1) # np.array([el.rsample().numpy() for el  in val_res]).squeeze(1)\n",
    "mae_vector = get_error_term(test_res, X_test, _rmse=False)\n",
    "anomalies = (mae_vector > error_thresh)\n",
    "\n",
    "np.count_nonzero(anomalies) / len(anomalies)"
   ],
   "metadata": {
    "collapsed": false,
    "pycharm": {
     "name": "#%%\n"
    }
   }
  },
  {
   "cell_type": "code",
   "execution_count": 89,
   "outputs": [
    {
     "ename": "NameError",
     "evalue": "name 'pca' is not defined",
     "output_type": "error",
     "traceback": [
      "\u001B[1;31m---------------------------------------------------------------------------\u001B[0m",
      "\u001B[1;31mNameError\u001B[0m                                 Traceback (most recent call last)",
      "Input \u001B[1;32mIn [89]\u001B[0m, in \u001B[0;36m<cell line: 2>\u001B[1;34m()\u001B[0m\n\u001B[0;32m      1\u001B[0m test_encoded \u001B[38;5;241m=\u001B[39m np\u001B[38;5;241m.\u001B[39marray([d\u001B[38;5;241m.\u001B[39mloc\u001B[38;5;241m.\u001B[39mnumpy() \u001B[38;5;28;01mfor\u001B[39;00m d \u001B[38;5;129;01min\u001B[39;00m test_res_enc])\u001B[38;5;241m.\u001B[39msqueeze(\u001B[38;5;241m1\u001B[39m)\n\u001B[1;32m----> 2\u001B[0m X_transform_test \u001B[38;5;241m=\u001B[39m \u001B[43mpca\u001B[49m\u001B[38;5;241m.\u001B[39mtransform(test_encoded)\n\u001B[0;32m      3\u001B[0m plt\u001B[38;5;241m.\u001B[39mfigure(figsize\u001B[38;5;241m=\u001B[39m(\u001B[38;5;241m12\u001B[39m, \u001B[38;5;241m10\u001B[39m))\n\u001B[0;32m      4\u001B[0m sns\u001B[38;5;241m.\u001B[39mscatterplot(x\u001B[38;5;241m=\u001B[39mX_transform_test[:, \u001B[38;5;241m0\u001B[39m], y\u001B[38;5;241m=\u001B[39mX_transform_test[:, \u001B[38;5;241m1\u001B[39m], s\u001B[38;5;241m=\u001B[39m\u001B[38;5;241m20\u001B[39m, hue\u001B[38;5;241m=\u001B[39mmae_vector)\n",
      "\u001B[1;31mNameError\u001B[0m: name 'pca' is not defined"
     ]
    }
   ],
   "source": [
    "test_encoded = np.array([d.loc.numpy() for d in test_res_enc]).squeeze(1)\n",
    "X_transform_test = pca.transform(test_encoded)\n",
    "plt.figure(figsize=(12, 10))\n",
    "sns.scatterplot(x=X_transform_test[:, 0], y=X_transform_test[:, 1], s=20, hue=mae_vector)\n",
    "plt.grid()\n",
    "plt.show()"
   ],
   "metadata": {
    "collapsed": false,
    "pycharm": {
     "name": "#%%\n"
    }
   }
  },
  {
   "cell_type": "code",
   "execution_count": 90,
   "outputs": [
    {
     "name": "stderr",
     "output_type": "stream",
     "text": [
      "c:\\users\\39320\\netlov\\lib\\site-packages\\sklearn\\metrics\\_classification.py:1327: UndefinedMetricWarning: Recall and F-score are ill-defined and being set to 0.0 in labels with no true samples. Use `zero_division` parameter to control this behavior.\n",
      "  _warn_prf(average, modifier, msg_start, len(result))\n"
     ]
    },
    {
     "name": "stdout",
     "output_type": "stream",
     "text": [
      "\n",
      " classification report \n",
      "               precision    recall  f1-score   support\n",
      "\n",
      "         0.0       1.00      0.96      0.98     54475\n",
      "         1.0       0.00      0.00      0.00         0\n",
      "\n",
      "    accuracy                           0.96     54475\n",
      "   macro avg       0.50      0.48      0.49     54475\n",
      "weighted avg       1.00      0.96      0.98     54475\n",
      "\n"
     ]
    },
    {
     "name": "stderr",
     "output_type": "stream",
     "text": [
      "c:\\users\\39320\\netlov\\lib\\site-packages\\sklearn\\metrics\\_classification.py:1327: UndefinedMetricWarning: Recall and F-score are ill-defined and being set to 0.0 in labels with no true samples. Use `zero_division` parameter to control this behavior.\n",
      "  _warn_prf(average, modifier, msg_start, len(result))\n",
      "c:\\users\\39320\\netlov\\lib\\site-packages\\sklearn\\metrics\\_classification.py:1327: UndefinedMetricWarning: Recall and F-score are ill-defined and being set to 0.0 in labels with no true samples. Use `zero_division` parameter to control this behavior.\n",
      "  _warn_prf(average, modifier, msg_start, len(result))\n"
     ]
    }
   ],
   "source": [
    "train_mae_vae =  pd.DataFrame(np.abs(train_res - X_train ))\n",
    "val_mae_vae = pd.DataFrame(np.abs(val_res - X_val))\n",
    "test_mae_vae = pd.DataFrame(np.abs(test_res - X_test ))\n",
    "\n",
    "train_prob_vae = np.where(train_mae_vae > train_mae_vae.quantile(0.99, axis = 0),1,0).mean(axis = 1)\n",
    "train_pred_anomalies_vae = np.where(train_prob_vae >0.05, True, False)\n",
    "print(f'\\n classification report \\n {classification_report(np.zeros(len(train_pred_anomalies_vae)), train_pred_anomalies_vae)}')\n"
   ],
   "metadata": {
    "collapsed": false,
    "pycharm": {
     "name": "#%%\n"
    }
   }
  },
  {
   "cell_type": "code",
   "execution_count": 98,
   "outputs": [
    {
     "name": "stdout",
     "output_type": "stream",
     "text": [
      "\n",
      " classification report \n",
      "               precision    recall  f1-score   support\n",
      "\n",
      "         0.0       1.00      0.99      0.99     23347\n",
      "         1.0       0.00      0.00      0.00         0\n",
      "\n",
      "    accuracy                           0.99     23347\n",
      "   macro avg       0.50      0.49      0.50     23347\n",
      "weighted avg       1.00      0.99      0.99     23347\n",
      "\n"
     ]
    },
    {
     "name": "stderr",
     "output_type": "stream",
     "text": [
      "c:\\users\\39320\\netlov\\lib\\site-packages\\sklearn\\metrics\\_classification.py:1327: UndefinedMetricWarning: Recall and F-score are ill-defined and being set to 0.0 in labels with no true samples. Use `zero_division` parameter to control this behavior.\n",
      "  _warn_prf(average, modifier, msg_start, len(result))\n",
      "c:\\users\\39320\\netlov\\lib\\site-packages\\sklearn\\metrics\\_classification.py:1327: UndefinedMetricWarning: Recall and F-score are ill-defined and being set to 0.0 in labels with no true samples. Use `zero_division` parameter to control this behavior.\n",
      "  _warn_prf(average, modifier, msg_start, len(result))\n",
      "c:\\users\\39320\\netlov\\lib\\site-packages\\sklearn\\metrics\\_classification.py:1327: UndefinedMetricWarning: Recall and F-score are ill-defined and being set to 0.0 in labels with no true samples. Use `zero_division` parameter to control this behavior.\n",
      "  _warn_prf(average, modifier, msg_start, len(result))\n"
     ]
    }
   ],
   "source": [
    "#val_prob_vae = np.where(val_mae_vae > train_mae_vae.quantile(0.99, axis=0), 1, 0).mean(axis=1)\n",
    "#val_pred_anomalies_vae = np.where(val_prob_vae > 0.05, True, False)\n",
    "\n",
    "val_pred_anomalies_vae = (val_mae_vae.mean(axis = 1) > error_thresh)\n",
    "print(\n",
    "    f'\\n classification report \\n {classification_report(np.zeros(len(val_pred_anomalies_vae)), val_pred_anomalies_vae)}')"
   ],
   "metadata": {
    "collapsed": false,
    "pycharm": {
     "name": "#%%\n"
    }
   }
  },
  {
   "cell_type": "code",
   "execution_count": 99,
   "outputs": [
    {
     "data": {
      "text/plain": "array([[23088,   259]], dtype=int64)"
     },
     "execution_count": 99,
     "metadata": {},
     "output_type": "execute_result"
    }
   ],
   "source": [
    "contingency_matrix(np.zeros(len(val_pred_anomalies_vae)), val_pred_anomalies_vae)"
   ],
   "metadata": {
    "collapsed": false,
    "pycharm": {
     "name": "#%%\n"
    }
   }
  },
  {
   "cell_type": "code",
   "execution_count": 125,
   "outputs": [
    {
     "data": {
      "text/plain": "array([0.01652893, 0.00826446, 0.01652893, ..., 0.65289256, 0.6446281 ,\n       0.65289256])"
     },
     "execution_count": 125,
     "metadata": {},
     "output_type": "execute_result"
    }
   ],
   "source": [
    "test_prob_vae"
   ],
   "metadata": {
    "collapsed": false,
    "pycharm": {
     "name": "#%%\n"
    }
   }
  },
  {
   "cell_type": "code",
   "execution_count": 127,
   "outputs": [
    {
     "name": "stdout",
     "output_type": "stream",
     "text": [
      "\n",
      " classification report \n",
      "               precision    recall  f1-score   support\n",
      "\n",
      "         0.0       0.91      0.98      0.94     19456\n",
      "         1.0       0.97      0.90      0.94     19456\n",
      "\n",
      "    accuracy                           0.94     38912\n",
      "   macro avg       0.94      0.94      0.94     38912\n",
      "weighted avg       0.94      0.94      0.94     38912\n",
      "\n"
     ]
    }
   ],
   "source": [
    "#test_prob_vae = np.where(test_mae_vae > train_mae_vae.quantile(0.99, axis=0), 1, 0).mean(axis=1)\n",
    "#test_pred_anomalies_vae = np.where(test_prob_vae > 0.05, True, False)\n",
    "test_pred_anomalies_vae = (test_mae_vae.mean(axis = 1) > error_thresh)\n",
    "\n",
    "print(f'\\n classification report \\n {classification_report(y_test, test_pred_anomalies_vae)}')"
   ],
   "metadata": {
    "collapsed": false,
    "pycharm": {
     "name": "#%%\n"
    }
   }
  },
  {
   "cell_type": "code",
   "execution_count": 102,
   "outputs": [
    {
     "data": {
      "text/plain": "38912"
     },
     "execution_count": 102,
     "metadata": {},
     "output_type": "execute_result"
    }
   ],
   "source": [
    "len(y_test)"
   ],
   "metadata": {
    "collapsed": false,
    "pycharm": {
     "name": "#%%\n"
    }
   }
  },
  {
   "cell_type": "code",
   "execution_count": 101,
   "outputs": [
    {
     "data": {
      "text/plain": "array([[19002,   454],\n       [ 1851, 17605]], dtype=int64)"
     },
     "execution_count": 101,
     "metadata": {},
     "output_type": "execute_result"
    }
   ],
   "source": [
    "contingency_matrix(y_test, test_pred_anomalies_vae)"
   ],
   "metadata": {
    "collapsed": false,
    "pycharm": {
     "name": "#%%\n"
    }
   }
  },
  {
   "cell_type": "markdown",
   "source": [
    "PCA REC"
   ],
   "metadata": {
    "collapsed": false
   }
  },
  {
   "cell_type": "code",
   "execution_count": 105,
   "outputs": [],
   "source": [
    "def pca_reconstruct(dataset: np.ndarray,\n",
    "                    pca_model: PCA):\n",
    "    '''\n",
    "    :param dataset: input dataset\n",
    "    :param pca_model: pca model already fitted on X_train\n",
    "    :return: per sample reconstruction error, dataset reconstructed\n",
    "    '''\n",
    "\n",
    "    dataset_transformed = pca_model.transform(dataset)\n",
    "    dataset_reconstructed = pca_model.inverse_transform(dataset_transformed)\n",
    "    rec_error = (np.abs(dataset - dataset_reconstructed)).mean(axis = 1)\n",
    "    return rec_error, dataset_reconstructed\n"
   ],
   "metadata": {
    "collapsed": false,
    "pycharm": {
     "name": "#%%\n"
    }
   }
  },
  {
   "cell_type": "code",
   "execution_count": 106,
   "outputs": [],
   "source": [
    "def objective_PCA(trial,dataset_train,dataset_val):\n",
    "\n",
    "    params = {'n_comp': trial.suggest_int('n_comp', 1,120)}\n",
    "    pca = PCA(n_components = params['n_comp'])\n",
    "    pca = pca.fit(dataset_train)\n",
    "    mean_mae,_ = pca_reconstruct(dataset_val,pca)\n",
    "    return np.mean(mean_mae)\n"
   ],
   "metadata": {
    "collapsed": false,
    "pycharm": {
     "name": "#%%\n"
    }
   }
  },
  {
   "cell_type": "code",
   "execution_count": 107,
   "outputs": [],
   "source": [
    "X_train_unscaled = scaler.inverse_transform(X_train)\n",
    "X_val_unscaled = scaler.inverse_transform(X_val)\n",
    "X_test_unscaled = scaler.inverse_transform(X_test)"
   ],
   "metadata": {
    "collapsed": false,
    "pycharm": {
     "name": "#%%\n"
    }
   }
  },
  {
   "cell_type": "code",
   "execution_count": 108,
   "outputs": [],
   "source": [
    "std_scaler = StandardScaler()"
   ],
   "metadata": {
    "collapsed": false,
    "pycharm": {
     "name": "#%%\n"
    }
   }
  },
  {
   "cell_type": "code",
   "execution_count": 109,
   "outputs": [],
   "source": [
    "X_train_standardized = std_scaler.fit_transform(X_train_unscaled)\n",
    "X_val_standardized = std_scaler.transform(X_val_unscaled)\n",
    "X_test_standardized = std_scaler.transform(X_test_unscaled)"
   ],
   "metadata": {
    "collapsed": false,
    "pycharm": {
     "name": "#%%\n"
    }
   }
  },
  {
   "cell_type": "code",
   "execution_count": 107,
   "outputs": [
    {
     "name": "stderr",
     "output_type": "stream",
     "text": [
      "100%|██████████| 121/121 [05:25<00:00,  2.69s/it]\n"
     ]
    }
   ],
   "source": [
    "mean_mae_val_list = []\n",
    "mean_mae_train_list = []\n",
    "for el in tqdm(range(121)):\n",
    "    pca = PCA(n_components = el)\n",
    "    pca = pca.fit(X_train_standardized)\n",
    "    mean_mae_train,_ = pca_reconstruct(X_train_standardized,pca)\n",
    "    mean_mae_val,_ = pca_reconstruct(X_val_standardized,pca)\n",
    "    mean_mae_train_list.append(np.mean(mean_mae_train))\n",
    "    mean_mae_val_list.append(np.mean(mean_mae_val))\n"
   ],
   "metadata": {
    "collapsed": false,
    "pycharm": {
     "name": "#%%\n"
    }
   }
  },
  {
   "cell_type": "code",
   "execution_count": 111,
   "outputs": [
    {
     "data": {
      "text/plain": "<Figure size 1080x360 with 1 Axes>",
      "image/png": "[encoded data removed]"
     },
     "metadata": {
      "needs_background": "light"
     },
     "output_type": "display_data"
    }
   ],
   "source": [
    "fig = plt.figure(figsize =(15,5))\n",
    "plt.plot(np.arange(121),mean_mae_train_list, label = 'TRAIN MAE')\n",
    "plt.plot(np.arange(121),mean_mae_val_list, label = 'VAL MAE')\n",
    "plt.title('MAE wrt n_components')\n",
    "plt.xlabel('number of components')\n",
    "plt.ylabel('MAE')\n",
    "plt.legend()\n",
    "plt.show()\n",
    "\n",
    "fig.savefig(os.path.join(ROOT,'model_KDDCUP99','PCA','mae_values.png'))"
   ],
   "metadata": {
    "collapsed": false,
    "pycharm": {
     "name": "#%%\n"
    }
   }
  },
  {
   "cell_type": "code",
   "execution_count": 184,
   "outputs": [
    {
     "name": "stderr",
     "output_type": "stream",
     "text": [
      "\u001B[32m[I 2022-08-10 16:08:06,267]\u001B[0m A new study created in memory with name: no-name-6a821855-a4fe-4062-abc9-60ebb980017b\u001B[0m\n",
      "\u001B[32m[I 2022-08-10 16:08:10,608]\u001B[0m Trial 0 finished with value: 4.915854783753662e-07 and parameters: {'n_comp': 117}. Best is trial 0 with value: 4.915854783753662e-07.\u001B[0m\n",
      "\u001B[32m[I 2022-08-10 16:08:14,889]\u001B[0m Trial 1 finished with value: 2.2869107384755246e-06 and parameters: {'n_comp': 86}. Best is trial 0 with value: 4.915854783753662e-07.\u001B[0m\n",
      "\u001B[32m[I 2022-08-10 16:08:15,963]\u001B[0m Trial 2 finished with value: 0.079972572263017 and parameters: {'n_comp': 14}. Best is trial 0 with value: 4.915854783753662e-07.\u001B[0m\n",
      "\u001B[32m[I 2022-08-10 16:08:17,898]\u001B[0m Trial 3 finished with value: 0.0491952595716736 and parameters: {'n_comp': 40}. Best is trial 0 with value: 4.915854783753662e-07.\u001B[0m\n",
      "\u001B[32m[I 2022-08-10 16:08:19,366]\u001B[0m Trial 4 finished with value: 0.07531647628411167 and parameters: {'n_comp': 31}. Best is trial 0 with value: 4.915854783753662e-07.\u001B[0m\n",
      "\u001B[32m[I 2022-08-10 16:08:21,229]\u001B[0m Trial 5 finished with value: 0.03358990383581169 and parameters: {'n_comp': 45}. Best is trial 0 with value: 4.915854783753662e-07.\u001B[0m\n",
      "\u001B[32m[I 2022-08-10 16:08:25,013]\u001B[0m Trial 6 finished with value: 6.813889026053323e-06 and parameters: {'n_comp': 79}. Best is trial 0 with value: 4.915854783753662e-07.\u001B[0m\n",
      "\u001B[32m[I 2022-08-10 16:08:26,865]\u001B[0m Trial 7 finished with value: 6.826251672662566e-07 and parameters: {'n_comp': 97}. Best is trial 0 with value: 4.915854783753662e-07.\u001B[0m\n",
      "\u001B[32m[I 2022-08-10 16:08:28,547]\u001B[0m Trial 8 finished with value: 3.286412374291539e-07 and parameters: {'n_comp': 120}. Best is trial 8 with value: 3.286412374291539e-07.\u001B[0m\n",
      "\u001B[32m[I 2022-08-10 16:08:32,212]\u001B[0m Trial 9 finished with value: 3.6771150495337567e-06 and parameters: {'n_comp': 84}. Best is trial 8 with value: 3.286412374291539e-07.\u001B[0m\n",
      "\u001B[32m[I 2022-08-10 16:08:33,978]\u001B[0m Trial 10 finished with value: 3.286412374291539e-07 and parameters: {'n_comp': 119}. Best is trial 8 with value: 3.286412374291539e-07.\u001B[0m\n",
      "\u001B[32m[I 2022-08-10 16:08:35,715]\u001B[0m Trial 11 finished with value: 3.286412374291539e-07 and parameters: {'n_comp': 120}. Best is trial 8 with value: 3.286412374291539e-07.\u001B[0m\n",
      "\u001B[32m[I 2022-08-10 16:08:38,261]\u001B[0m Trial 12 finished with value: 6.82625167266524e-07 and parameters: {'n_comp': 105}. Best is trial 8 with value: 3.286412374291539e-07.\u001B[0m\n",
      "\u001B[32m[I 2022-08-10 16:08:41,796]\u001B[0m Trial 13 finished with value: 1.4269844171883165e-05 and parameters: {'n_comp': 70}. Best is trial 8 with value: 3.286412374291539e-07.\u001B[0m\n",
      "\u001B[32m[I 2022-08-10 16:08:43,418]\u001B[0m Trial 14 finished with value: 6.826251672664936e-07 and parameters: {'n_comp': 103}. Best is trial 8 with value: 3.286412374291539e-07.\u001B[0m\n",
      "\u001B[32m[I 2022-08-10 16:08:45,115]\u001B[0m Trial 15 finished with value: 3.286412374291539e-07 and parameters: {'n_comp': 120}. Best is trial 8 with value: 3.286412374291539e-07.\u001B[0m\n",
      "\u001B[32m[I 2022-08-10 16:08:47,520]\u001B[0m Trial 16 finished with value: 0.0015417889426965574 and parameters: {'n_comp': 60}. Best is trial 8 with value: 3.286412374291539e-07.\u001B[0m\n",
      "\u001B[32m[I 2022-08-10 16:08:49,231]\u001B[0m Trial 17 finished with value: 6.8262516726635e-07 and parameters: {'n_comp': 100}. Best is trial 8 with value: 3.286412374291539e-07.\u001B[0m\n",
      "\u001B[32m[I 2022-08-10 16:08:50,044]\u001B[0m Trial 18 finished with value: 0.1070251444134494 and parameters: {'n_comp': 5}. Best is trial 8 with value: 3.286412374291539e-07.\u001B[0m\n",
      "\u001B[32m[I 2022-08-10 16:08:52,351]\u001B[0m Trial 19 finished with value: 0.0045368161220324145 and parameters: {'n_comp': 58}. Best is trial 8 with value: 3.286412374291539e-07.\u001B[0m\n",
      "\u001B[32m[I 2022-08-10 16:08:54,055]\u001B[0m Trial 20 finished with value: 6.826251672666815e-07 and parameters: {'n_comp': 111}. Best is trial 8 with value: 3.286412374291539e-07.\u001B[0m\n",
      "\u001B[32m[I 2022-08-10 16:08:55,656]\u001B[0m Trial 21 finished with value: 3.286412374291539e-07 and parameters: {'n_comp': 120}. Best is trial 8 with value: 3.286412374291539e-07.\u001B[0m\n",
      "\u001B[32m[I 2022-08-10 16:08:57,190]\u001B[0m Trial 22 finished with value: 6.826251672662566e-07 and parameters: {'n_comp': 97}. Best is trial 8 with value: 3.286412374291539e-07.\u001B[0m\n",
      "\u001B[32m[I 2022-08-10 16:08:58,899]\u001B[0m Trial 23 finished with value: 6.8262516726664e-07 and parameters: {'n_comp': 109}. Best is trial 8 with value: 3.286412374291539e-07.\u001B[0m\n",
      "\u001B[32m[I 2022-08-10 16:09:04,980]\u001B[0m Trial 24 finished with value: 3.031417842956984e-06 and parameters: {'n_comp': 91}. Best is trial 8 with value: 3.286412374291539e-07.\u001B[0m\n",
      "\u001B[32m[I 2022-08-10 16:09:06,748]\u001B[0m Trial 25 finished with value: 7.878418198318628e-07 and parameters: {'n_comp': 113}. Best is trial 8 with value: 3.286412374291539e-07.\u001B[0m\n",
      "\u001B[32m[I 2022-08-10 16:09:10,672]\u001B[0m Trial 26 finished with value: 6.032817681252127e-06 and parameters: {'n_comp': 77}. Best is trial 8 with value: 3.286412374291539e-07.\u001B[0m\n",
      "\u001B[32m[I 2022-08-10 16:09:12,503]\u001B[0m Trial 27 finished with value: 6.826251672666414e-07 and parameters: {'n_comp': 110}. Best is trial 8 with value: 3.286412374291539e-07.\u001B[0m\n",
      "\u001B[32m[I 2022-08-10 16:09:16,176]\u001B[0m Trial 28 finished with value: 1.4773951046932002e-06 and parameters: {'n_comp': 91}. Best is trial 8 with value: 3.286412374291539e-07.\u001B[0m\n",
      "\u001B[32m[I 2022-08-10 16:09:17,953]\u001B[0m Trial 29 finished with value: 3.286412374291541e-07 and parameters: {'n_comp': 118}. Best is trial 8 with value: 3.286412374291539e-07.\u001B[0m\n"
     ]
    }
   ],
   "source": [
    "#study = optuna.create_study(direction=\"minimize\", sampler=optuna.samplers.TPESampler())\n",
    "#obj = partial(objective_PCA, dataset_train = X_train_standardized, dataset_val = X_val_standardized )\n",
    "#study.optimize(obj, n_trials=30)"
   ],
   "metadata": {
    "collapsed": false,
    "pycharm": {
     "name": "#%%\n"
    }
   }
  },
  {
   "cell_type": "code",
   "execution_count": 110,
   "outputs": [],
   "source": [
    "pca = PCA(n_components=60)\n",
    "pca = pca.fit(X_train_standardized)\n",
    "\n",
    "train_rec_err,train_rec = pca_reconstruct(X_train_standardized,pca)\n",
    "val_rec_err,val_rec = pca_reconstruct(X_val_standardized,pca)\n",
    "test_rec_err,test_rec = pca_reconstruct(X_test_standardized,pca)"
   ],
   "metadata": {
    "collapsed": false,
    "pycharm": {
     "name": "#%%\n"
    }
   }
  },
  {
   "cell_type": "code",
   "execution_count": 111,
   "outputs": [
    {
     "name": "stdout",
     "output_type": "stream",
     "text": [
      "Train error: 0.0014813990382603077 \n",
      " Val error: 0.001541788942696551 \n",
      "Test error : 0.010528398654611774\n"
     ]
    }
   ],
   "source": [
    "print(f'Train error: {np.mean(train_rec_err)} \\n '\n",
    "      f'Val error: {np.mean(val_rec_err)} \\n'\n",
    "      f'Test error : {np.mean(test_rec_err)}')"
   ],
   "metadata": {
    "collapsed": false,
    "pycharm": {
     "name": "#%%\n"
    }
   }
  },
  {
   "cell_type": "code",
   "execution_count": 112,
   "outputs": [
    {
     "name": "stdout",
     "output_type": "stream",
     "text": [
      "Test normal samples error: 0.018411678178723512 \n",
      "Test anomalies samples error:0.0026451191305000396\n"
     ]
    }
   ],
   "source": [
    "print(f'Test normal samples error: {np.mean(test_rec_err[y_test == 1])} \\n'\n",
    "      f'Test anomalies samples error:{np.mean(test_rec_err[y_test == 0])}')"
   ],
   "metadata": {
    "collapsed": false,
    "pycharm": {
     "name": "#%%\n"
    }
   }
  },
  {
   "cell_type": "code",
   "execution_count": 113,
   "outputs": [
    {
     "name": "stdout",
     "output_type": "stream",
     "text": [
      "Avg error 0.0014813990382603077\n",
      "median error 0.0003175656503451548\n",
      "99Q: 0.021479577583777876\n",
      "setting threshold on 0.021479577583777876 \n"
     ]
    }
   ],
   "source": [
    "print(\n",
    "    f'Avg error {np.mean(train_rec_err)}\\nmedian error {np.median(train_rec_err)}\\n99Q: {np.quantile(train_rec_err, 0.99)}')\n",
    "print(f'setting threshold on {np.quantile(train_rec_err, 0.99)} ')\n",
    "error_thresh_pca = np.quantile(train_rec_err, 0.99)\n",
    "train_anomalies_pca = (train_rec_err > error_thresh_pca)"
   ],
   "metadata": {
    "collapsed": false,
    "pycharm": {
     "name": "#%%\n"
    }
   }
  },
  {
   "cell_type": "code",
   "execution_count": 114,
   "outputs": [
    {
     "name": "stderr",
     "output_type": "stream",
     "text": [
      "c:\\users\\39320\\netlov\\lib\\site-packages\\sklearn\\metrics\\_classification.py:1327: UndefinedMetricWarning: Recall and F-score are ill-defined and being set to 0.0 in labels with no true samples. Use `zero_division` parameter to control this behavior.\n",
      "  _warn_prf(average, modifier, msg_start, len(result))\n"
     ]
    },
    {
     "name": "stdout",
     "output_type": "stream",
     "text": [
      "\n",
      " classification report \n",
      "               precision    recall  f1-score   support\n",
      "\n",
      "         0.0       1.00      0.96      0.98     54475\n",
      "         1.0       0.00      0.00      0.00         0\n",
      "\n",
      "    accuracy                           0.96     54475\n",
      "   macro avg       0.50      0.48      0.49     54475\n",
      "weighted avg       1.00      0.96      0.98     54475\n",
      "\n"
     ]
    },
    {
     "name": "stderr",
     "output_type": "stream",
     "text": [
      "c:\\users\\39320\\netlov\\lib\\site-packages\\sklearn\\metrics\\_classification.py:1327: UndefinedMetricWarning: Recall and F-score are ill-defined and being set to 0.0 in labels with no true samples. Use `zero_division` parameter to control this behavior.\n",
      "  _warn_prf(average, modifier, msg_start, len(result))\n",
      "c:\\users\\39320\\netlov\\lib\\site-packages\\sklearn\\metrics\\_classification.py:1327: UndefinedMetricWarning: Recall and F-score are ill-defined and being set to 0.0 in labels with no true samples. Use `zero_division` parameter to control this behavior.\n",
      "  _warn_prf(average, modifier, msg_start, len(result))\n"
     ]
    }
   ],
   "source": [
    "train_mae_pca = pd.DataFrame(np.abs(train_rec - X_train_standardized ))\n",
    "val_mae_pca = pd.DataFrame(np.abs(val_rec - X_val_standardized ))\n",
    "test_mae_pca = pd.DataFrame(np.abs(test_rec - X_test_standardized ))\n",
    "\n",
    "train_prob = np.where(train_mae_pca > train_mae_pca.quantile(0.99, axis = 0),1,0).mean(axis = 1)\n",
    "train_pred_anomalies_pca = np.where(train_prob > 0.05, True, False)\n",
    "print(f'\\n classification report \\n {classification_report(np.zeros(len(train_pred_anomalies_pca)), train_pred_anomalies_pca)}')\n"
   ],
   "metadata": {
    "collapsed": false,
    "pycharm": {
     "name": "#%%\n"
    }
   }
  },
  {
   "cell_type": "code",
   "execution_count": 115,
   "outputs": [
    {
     "name": "stdout",
     "output_type": "stream",
     "text": [
      "\n",
      " classification report \n",
      "               precision    recall  f1-score   support\n",
      "\n",
      "         0.0       1.00      0.96      0.98     23347\n",
      "         1.0       0.00      0.00      0.00         0\n",
      "\n",
      "    accuracy                           0.96     23347\n",
      "   macro avg       0.50      0.48      0.49     23347\n",
      "weighted avg       1.00      0.96      0.98     23347\n",
      "\n"
     ]
    },
    {
     "name": "stderr",
     "output_type": "stream",
     "text": [
      "c:\\users\\39320\\netlov\\lib\\site-packages\\sklearn\\metrics\\_classification.py:1327: UndefinedMetricWarning: Recall and F-score are ill-defined and being set to 0.0 in labels with no true samples. Use `zero_division` parameter to control this behavior.\n",
      "  _warn_prf(average, modifier, msg_start, len(result))\n",
      "c:\\users\\39320\\netlov\\lib\\site-packages\\sklearn\\metrics\\_classification.py:1327: UndefinedMetricWarning: Recall and F-score are ill-defined and being set to 0.0 in labels with no true samples. Use `zero_division` parameter to control this behavior.\n",
      "  _warn_prf(average, modifier, msg_start, len(result))\n",
      "c:\\users\\39320\\netlov\\lib\\site-packages\\sklearn\\metrics\\_classification.py:1327: UndefinedMetricWarning: Recall and F-score are ill-defined and being set to 0.0 in labels with no true samples. Use `zero_division` parameter to control this behavior.\n",
      "  _warn_prf(average, modifier, msg_start, len(result))\n"
     ]
    }
   ],
   "source": [
    "val_prob = np.where(val_mae_pca > train_mae_pca.quantile(0.99, axis = 0),1,0).mean(axis = 1)\n",
    "val_pred_anomalies_pca = np.where(val_prob > 0.05, True, False)\n",
    "print(f'\\n classification report \\n {classification_report(np.zeros(len(val_pred_anomalies_pca)), val_pred_anomalies_pca)}')"
   ],
   "metadata": {
    "collapsed": false,
    "pycharm": {
     "name": "#%%\n"
    }
   }
  },
  {
   "cell_type": "code",
   "execution_count": 116,
   "outputs": [
    {
     "data": {
      "text/plain": "array([[22439,   908]], dtype=int64)"
     },
     "execution_count": 116,
     "metadata": {},
     "output_type": "execute_result"
    }
   ],
   "source": [
    "contingency_matrix(np.zeros(len(val_pred_anomalies_pca)), val_pred_anomalies_pca)"
   ],
   "metadata": {
    "collapsed": false,
    "pycharm": {
     "name": "#%%\n"
    }
   }
  },
  {
   "cell_type": "code",
   "execution_count": 117,
   "outputs": [
    {
     "name": "stdout",
     "output_type": "stream",
     "text": [
      "\n",
      " classification report \n",
      "               precision    recall  f1-score   support\n",
      "\n",
      "         0.0       0.89      0.88      0.89     19456\n",
      "         1.0       0.88      0.89      0.89     19456\n",
      "\n",
      "    accuracy                           0.89     38912\n",
      "   macro avg       0.89      0.89      0.89     38912\n",
      "weighted avg       0.89      0.89      0.89     38912\n",
      "\n"
     ]
    }
   ],
   "source": [
    "test_prob = np.where(test_mae_pca > train_mae_pca.quantile(0.99, axis = 0),1,0).mean(axis = 1)\n",
    "test_pred_anomalies_pca = np.where(test_prob > 0.05, True, False)\n",
    "print(f'\\n classification report \\n {classification_report(y_test, test_pred_anomalies_pca)}')"
   ],
   "metadata": {
    "collapsed": false,
    "pycharm": {
     "name": "#%%\n"
    }
   }
  },
  {
   "cell_type": "code",
   "execution_count": 118,
   "outputs": [
    {
     "data": {
      "text/plain": "array([[17173,  2283],\n       [ 2077, 17379]], dtype=int64)"
     },
     "execution_count": 118,
     "metadata": {},
     "output_type": "execute_result"
    }
   ],
   "source": [
    "contingency_matrix(y_test, test_pred_anomalies_pca)"
   ],
   "metadata": {
    "collapsed": false,
    "pycharm": {
     "name": "#%%\n"
    }
   }
  },
  {
   "cell_type": "code",
   "execution_count": 120,
   "outputs": [
    {
     "data": {
      "text/plain": "0.011478990876772177"
     },
     "execution_count": 120,
     "metadata": {},
     "output_type": "execute_result"
    }
   ],
   "source": [
    "val_anomalies_pca = (val_rec_err > error_thresh_pca)\n",
    "np.count_nonzero(val_anomalies_pca) / len(val_anomalies_pca)"
   ],
   "metadata": {
    "collapsed": false,
    "pycharm": {
     "name": "#%%\n"
    }
   }
  },
  {
   "cell_type": "code",
   "execution_count": 121,
   "outputs": [
    {
     "name": "stdout",
     "output_type": "stream",
     "text": [
      "              precision    recall  f1-score   support\n",
      "\n",
      "         0.0       1.00      0.99      0.99     23347\n",
      "         1.0       0.00      0.00      0.00         0\n",
      "\n",
      "    accuracy                           0.99     23347\n",
      "   macro avg       0.50      0.49      0.50     23347\n",
      "weighted avg       1.00      0.99      0.99     23347\n",
      "\n"
     ]
    },
    {
     "name": "stderr",
     "output_type": "stream",
     "text": [
      "c:\\users\\39320\\netlov\\lib\\site-packages\\sklearn\\metrics\\_classification.py:1327: UndefinedMetricWarning: Recall and F-score are ill-defined and being set to 0.0 in labels with no true samples. Use `zero_division` parameter to control this behavior.\n",
      "  _warn_prf(average, modifier, msg_start, len(result))\n",
      "c:\\users\\39320\\netlov\\lib\\site-packages\\sklearn\\metrics\\_classification.py:1327: UndefinedMetricWarning: Recall and F-score are ill-defined and being set to 0.0 in labels with no true samples. Use `zero_division` parameter to control this behavior.\n",
      "  _warn_prf(average, modifier, msg_start, len(result))\n",
      "c:\\users\\39320\\netlov\\lib\\site-packages\\sklearn\\metrics\\_classification.py:1327: UndefinedMetricWarning: Recall and F-score are ill-defined and being set to 0.0 in labels with no true samples. Use `zero_division` parameter to control this behavior.\n",
      "  _warn_prf(average, modifier, msg_start, len(result))\n"
     ]
    }
   ],
   "source": [
    "print(classification_report(np.zeros(len(val_anomalies_pca)), val_anomalies_pca))"
   ],
   "metadata": {
    "collapsed": false,
    "pycharm": {
     "name": "#%%\n"
    }
   }
  },
  {
   "cell_type": "code",
   "execution_count": 122,
   "outputs": [
    {
     "data": {
      "text/plain": "0.16105571546052633"
     },
     "execution_count": 122,
     "metadata": {},
     "output_type": "execute_result"
    }
   ],
   "source": [
    "test_anomalies_pca = (test_rec_err > error_thresh_pca)\n",
    "np.count_nonzero(test_anomalies_pca) / len(test_anomalies_pca)"
   ],
   "metadata": {
    "collapsed": false,
    "pycharm": {
     "name": "#%%\n"
    }
   }
  },
  {
   "cell_type": "code",
   "execution_count": 213,
   "outputs": [
    {
     "data": {
      "text/plain": "array([False, False, False, ...,  True,  True,  True])"
     },
     "execution_count": 213,
     "metadata": {},
     "output_type": "execute_result"
    }
   ],
   "source": [
    "test_anomalies_pca"
   ],
   "metadata": {
    "collapsed": false,
    "pycharm": {
     "name": "#%%\n"
    }
   }
  },
  {
   "cell_type": "code",
   "execution_count": 123,
   "outputs": [
    {
     "name": "stdout",
     "output_type": "stream",
     "text": [
      "              precision    recall  f1-score   support\n",
      "\n",
      "         0.0       0.59      0.98      0.73     19456\n",
      "         1.0       0.94      0.30      0.46     19456\n",
      "\n",
      "    accuracy                           0.64     38912\n",
      "   macro avg       0.76      0.64      0.60     38912\n",
      "weighted avg       0.76      0.64      0.60     38912\n",
      "\n"
     ]
    }
   ],
   "source": [
    "print(classification_report(y_test, test_anomalies_pca))"
   ],
   "metadata": {
    "collapsed": false,
    "pycharm": {
     "name": "#%%\n"
    }
   }
  },
  {
   "cell_type": "markdown",
   "source": [
    "aggregated 1d- hypothesis test with Bonferroni/FDR Correction"
   ],
   "metadata": {
    "collapsed": false
   }
  },
  {
   "cell_type": "code",
   "execution_count": 252,
   "outputs": [],
   "source": [
    "def aggregated_1d(d1: Union[pd.DataFrame, np.ndarray],\n",
    "                  d2 : Union[pd.DataFrame, np.ndarray],\n",
    "                  alpha:int = 0.05,\n",
    "                  correction: Union[str, type(None)] = 'bonferroni'):\n",
    "    '''\n",
    "\n",
    "    :param d1: Reference Dataset\n",
    "    :param d2: Comparison Dataset\n",
    "    :param alpha: alpha values for single tests\n",
    "    :param correction: the type of corecction\n",
    "    :return: the aggregated results nd the suingles p_values\n",
    "\n",
    "    '''\n",
    "\n",
    "    if d1.shape[1] != d2.shape[1]:\n",
    "        print('Number of features must be the same!')\n",
    "    else:\n",
    "        res = []\n",
    "        for el in range(d1.shape[1]):\n",
    "            res.append(scipy.stats.ks_2samp(d1[:,el],d2[:,el]))\n",
    "        pvalues = [el.pvalue for el in res]\n",
    "        corrected_result = multipletests(pvalues, alpha = alpha, method = correction)\n",
    "        return  corrected_result, res"
   ],
   "metadata": {
    "collapsed": false,
    "pycharm": {
     "name": "#%%\n"
    }
   }
  },
  {
   "cell_type": "code",
   "execution_count": 47,
   "outputs": [],
   "source": [
    "def compute_daily_1d(dataset:pd.DataFrame,\n",
    "                     reference_dataset: pd.DataFrame,\n",
    "                     test: str) -> pd.DataFrame:\n",
    "    res_test = dataset.drop(columns = ['id', DATA_COL]).apply(lambda y :compute_1d_test(y,reference_dataset,test))\n",
    "    if test == 'psi':\n",
    "        res = np.where(res_test > 0.2, 1,0).mean(axis = 0)\n",
    "    elif test == 'ks':\n",
    "        res = np.where(res_test < 0.01, 1,0).mean(axis = 0)\n",
    "        #res = np.mean(multipletests(res_test, alpha = 0.5)[0])\n",
    "    else:\n",
    "        print('Insert a valid test, ks - psi')\n",
    "        return\n",
    "    return res\n",
    "def compute_1d_test(reference_col: Union[pd.Series, np.ndarray],\n",
    "                    current_df : Union[pd.DataFrame, np.ndarray],\n",
    "                    test:str = 'ks'):\n",
    "    '''\n",
    "    :param reference_col: column in reference dataset\n",
    "    :param current_col: DataFrame in current day/period\n",
    "    :param test: ks - psi - chisq\n",
    "    :return: pvalue/statistics of the test\n",
    "    '''\n",
    "    current_col = current_df[reference_col.name]\n",
    "    start = min(min(current_col),min(reference_col))\n",
    "    stop = max(max(current_col),max(reference_col))\n",
    "    bins = np.linspace(start, stop, 100)\n",
    "\n",
    "    ref_freq, _ = np.histogram(reference_col, bins = bins, density = True)\n",
    "    curr_freq, _ = np.histogram(current_col, bins = bins, density = True)\n",
    "\n",
    "    if test == 'ks':\n",
    "        res = scipy.stats.ks_2samp(ref_freq, curr_freq).pvalue\n",
    "\n",
    "    elif test == 'psi':\n",
    "        # PSI < 0.1 no change - PSI >=0.1 moderate PDI > 0.2 - high\n",
    "        res = psi.calculate_psi(ref_freq, ref_freq)\n",
    "    elif test == 'chisq':\n",
    "        res = scipy.stats.chisquare(ref_freq, curr_freq).pvalue\n",
    "    else:\n",
    "        print('Specify a valis test: ks - psi - chisq')\n",
    "\n",
    "    return res\n",
    "\n"
   ],
   "metadata": {
    "collapsed": false,
    "pycharm": {
     "name": "#%%\n"
    }
   }
  },
  {
   "cell_type": "code",
   "execution_count": 50,
   "outputs": [
    {
     "data": {
      "text/plain": "       0             1         2    3    4    5    6    7    8    9    ...  \\\n0      0.0  4.586259e-07  0.000627  0.0  0.0  0.0  0.0  0.0  0.0  0.0  ...   \n1      0.0  0.000000e+00  0.000000  0.0  0.0  0.0  0.0  0.0  0.0  0.0  ...   \n2      0.0  4.932391e-07  0.000063  0.0  0.0  0.0  0.0  0.0  0.0  0.0  ...   \n3      0.0  3.778616e-07  0.000035  0.0  0.0  0.0  0.0  0.0  0.0  0.0  ...   \n4      0.0  4.773747e-07  0.000724  0.0  0.0  0.0  0.0  0.0  0.0  0.0  ...   \n...    ...           ...       ...  ...  ...  ...  ...  ...  ...  ...  ...   \n23342  0.0  2.884439e-07  0.000096  0.0  0.0  0.0  0.0  0.0  0.0  0.0  ...   \n23343  0.0  2.267458e-05  0.000000  0.0  0.0  0.0  0.0  0.0  0.0  0.0  ...   \n23344  0.0  6.922655e-08  0.000009  0.0  0.0  0.0  0.0  0.0  0.0  0.0  ...   \n23345  0.0  2.509462e-07  0.000086  0.0  0.0  0.0  0.0  0.0  0.0  0.0  ...   \n23346  0.0  3.259416e-07  0.000906  0.0  0.0  0.0  0.0  0.0  0.0  0.0  ...   \n\n       111  112  113  114  115  116  117  118  119  120  \n0      0.0  1.0  0.0  1.0  0.0  0.0  1.0  0.0  1.0  0.0  \n1      0.0  0.0  0.0  1.0  0.0  1.0  0.0  0.0  1.0  0.0  \n2      0.0  1.0  0.0  1.0  0.0  0.0  1.0  0.0  1.0  0.0  \n3      0.0  1.0  0.0  1.0  0.0  0.0  1.0  0.0  1.0  0.0  \n4      0.0  1.0  0.0  1.0  0.0  0.0  1.0  0.0  1.0  0.0  \n...    ...  ...  ...  ...  ...  ...  ...  ...  ...  ...  \n23342  0.0  1.0  0.0  1.0  0.0  0.0  1.0  0.0  1.0  0.0  \n23343  0.0  1.0  0.0  1.0  0.0  0.0  1.0  0.0  1.0  0.0  \n23344  0.0  1.0  0.0  1.0  0.0  1.0  0.0  0.0  1.0  0.0  \n23345  0.0  1.0  0.0  1.0  0.0  0.0  1.0  0.0  1.0  0.0  \n23346  0.0  1.0  0.0  1.0  0.0  0.0  1.0  0.0  1.0  0.0  \n\n[23347 rows x 121 columns]",
      "text/html": "<div>\n<style scoped>\n    .dataframe tbody tr th:only-of-type {\n        vertical-align: middle;\n    }\n\n    .dataframe tbody tr th {\n        vertical-align: top;\n    }\n\n    .dataframe thead th {\n        text-align: right;\n    }\n</style>\n<table border=\"1\" class=\"dataframe\">\n  <thead>\n    <tr style=\"text-align: right;\">\n      <th></th>\n      <th>0</th>\n      <th>1</th>\n      <th>2</th>\n      <th>3</th>\n      <th>4</th>\n      <th>5</th>\n      <th>6</th>\n      <th>7</th>\n      <th>8</th>\n      <th>9</th>\n      <th>...</th>\n      <th>111</th>\n      <th>112</th>\n      <th>113</th>\n      <th>114</th>\n      <th>115</th>\n      <th>116</th>\n      <th>117</th>\n      <th>118</th>\n      <th>119</th>\n      <th>120</th>\n    </tr>\n  </thead>\n  <tbody>\n    <tr>\n      <th>0</th>\n      <td>0.0</td>\n      <td>4.586259e-07</td>\n      <td>0.000627</td>\n      <td>0.0</td>\n      <td>0.0</td>\n      <td>0.0</td>\n      <td>0.0</td>\n      <td>0.0</td>\n      <td>0.0</td>\n      <td>0.0</td>\n      <td>...</td>\n      <td>0.0</td>\n      <td>1.0</td>\n      <td>0.0</td>\n      <td>1.0</td>\n      <td>0.0</td>\n      <td>0.0</td>\n      <td>1.0</td>\n      <td>0.0</td>\n      <td>1.0</td>\n      <td>0.0</td>\n    </tr>\n    <tr>\n      <th>1</th>\n      <td>0.0</td>\n      <td>0.000000e+00</td>\n      <td>0.000000</td>\n      <td>0.0</td>\n      <td>0.0</td>\n      <td>0.0</td>\n      <td>0.0</td>\n      <td>0.0</td>\n      <td>0.0</td>\n      <td>0.0</td>\n      <td>...</td>\n      <td>0.0</td>\n      <td>0.0</td>\n      <td>0.0</td>\n      <td>1.0</td>\n      <td>0.0</td>\n      <td>1.0</td>\n      <td>0.0</td>\n      <td>0.0</td>\n      <td>1.0</td>\n      <td>0.0</td>\n    </tr>\n    <tr>\n      <th>2</th>\n      <td>0.0</td>\n      <td>4.932391e-07</td>\n      <td>0.000063</td>\n      <td>0.0</td>\n      <td>0.0</td>\n      <td>0.0</td>\n      <td>0.0</td>\n      <td>0.0</td>\n      <td>0.0</td>\n      <td>0.0</td>\n      <td>...</td>\n      <td>0.0</td>\n      <td>1.0</td>\n      <td>0.0</td>\n      <td>1.0</td>\n      <td>0.0</td>\n      <td>0.0</td>\n      <td>1.0</td>\n      <td>0.0</td>\n      <td>1.0</td>\n      <td>0.0</td>\n    </tr>\n    <tr>\n      <th>3</th>\n      <td>0.0</td>\n      <td>3.778616e-07</td>\n      <td>0.000035</td>\n      <td>0.0</td>\n      <td>0.0</td>\n      <td>0.0</td>\n      <td>0.0</td>\n      <td>0.0</td>\n      <td>0.0</td>\n      <td>0.0</td>\n      <td>...</td>\n      <td>0.0</td>\n      <td>1.0</td>\n      <td>0.0</td>\n      <td>1.0</td>\n      <td>0.0</td>\n      <td>0.0</td>\n      <td>1.0</td>\n      <td>0.0</td>\n      <td>1.0</td>\n      <td>0.0</td>\n    </tr>\n    <tr>\n      <th>4</th>\n      <td>0.0</td>\n      <td>4.773747e-07</td>\n      <td>0.000724</td>\n      <td>0.0</td>\n      <td>0.0</td>\n      <td>0.0</td>\n      <td>0.0</td>\n      <td>0.0</td>\n      <td>0.0</td>\n      <td>0.0</td>\n      <td>...</td>\n      <td>0.0</td>\n      <td>1.0</td>\n      <td>0.0</td>\n      <td>1.0</td>\n      <td>0.0</td>\n      <td>0.0</td>\n      <td>1.0</td>\n      <td>0.0</td>\n      <td>1.0</td>\n      <td>0.0</td>\n    </tr>\n    <tr>\n      <th>...</th>\n      <td>...</td>\n      <td>...</td>\n      <td>...</td>\n      <td>...</td>\n      <td>...</td>\n      <td>...</td>\n      <td>...</td>\n      <td>...</td>\n      <td>...</td>\n      <td>...</td>\n      <td>...</td>\n      <td>...</td>\n      <td>...</td>\n      <td>...</td>\n      <td>...</td>\n      <td>...</td>\n      <td>...</td>\n      <td>...</td>\n      <td>...</td>\n      <td>...</td>\n      <td>...</td>\n    </tr>\n    <tr>\n      <th>23342</th>\n      <td>0.0</td>\n      <td>2.884439e-07</td>\n      <td>0.000096</td>\n      <td>0.0</td>\n      <td>0.0</td>\n      <td>0.0</td>\n      <td>0.0</td>\n      <td>0.0</td>\n      <td>0.0</td>\n      <td>0.0</td>\n      <td>...</td>\n      <td>0.0</td>\n      <td>1.0</td>\n      <td>0.0</td>\n      <td>1.0</td>\n      <td>0.0</td>\n      <td>0.0</td>\n      <td>1.0</td>\n      <td>0.0</td>\n      <td>1.0</td>\n      <td>0.0</td>\n    </tr>\n    <tr>\n      <th>23343</th>\n      <td>0.0</td>\n      <td>2.267458e-05</td>\n      <td>0.000000</td>\n      <td>0.0</td>\n      <td>0.0</td>\n      <td>0.0</td>\n      <td>0.0</td>\n      <td>0.0</td>\n      <td>0.0</td>\n      <td>0.0</td>\n      <td>...</td>\n      <td>0.0</td>\n      <td>1.0</td>\n      <td>0.0</td>\n      <td>1.0</td>\n      <td>0.0</td>\n      <td>0.0</td>\n      <td>1.0</td>\n      <td>0.0</td>\n      <td>1.0</td>\n      <td>0.0</td>\n    </tr>\n    <tr>\n      <th>23344</th>\n      <td>0.0</td>\n      <td>6.922655e-08</td>\n      <td>0.000009</td>\n      <td>0.0</td>\n      <td>0.0</td>\n      <td>0.0</td>\n      <td>0.0</td>\n      <td>0.0</td>\n      <td>0.0</td>\n      <td>0.0</td>\n      <td>...</td>\n      <td>0.0</td>\n      <td>1.0</td>\n      <td>0.0</td>\n      <td>1.0</td>\n      <td>0.0</td>\n      <td>1.0</td>\n      <td>0.0</td>\n      <td>0.0</td>\n      <td>1.0</td>\n      <td>0.0</td>\n    </tr>\n    <tr>\n      <th>23345</th>\n      <td>0.0</td>\n      <td>2.509462e-07</td>\n      <td>0.000086</td>\n      <td>0.0</td>\n      <td>0.0</td>\n      <td>0.0</td>\n      <td>0.0</td>\n      <td>0.0</td>\n      <td>0.0</td>\n      <td>0.0</td>\n      <td>...</td>\n      <td>0.0</td>\n      <td>1.0</td>\n      <td>0.0</td>\n      <td>1.0</td>\n      <td>0.0</td>\n      <td>0.0</td>\n      <td>1.0</td>\n      <td>0.0</td>\n      <td>1.0</td>\n      <td>0.0</td>\n    </tr>\n    <tr>\n      <th>23346</th>\n      <td>0.0</td>\n      <td>3.259416e-07</td>\n      <td>0.000906</td>\n      <td>0.0</td>\n      <td>0.0</td>\n      <td>0.0</td>\n      <td>0.0</td>\n      <td>0.0</td>\n      <td>0.0</td>\n      <td>0.0</td>\n      <td>...</td>\n      <td>0.0</td>\n      <td>1.0</td>\n      <td>0.0</td>\n      <td>1.0</td>\n      <td>0.0</td>\n      <td>0.0</td>\n      <td>1.0</td>\n      <td>0.0</td>\n      <td>1.0</td>\n      <td>0.0</td>\n    </tr>\n  </tbody>\n</table>\n<p>23347 rows × 121 columns</p>\n</div>"
     },
     "execution_count": 50,
     "metadata": {},
     "output_type": "execute_result"
    }
   ],
   "source": [
    "pd.DataFrame(X_val)"
   ],
   "metadata": {
    "collapsed": false,
    "pycharm": {
     "name": "#%%\n"
    }
   }
  },
  {
   "cell_type": "code",
   "execution_count": 73,
   "outputs": [
    {
     "name": "stdout",
     "output_type": "stream",
     "text": [
      "percetunale di dimensioni drifttate:0.01652892561983471 \n",
      "different dimension:\n",
      "30\n",
      "32\n"
     ]
    },
    {
     "name": "stderr",
     "output_type": "stream",
     "text": [
      "c:\\users\\39320\\netlov\\lib\\site-packages\\pandas\\core\\indexes\\base.py:4616: FutureWarning: Using a non-tuple sequence for multidimensional indexing is deprecated; use `arr[tuple(seq)]` instead of `arr[seq]`. In the future this will be interpreted as an array index, `arr[np.array(seq)]`, which will result either in an error or a different result.\n",
      "  result = getitem(key)\n"
     ]
    }
   ],
   "source": [
    "ks_val = pd.DataFrame(X_val).apply(lambda y :compute_1d_test(y,pd.DataFrame(X_train),'ks'))\n",
    "ks_perc_val = np.where(ks_val < 0.05, True,False).mean(axis = 0)\n",
    "if ks_perc_val > 0:\n",
    "    print(f'''percetunale di dimensioni drifttate:{round(ks_perc_val,4)*100}% ''')\n",
    "    print('different dimension:')\n",
    "    for el in ks_val.index[[np.where(ks_val < 0.05, True,False)]]:\n",
    "        print(el)\n",
    "else:\n",
    "    print(' Nessuna dimensione driftata')"
   ],
   "metadata": {
    "collapsed": false,
    "pycharm": {
     "name": "#%%\n"
    }
   }
  },
  {
   "cell_type": "code",
   "execution_count": 83,
   "outputs": [
    {
     "name": "stderr",
     "output_type": "stream",
     "text": [
      "c:\\users\\39320\\netlov\\lib\\site-packages\\numpy\\lib\\histograms.py:906: RuntimeWarning: divide by zero encountered in true_divide\n",
      "  return n/db/n.sum(), bin_edges\n",
      "c:\\users\\39320\\netlov\\lib\\site-packages\\numpy\\lib\\histograms.py:906: RuntimeWarning: invalid value encountered in true_divide\n",
      "  return n/db/n.sum(), bin_edges\n"
     ]
    },
    {
     "name": "stdout",
     "output_type": "stream",
     "text": [
      " Nessuna dimensione driftata\n"
     ]
    }
   ],
   "source": [
    "psi_val = pd.DataFrame(X_val).apply(lambda y :compute_1d_test(y,pd.DataFrame(X_train),'psi'))\n",
    "psi_perc_val = np.where(psi_val > 0.2, True,False).mean(axis = 0)\n",
    "if psi_perc_val > 0:\n",
    "    print(f'''percetunale di dimensioni drifttate:{round(psi_perc_val,4)*100}% ''')\n",
    "    print('different dimension:')\n",
    "    for el in psi_val.index[[np.where(psi_val > 0.2, True,False)]]:\n",
    "        print(el)\n",
    "else:\n",
    "    print(' Nessuna dimensione driftata')"
   ],
   "metadata": {
    "collapsed": false,
    "pycharm": {
     "name": "#%%\n"
    }
   }
  },
  {
   "cell_type": "code",
   "execution_count": 74,
   "outputs": [
    {
     "name": "stderr",
     "output_type": "stream",
     "text": [
      "c:\\users\\39320\\netlov\\lib\\site-packages\\numpy\\lib\\histograms.py:906: RuntimeWarning: divide by zero encountered in true_divide\n",
      "  return n/db/n.sum(), bin_edges\n",
      "c:\\users\\39320\\netlov\\lib\\site-packages\\numpy\\lib\\histograms.py:906: RuntimeWarning: invalid value encountered in true_divide\n",
      "  return n/db/n.sum(), bin_edges\n"
     ]
    },
    {
     "name": "stdout",
     "output_type": "stream",
     "text": [
      "percetunale di dimensioni drifttate:0.1322314049586777 \n",
      "different dimension:\n",
      "0\n",
      "15\n",
      "16\n",
      "17\n",
      "19\n",
      "21\n",
      "23\n",
      "24\n",
      "25\n",
      "26\n",
      "27\n",
      "28\n",
      "30\n",
      "31\n",
      "32\n",
      "33\n"
     ]
    },
    {
     "name": "stderr",
     "output_type": "stream",
     "text": [
      "c:\\users\\39320\\netlov\\lib\\site-packages\\pandas\\core\\indexes\\base.py:4616: FutureWarning: Using a non-tuple sequence for multidimensional indexing is deprecated; use `arr[tuple(seq)]` instead of `arr[seq]`. In the future this will be interpreted as an array index, `arr[np.array(seq)]`, which will result either in an error or a different result.\n",
      "  result = getitem(key)\n"
     ]
    }
   ],
   "source": [
    "ks_test = pd.DataFrame(X_test).apply(lambda y :compute_1d_test(y,pd.DataFrame(X_train),'ks'))\n",
    "ks_perc_test = np.where(ks_test < 0.05, True,False).mean(axis = 0)\n",
    "if ks_perc_test > 0:\n",
    "    print(f'''percetunale di dimensioni drifttate:{ks_perc_test} ''')\n",
    "    print('different dimension:')\n",
    "    for el in ks_val.index[[np.where(ks_test < 0.05, True,False)]]:\n",
    "        print(el)\n",
    "else:\n",
    "    print(' Nessuna dimensione driftata')"
   ],
   "metadata": {
    "collapsed": false,
    "pycharm": {
     "name": "#%%\n"
    }
   }
  },
  {
   "cell_type": "markdown",
   "source": [],
   "metadata": {
    "collapsed": false
   }
  },
  {
   "cell_type": "code",
   "execution_count": 81,
   "outputs": [
    {
     "name": "stderr",
     "output_type": "stream",
     "text": [
      "c:\\users\\39320\\netlov\\lib\\site-packages\\numpy\\lib\\histograms.py:906: RuntimeWarning: divide by zero encountered in true_divide\n",
      "  return n/db/n.sum(), bin_edges\n",
      "c:\\users\\39320\\netlov\\lib\\site-packages\\numpy\\lib\\histograms.py:906: RuntimeWarning: invalid value encountered in true_divide\n",
      "  return n/db/n.sum(), bin_edges\n"
     ]
    },
    {
     "name": "stdout",
     "output_type": "stream",
     "text": [
      " Nessuna dimensione driftata\n"
     ]
    }
   ],
   "source": [
    "psi_test = pd.DataFrame(X_test).apply(lambda y :compute_1d_test(y,pd.DataFrame(X_train),'psi'))\n",
    "psi_perc_test = np.where(psi_test > 0.2, True,False).mean(axis = 0)\n",
    "if psi_perc_test > 0:\n",
    "    print(f'''percetunale di dimensioni drifttate:{psi_perc_test} ''')\n",
    "    print('different dimension:')\n",
    "    for el in psi_test.index[[np.where(psi_test > 0.2, True,False)]]:\n",
    "        print(el)\n",
    "else:\n",
    "    print(' Nessuna dimensione driftata')"
   ],
   "metadata": {
    "collapsed": false,
    "pycharm": {
     "name": "#%%\n"
    }
   }
  },
  {
   "cell_type": "code",
   "execution_count": 277,
   "outputs": [
    {
     "name": "stdout",
     "output_type": "stream",
     "text": [
      "corrected alpha for Sidak method: 0.0004238216860689148 \n",
      "corrected alpha for Bonferroni method: 0.0004132231404958678 \n",
      "Result: \n"
     ]
    },
    {
     "data": {
      "text/plain": "       0         1         2      3      4      5      6      7      8    \\\n0  0.99163  0.475375  0.805167    1.0    1.0    1.0    1.0    1.0    1.0   \n1      1.0       1.0       1.0    1.0    1.0    1.0    1.0    1.0    1.0   \n2    False     False     False  False  False  False  False  False  False   \n\n     9    ...    111       112    113    114    115    116    117    118  \\\n0    1.0  ...    1.0  0.999999    1.0    1.0    1.0    1.0    1.0    1.0   \n1    1.0  ...    1.0       1.0    1.0    1.0    1.0    1.0    1.0    1.0   \n2  False  ...  False     False  False  False  False  False  False  False   \n\n     119    120  \n0    1.0    1.0  \n1    1.0    1.0  \n2  False  False  \n\n[3 rows x 121 columns]",
      "text/html": "<div>\n<style scoped>\n    .dataframe tbody tr th:only-of-type {\n        vertical-align: middle;\n    }\n\n    .dataframe tbody tr th {\n        vertical-align: top;\n    }\n\n    .dataframe thead th {\n        text-align: right;\n    }\n</style>\n<table border=\"1\" class=\"dataframe\">\n  <thead>\n    <tr style=\"text-align: right;\">\n      <th></th>\n      <th>0</th>\n      <th>1</th>\n      <th>2</th>\n      <th>3</th>\n      <th>4</th>\n      <th>5</th>\n      <th>6</th>\n      <th>7</th>\n      <th>8</th>\n      <th>9</th>\n      <th>...</th>\n      <th>111</th>\n      <th>112</th>\n      <th>113</th>\n      <th>114</th>\n      <th>115</th>\n      <th>116</th>\n      <th>117</th>\n      <th>118</th>\n      <th>119</th>\n      <th>120</th>\n    </tr>\n  </thead>\n  <tbody>\n    <tr>\n      <th>0</th>\n      <td>0.99163</td>\n      <td>0.475375</td>\n      <td>0.805167</td>\n      <td>1.0</td>\n      <td>1.0</td>\n      <td>1.0</td>\n      <td>1.0</td>\n      <td>1.0</td>\n      <td>1.0</td>\n      <td>1.0</td>\n      <td>...</td>\n      <td>1.0</td>\n      <td>0.999999</td>\n      <td>1.0</td>\n      <td>1.0</td>\n      <td>1.0</td>\n      <td>1.0</td>\n      <td>1.0</td>\n      <td>1.0</td>\n      <td>1.0</td>\n      <td>1.0</td>\n    </tr>\n    <tr>\n      <th>1</th>\n      <td>1.0</td>\n      <td>1.0</td>\n      <td>1.0</td>\n      <td>1.0</td>\n      <td>1.0</td>\n      <td>1.0</td>\n      <td>1.0</td>\n      <td>1.0</td>\n      <td>1.0</td>\n      <td>1.0</td>\n      <td>...</td>\n      <td>1.0</td>\n      <td>1.0</td>\n      <td>1.0</td>\n      <td>1.0</td>\n      <td>1.0</td>\n      <td>1.0</td>\n      <td>1.0</td>\n      <td>1.0</td>\n      <td>1.0</td>\n      <td>1.0</td>\n    </tr>\n    <tr>\n      <th>2</th>\n      <td>False</td>\n      <td>False</td>\n      <td>False</td>\n      <td>False</td>\n      <td>False</td>\n      <td>False</td>\n      <td>False</td>\n      <td>False</td>\n      <td>False</td>\n      <td>False</td>\n      <td>...</td>\n      <td>False</td>\n      <td>False</td>\n      <td>False</td>\n      <td>False</td>\n      <td>False</td>\n      <td>False</td>\n      <td>False</td>\n      <td>False</td>\n      <td>False</td>\n      <td>False</td>\n    </tr>\n  </tbody>\n</table>\n<p>3 rows × 121 columns</p>\n</div>"
     },
     "execution_count": 277,
     "metadata": {},
     "output_type": "execute_result"
    }
   ],
   "source": [
    "print(f'corrected alpha for Sidak method: {corrected_res_val[2]} \\n'\n",
    "      f'corrected alpha for Bonferroni method: {corrected_res_val[3]} \\n'\n",
    "      f'Result: ')\n",
    "pd.DataFrame([np.array([el.pvalue for el in res_val]),corrected_res_val[1],corrected_res_val[0]])"
   ],
   "metadata": {
    "collapsed": false,
    "pycharm": {
     "name": "#%%\n"
    }
   }
  },
  {
   "cell_type": "code",
   "execution_count": 268,
   "outputs": [],
   "source": [
    "corrected_res_test, res_test = aggregated_1d(X_train,X_test)"
   ],
   "metadata": {
    "collapsed": false,
    "pycharm": {
     "name": "#%%\n"
    }
   }
  },
  {
   "cell_type": "code",
   "execution_count": 278,
   "outputs": [
    {
     "name": "stdout",
     "output_type": "stream",
     "text": [
      "corrected alpha for Sidak method: 0.0004238216860689148 \n",
      "corrected alpha for Bonferroni method: 0.0004132231404958678 \n",
      "Result: \n"
     ]
    },
    {
     "data": {
      "text/plain": "    0     1     2         3      4     5      6     7      8      9    ...  \\\n0   0.0   0.0   0.0  0.983302    1.0   0.0    1.0   0.0    1.0    1.0  ...   \n1   0.0   0.0   0.0       1.0    1.0   0.0    1.0   0.0    1.0    1.0  ...   \n2  True  True  True     False  False  True  False  True  False  False  ...   \n\n     111   112       113    114    115   116   117    118       119       120  \n0    1.0   0.0  0.997203    1.0    1.0   0.0   0.0    1.0  0.999868  0.999868  \n1    1.0   0.0       1.0    1.0    1.0   0.0   0.0    1.0       1.0       1.0  \n2  False  True     False  False  False  True  True  False     False     False  \n\n[3 rows x 121 columns]",
      "text/html": "<div>\n<style scoped>\n    .dataframe tbody tr th:only-of-type {\n        vertical-align: middle;\n    }\n\n    .dataframe tbody tr th {\n        vertical-align: top;\n    }\n\n    .dataframe thead th {\n        text-align: right;\n    }\n</style>\n<table border=\"1\" class=\"dataframe\">\n  <thead>\n    <tr style=\"text-align: right;\">\n      <th></th>\n      <th>0</th>\n      <th>1</th>\n      <th>2</th>\n      <th>3</th>\n      <th>4</th>\n      <th>5</th>\n      <th>6</th>\n      <th>7</th>\n      <th>8</th>\n      <th>9</th>\n      <th>...</th>\n      <th>111</th>\n      <th>112</th>\n      <th>113</th>\n      <th>114</th>\n      <th>115</th>\n      <th>116</th>\n      <th>117</th>\n      <th>118</th>\n      <th>119</th>\n      <th>120</th>\n    </tr>\n  </thead>\n  <tbody>\n    <tr>\n      <th>0</th>\n      <td>0.0</td>\n      <td>0.0</td>\n      <td>0.0</td>\n      <td>0.983302</td>\n      <td>1.0</td>\n      <td>0.0</td>\n      <td>1.0</td>\n      <td>0.0</td>\n      <td>1.0</td>\n      <td>1.0</td>\n      <td>...</td>\n      <td>1.0</td>\n      <td>0.0</td>\n      <td>0.997203</td>\n      <td>1.0</td>\n      <td>1.0</td>\n      <td>0.0</td>\n      <td>0.0</td>\n      <td>1.0</td>\n      <td>0.999868</td>\n      <td>0.999868</td>\n    </tr>\n    <tr>\n      <th>1</th>\n      <td>0.0</td>\n      <td>0.0</td>\n      <td>0.0</td>\n      <td>1.0</td>\n      <td>1.0</td>\n      <td>0.0</td>\n      <td>1.0</td>\n      <td>0.0</td>\n      <td>1.0</td>\n      <td>1.0</td>\n      <td>...</td>\n      <td>1.0</td>\n      <td>0.0</td>\n      <td>1.0</td>\n      <td>1.0</td>\n      <td>1.0</td>\n      <td>0.0</td>\n      <td>0.0</td>\n      <td>1.0</td>\n      <td>1.0</td>\n      <td>1.0</td>\n    </tr>\n    <tr>\n      <th>2</th>\n      <td>True</td>\n      <td>True</td>\n      <td>True</td>\n      <td>False</td>\n      <td>False</td>\n      <td>True</td>\n      <td>False</td>\n      <td>True</td>\n      <td>False</td>\n      <td>False</td>\n      <td>...</td>\n      <td>False</td>\n      <td>True</td>\n      <td>False</td>\n      <td>False</td>\n      <td>False</td>\n      <td>True</td>\n      <td>True</td>\n      <td>False</td>\n      <td>False</td>\n      <td>False</td>\n    </tr>\n  </tbody>\n</table>\n<p>3 rows × 121 columns</p>\n</div>"
     },
     "execution_count": 278,
     "metadata": {},
     "output_type": "execute_result"
    }
   ],
   "source": [
    "print(f'corrected alpha for Sidak method: {corrected_res_test[2]} \\n'\n",
    "      f'corrected alpha for Bonferroni method: {corrected_res_test[3]} \\n'\n",
    "      f'Result: ')\n",
    "pd.DataFrame([np.array([el.pvalue for el in res_test]),corrected_res_test[1],corrected_res_test[0]])"
   ],
   "metadata": {
    "collapsed": false,
    "pycharm": {
     "name": "#%%\n"
    }
   }
  },
  {
   "cell_type": "code",
   "execution_count": null,
   "outputs": [],
   "source": [],
   "metadata": {
    "collapsed": false,
    "pycharm": {
     "name": "#%%\n"
    }
   }
  }
 ],
 "metadata": {
  "kernelspec": {
   "display_name": "Python 3",
   "language": "python",
   "name": "python3"
  },
  "language_info": {
   "codemirror_mode": {
    "name": "ipython",
    "version": 2
   },
   "file_extension": ".py",
   "mimetype": "text/x-python",
   "name": "python",
   "nbconvert_exporter": "python",
   "pygments_lexer": "ipython2",
   "version": "2.7.6"
  }
 },
 "nbformat": 4,
 "nbformat_minor": 0
}